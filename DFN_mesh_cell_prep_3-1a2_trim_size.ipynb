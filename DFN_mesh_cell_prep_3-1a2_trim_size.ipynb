{
 "cells": [
  {
   "cell_type": "code",
   "execution_count": 1,
   "metadata": {},
   "outputs": [],
   "source": [
    "import pandas as pd"
   ]
  },
  {
   "cell_type": "code",
   "execution_count": 2,
   "metadata": {},
   "outputs": [],
   "source": [
    "data=pd.read_csv('processed_local_large_well_3_1c_dfn_corrected_locations.csv', float_precision='round_trip')"
   ]
  },
  {
   "cell_type": "code",
   "execution_count": 3,
   "metadata": {},
   "outputs": [
    {
     "data": {
      "text/html": [
       "<div>\n",
       "<style scoped>\n",
       "    .dataframe tbody tr th:only-of-type {\n",
       "        vertical-align: middle;\n",
       "    }\n",
       "\n",
       "    .dataframe tbody tr th {\n",
       "        vertical-align: top;\n",
       "    }\n",
       "\n",
       "    .dataframe thead th {\n",
       "        text-align: right;\n",
       "    }\n",
       "</style>\n",
       "<table border=\"1\" class=\"dataframe\">\n",
       "  <thead>\n",
       "    <tr style=\"text-align: right;\">\n",
       "      <th></th>\n",
       "      <th>Id</th>\n",
       "      <th>X</th>\n",
       "      <th>Y</th>\n",
       "      <th>Z</th>\n",
       "      <th>dX</th>\n",
       "      <th>dY</th>\n",
       "      <th>dZ</th>\n",
       "      <th>Porosity</th>\n",
       "      <th>kii</th>\n",
       "      <th>kjj</th>\n",
       "      <th>kkk</th>\n",
       "      <th>block</th>\n",
       "    </tr>\n",
       "  </thead>\n",
       "  <tbody>\n",
       "    <tr>\n",
       "      <th>count</th>\n",
       "      <td>3.920000e+06</td>\n",
       "      <td>3.920000e+06</td>\n",
       "      <td>3.920000e+06</td>\n",
       "      <td>3.920000e+06</td>\n",
       "      <td>3920000.0</td>\n",
       "      <td>3920000.0</td>\n",
       "      <td>3920000.0</td>\n",
       "      <td>3.920000e+06</td>\n",
       "      <td>3.920000e+06</td>\n",
       "      <td>3.920000e+06</td>\n",
       "      <td>3.920000e+06</td>\n",
       "      <td>3.920000e+06</td>\n",
       "    </tr>\n",
       "    <tr>\n",
       "      <th>mean</th>\n",
       "      <td>1.960000e+06</td>\n",
       "      <td>1.800000e+03</td>\n",
       "      <td>1.285000e+03</td>\n",
       "      <td>-4.750000e+02</td>\n",
       "      <td>10.0</td>\n",
       "      <td>10.0</td>\n",
       "      <td>10.0</td>\n",
       "      <td>7.011580e-03</td>\n",
       "      <td>3.596258e-16</td>\n",
       "      <td>3.590037e-16</td>\n",
       "      <td>3.634740e-16</td>\n",
       "      <td>1.981456e+00</td>\n",
       "    </tr>\n",
       "    <tr>\n",
       "      <th>std</th>\n",
       "      <td>1.131607e+06</td>\n",
       "      <td>4.041349e+02</td>\n",
       "      <td>4.041349e+02</td>\n",
       "      <td>5.773431e+02</td>\n",
       "      <td>0.0</td>\n",
       "      <td>0.0</td>\n",
       "      <td>0.0</td>\n",
       "      <td>1.558228e-02</td>\n",
       "      <td>2.288214e-15</td>\n",
       "      <td>2.288153e-15</td>\n",
       "      <td>2.287678e-15</td>\n",
       "      <td>1.349083e-01</td>\n",
       "    </tr>\n",
       "    <tr>\n",
       "      <th>min</th>\n",
       "      <td>0.000000e+00</td>\n",
       "      <td>1.105000e+03</td>\n",
       "      <td>5.900000e+02</td>\n",
       "      <td>-1.470000e+03</td>\n",
       "      <td>10.0</td>\n",
       "      <td>10.0</td>\n",
       "      <td>10.0</td>\n",
       "      <td>3.316340e-04</td>\n",
       "      <td>1.023090e-18</td>\n",
       "      <td>1.159695e-18</td>\n",
       "      <td>1.248545e-18</td>\n",
       "      <td>1.000000e+00</td>\n",
       "    </tr>\n",
       "    <tr>\n",
       "      <th>25%</th>\n",
       "      <td>9.799998e+05</td>\n",
       "      <td>1.452500e+03</td>\n",
       "      <td>9.375000e+02</td>\n",
       "      <td>-9.725000e+02</td>\n",
       "      <td>10.0</td>\n",
       "      <td>10.0</td>\n",
       "      <td>10.0</td>\n",
       "      <td>4.000989e-03</td>\n",
       "      <td>3.064653e-17</td>\n",
       "      <td>2.995086e-17</td>\n",
       "      <td>3.361155e-17</td>\n",
       "      <td>2.000000e+00</td>\n",
       "    </tr>\n",
       "    <tr>\n",
       "      <th>50%</th>\n",
       "      <td>1.960000e+06</td>\n",
       "      <td>1.800000e+03</td>\n",
       "      <td>1.285000e+03</td>\n",
       "      <td>-4.750000e+02</td>\n",
       "      <td>10.0</td>\n",
       "      <td>10.0</td>\n",
       "      <td>10.0</td>\n",
       "      <td>4.839924e-03</td>\n",
       "      <td>4.127464e-17</td>\n",
       "      <td>4.073920e-17</td>\n",
       "      <td>4.511994e-17</td>\n",
       "      <td>2.000000e+00</td>\n",
       "    </tr>\n",
       "    <tr>\n",
       "      <th>75%</th>\n",
       "      <td>2.939999e+06</td>\n",
       "      <td>2.147500e+03</td>\n",
       "      <td>1.632500e+03</td>\n",
       "      <td>2.250000e+01</td>\n",
       "      <td>10.0</td>\n",
       "      <td>10.0</td>\n",
       "      <td>10.0</td>\n",
       "      <td>5.758125e-03</td>\n",
       "      <td>5.422001e-17</td>\n",
       "      <td>5.401583e-17</td>\n",
       "      <td>5.909164e-17</td>\n",
       "      <td>2.000000e+00</td>\n",
       "    </tr>\n",
       "    <tr>\n",
       "      <th>max</th>\n",
       "      <td>3.919999e+06</td>\n",
       "      <td>2.495000e+03</td>\n",
       "      <td>1.980000e+03</td>\n",
       "      <td>5.200000e+02</td>\n",
       "      <td>10.0</td>\n",
       "      <td>10.0</td>\n",
       "      <td>10.0</td>\n",
       "      <td>1.200000e-01</td>\n",
       "      <td>1.700000e-14</td>\n",
       "      <td>1.700000e-14</td>\n",
       "      <td>1.700000e-14</td>\n",
       "      <td>2.000000e+00</td>\n",
       "    </tr>\n",
       "  </tbody>\n",
       "</table>\n",
       "</div>"
      ],
      "text/plain": [
       "                 Id             X             Y             Z         dX  \\\n",
       "count  3.920000e+06  3.920000e+06  3.920000e+06  3.920000e+06  3920000.0   \n",
       "mean   1.960000e+06  1.800000e+03  1.285000e+03 -4.750000e+02       10.0   \n",
       "std    1.131607e+06  4.041349e+02  4.041349e+02  5.773431e+02        0.0   \n",
       "min    0.000000e+00  1.105000e+03  5.900000e+02 -1.470000e+03       10.0   \n",
       "25%    9.799998e+05  1.452500e+03  9.375000e+02 -9.725000e+02       10.0   \n",
       "50%    1.960000e+06  1.800000e+03  1.285000e+03 -4.750000e+02       10.0   \n",
       "75%    2.939999e+06  2.147500e+03  1.632500e+03  2.250000e+01       10.0   \n",
       "max    3.919999e+06  2.495000e+03  1.980000e+03  5.200000e+02       10.0   \n",
       "\n",
       "              dY         dZ      Porosity           kii           kjj  \\\n",
       "count  3920000.0  3920000.0  3.920000e+06  3.920000e+06  3.920000e+06   \n",
       "mean        10.0       10.0  7.011580e-03  3.596258e-16  3.590037e-16   \n",
       "std          0.0        0.0  1.558228e-02  2.288214e-15  2.288153e-15   \n",
       "min         10.0       10.0  3.316340e-04  1.023090e-18  1.159695e-18   \n",
       "25%         10.0       10.0  4.000989e-03  3.064653e-17  2.995086e-17   \n",
       "50%         10.0       10.0  4.839924e-03  4.127464e-17  4.073920e-17   \n",
       "75%         10.0       10.0  5.758125e-03  5.422001e-17  5.401583e-17   \n",
       "max         10.0       10.0  1.200000e-01  1.700000e-14  1.700000e-14   \n",
       "\n",
       "                kkk         block  \n",
       "count  3.920000e+06  3.920000e+06  \n",
       "mean   3.634740e-16  1.981456e+00  \n",
       "std    2.287678e-15  1.349083e-01  \n",
       "min    1.248545e-18  1.000000e+00  \n",
       "25%    3.361155e-17  2.000000e+00  \n",
       "50%    4.511994e-17  2.000000e+00  \n",
       "75%    5.909164e-17  2.000000e+00  \n",
       "max    1.700000e-14  2.000000e+00  "
      ]
     },
     "execution_count": 3,
     "metadata": {},
     "output_type": "execute_result"
    }
   ],
   "source": [
    "data.describe()"
   ]
  },
  {
   "cell_type": "code",
   "execution_count": 4,
   "metadata": {},
   "outputs": [
    {
     "data": {
      "text/plain": [
       "(1105.0, 2495.0, 1800.0)"
      ]
     },
     "execution_count": 4,
     "metadata": {},
     "output_type": "execute_result"
    }
   ],
   "source": [
    "min (data.X), max (data.X), data['X'].median()"
   ]
  },
  {
   "cell_type": "code",
   "execution_count": 5,
   "metadata": {},
   "outputs": [
    {
     "data": {
      "text/plain": [
       "(590.0, 1980.0, 1285.0)"
      ]
     },
     "execution_count": 5,
     "metadata": {},
     "output_type": "execute_result"
    }
   ],
   "source": [
    "min (data.Y), max (data.Y), data['Y'].median()"
   ]
  },
  {
   "cell_type": "code",
   "execution_count": 6,
   "metadata": {},
   "outputs": [
    {
     "data": {
      "text/plain": [
       "(-1470, 520, -475.0)"
      ]
     },
     "execution_count": 6,
     "metadata": {},
     "output_type": "execute_result"
    }
   ],
   "source": [
    "min (data.Z), max (data.Z), data['Z'].median()"
   ]
  },
  {
   "cell_type": "markdown",
   "metadata": {},
   "source": [
    "need to manually calculate the translation distance based on injection location and bounds of the new/refine mesh versus the full domain mesh"
   ]
  },
  {
   "cell_type": "code",
   "execution_count": 7,
   "metadata": {},
   "outputs": [],
   "source": [
    "data2 = data.query('1690 <= X and 865 <= Y <= 1845 and Z <= -545')"
   ]
  },
  {
   "cell_type": "code",
   "execution_count": 8,
   "metadata": {},
   "outputs": [
    {
     "data": {
      "text/html": [
       "<div>\n",
       "<style scoped>\n",
       "    .dataframe tbody tr th:only-of-type {\n",
       "        vertical-align: middle;\n",
       "    }\n",
       "\n",
       "    .dataframe tbody tr th {\n",
       "        vertical-align: top;\n",
       "    }\n",
       "\n",
       "    .dataframe thead th {\n",
       "        text-align: right;\n",
       "    }\n",
       "</style>\n",
       "<table border=\"1\" class=\"dataframe\">\n",
       "  <thead>\n",
       "    <tr style=\"text-align: right;\">\n",
       "      <th></th>\n",
       "      <th>Id</th>\n",
       "      <th>X</th>\n",
       "      <th>Y</th>\n",
       "      <th>Z</th>\n",
       "      <th>dX</th>\n",
       "      <th>dY</th>\n",
       "      <th>dZ</th>\n",
       "      <th>Porosity</th>\n",
       "      <th>kii</th>\n",
       "      <th>kjj</th>\n",
       "      <th>kkk</th>\n",
       "      <th>block</th>\n",
       "    </tr>\n",
       "  </thead>\n",
       "  <tbody>\n",
       "    <tr>\n",
       "      <th>count</th>\n",
       "      <td>7.382340e+05</td>\n",
       "      <td>738234.000000</td>\n",
       "      <td>738234.000000</td>\n",
       "      <td>738234.000000</td>\n",
       "      <td>738234.0</td>\n",
       "      <td>738234.0</td>\n",
       "      <td>738234.0</td>\n",
       "      <td>738234.000000</td>\n",
       "      <td>7.382340e+05</td>\n",
       "      <td>7.382340e+05</td>\n",
       "      <td>7.382340e+05</td>\n",
       "      <td>738234.0</td>\n",
       "    </tr>\n",
       "    <tr>\n",
       "      <th>mean</th>\n",
       "      <td>2.784653e+06</td>\n",
       "      <td>2095.000000</td>\n",
       "      <td>1355.000000</td>\n",
       "      <td>-1010.000000</td>\n",
       "      <td>10.0</td>\n",
       "      <td>10.0</td>\n",
       "      <td>10.0</td>\n",
       "      <td>0.004954</td>\n",
       "      <td>5.550401e-17</td>\n",
       "      <td>5.402866e-17</td>\n",
       "      <td>5.945650e-17</td>\n",
       "      <td>2.0</td>\n",
       "    </tr>\n",
       "    <tr>\n",
       "      <th>std</th>\n",
       "      <td>6.546902e+05</td>\n",
       "      <td>233.809197</td>\n",
       "      <td>282.887095</td>\n",
       "      <td>268.452536</td>\n",
       "      <td>0.0</td>\n",
       "      <td>0.0</td>\n",
       "      <td>0.0</td>\n",
       "      <td>0.001261</td>\n",
       "      <td>1.408353e-16</td>\n",
       "      <td>1.274235e-16</td>\n",
       "      <td>1.394360e-16</td>\n",
       "      <td>0.0</td>\n",
       "    </tr>\n",
       "    <tr>\n",
       "      <th>min</th>\n",
       "      <td>1.654907e+06</td>\n",
       "      <td>1695.000000</td>\n",
       "      <td>870.000000</td>\n",
       "      <td>-1470.000000</td>\n",
       "      <td>10.0</td>\n",
       "      <td>10.0</td>\n",
       "      <td>10.0</td>\n",
       "      <td>0.000665</td>\n",
       "      <td>2.775858e-18</td>\n",
       "      <td>2.542627e-18</td>\n",
       "      <td>3.169784e-18</td>\n",
       "      <td>2.0</td>\n",
       "    </tr>\n",
       "    <tr>\n",
       "      <th>25%</th>\n",
       "      <td>2.219753e+06</td>\n",
       "      <td>1895.000000</td>\n",
       "      <td>1110.000000</td>\n",
       "      <td>-1240.000000</td>\n",
       "      <td>10.0</td>\n",
       "      <td>10.0</td>\n",
       "      <td>10.0</td>\n",
       "      <td>0.004069</td>\n",
       "      <td>3.144777e-17</td>\n",
       "      <td>3.093126e-17</td>\n",
       "      <td>3.438972e-17</td>\n",
       "      <td>2.0</td>\n",
       "    </tr>\n",
       "    <tr>\n",
       "      <th>50%</th>\n",
       "      <td>2.784653e+06</td>\n",
       "      <td>2095.000000</td>\n",
       "      <td>1355.000000</td>\n",
       "      <td>-1010.000000</td>\n",
       "      <td>10.0</td>\n",
       "      <td>10.0</td>\n",
       "      <td>10.0</td>\n",
       "      <td>0.004886</td>\n",
       "      <td>4.197113e-17</td>\n",
       "      <td>4.170371e-17</td>\n",
       "      <td>4.580640e-17</td>\n",
       "      <td>2.0</td>\n",
       "    </tr>\n",
       "    <tr>\n",
       "      <th>75%</th>\n",
       "      <td>3.349553e+06</td>\n",
       "      <td>2295.000000</td>\n",
       "      <td>1600.000000</td>\n",
       "      <td>-780.000000</td>\n",
       "      <td>10.0</td>\n",
       "      <td>10.0</td>\n",
       "      <td>10.0</td>\n",
       "      <td>0.005764</td>\n",
       "      <td>5.455433e-17</td>\n",
       "      <td>5.476200e-17</td>\n",
       "      <td>5.955900e-17</td>\n",
       "      <td>2.0</td>\n",
       "    </tr>\n",
       "    <tr>\n",
       "      <th>max</th>\n",
       "      <td>3.914399e+06</td>\n",
       "      <td>2495.000000</td>\n",
       "      <td>1840.000000</td>\n",
       "      <td>-550.000000</td>\n",
       "      <td>10.0</td>\n",
       "      <td>10.0</td>\n",
       "      <td>10.0</td>\n",
       "      <td>0.011929</td>\n",
       "      <td>6.953506e-15</td>\n",
       "      <td>5.369247e-15</td>\n",
       "      <td>6.139129e-15</td>\n",
       "      <td>2.0</td>\n",
       "    </tr>\n",
       "  </tbody>\n",
       "</table>\n",
       "</div>"
      ],
      "text/plain": [
       "                 Id              X              Y              Z        dX  \\\n",
       "count  7.382340e+05  738234.000000  738234.000000  738234.000000  738234.0   \n",
       "mean   2.784653e+06    2095.000000    1355.000000   -1010.000000      10.0   \n",
       "std    6.546902e+05     233.809197     282.887095     268.452536       0.0   \n",
       "min    1.654907e+06    1695.000000     870.000000   -1470.000000      10.0   \n",
       "25%    2.219753e+06    1895.000000    1110.000000   -1240.000000      10.0   \n",
       "50%    2.784653e+06    2095.000000    1355.000000   -1010.000000      10.0   \n",
       "75%    3.349553e+06    2295.000000    1600.000000    -780.000000      10.0   \n",
       "max    3.914399e+06    2495.000000    1840.000000    -550.000000      10.0   \n",
       "\n",
       "             dY        dZ       Porosity           kii           kjj  \\\n",
       "count  738234.0  738234.0  738234.000000  7.382340e+05  7.382340e+05   \n",
       "mean       10.0      10.0       0.004954  5.550401e-17  5.402866e-17   \n",
       "std         0.0       0.0       0.001261  1.408353e-16  1.274235e-16   \n",
       "min        10.0      10.0       0.000665  2.775858e-18  2.542627e-18   \n",
       "25%        10.0      10.0       0.004069  3.144777e-17  3.093126e-17   \n",
       "50%        10.0      10.0       0.004886  4.197113e-17  4.170371e-17   \n",
       "75%        10.0      10.0       0.005764  5.455433e-17  5.476200e-17   \n",
       "max        10.0      10.0       0.011929  6.953506e-15  5.369247e-15   \n",
       "\n",
       "                kkk     block  \n",
       "count  7.382340e+05  738234.0  \n",
       "mean   5.945650e-17       2.0  \n",
       "std    1.394360e-16       0.0  \n",
       "min    3.169784e-18       2.0  \n",
       "25%    3.438972e-17       2.0  \n",
       "50%    4.580640e-17       2.0  \n",
       "75%    5.955900e-17       2.0  \n",
       "max    6.139129e-15       2.0  "
      ]
     },
     "execution_count": 8,
     "metadata": {},
     "output_type": "execute_result"
    }
   ],
   "source": [
    "data2.describe()"
   ]
  },
  {
   "cell_type": "code",
   "execution_count": 144,
   "metadata": {},
   "outputs": [],
   "source": []
  },
  {
   "cell_type": "markdown",
   "metadata": {},
   "source": [
    "now verify translation was correct, and also chck the bounds to make sure still within the full domain"
   ]
  },
  {
   "cell_type": "code",
   "execution_count": 9,
   "metadata": {},
   "outputs": [
    {
     "data": {
      "text/plain": [
       "(1695.0, 2495.0, 2095.0)"
      ]
     },
     "execution_count": 9,
     "metadata": {},
     "output_type": "execute_result"
    }
   ],
   "source": [
    "min (data2.X), max (data2.X), data2['X'].median()"
   ]
  },
  {
   "cell_type": "code",
   "execution_count": 10,
   "metadata": {},
   "outputs": [
    {
     "data": {
      "text/plain": [
       "(870.0, 1840.0, -1010.0)"
      ]
     },
     "execution_count": 10,
     "metadata": {},
     "output_type": "execute_result"
    }
   ],
   "source": [
    "min (data2.Y), max (data2.Y), data2['Z'].median()"
   ]
  },
  {
   "cell_type": "code",
   "execution_count": 11,
   "metadata": {},
   "outputs": [
    {
     "data": {
      "text/plain": [
       "(-1470, -550, -1010.0)"
      ]
     },
     "execution_count": 11,
     "metadata": {},
     "output_type": "execute_result"
    }
   ],
   "source": [
    "min (data2.Z), max (data2.Z), data2['Z'].median()"
   ]
  },
  {
   "cell_type": "code",
   "execution_count": 12,
   "metadata": {},
   "outputs": [],
   "source": [
    "a = data2.sort_values([\"Z\",\"Y\",\"X\"], ascending = [True, True, True])"
   ]
  },
  {
   "cell_type": "code",
   "execution_count": null,
   "metadata": {},
   "outputs": [],
   "source": []
  },
  {
   "cell_type": "code",
   "execution_count": null,
   "metadata": {},
   "outputs": [],
   "source": []
  },
  {
   "cell_type": "markdown",
   "metadata": {},
   "source": [
    "now can write the data to a CSV file."
   ]
  },
  {
   "cell_type": "code",
   "execution_count": 13,
   "metadata": {},
   "outputs": [],
   "source": [
    "a.to_csv(\"2019_08_29_3_1a2_cell.csv\", encoding='utf-8', index=False)"
   ]
  },
  {
   "cell_type": "code",
   "execution_count": 14,
   "metadata": {},
   "outputs": [],
   "source": [
    "data2.describe().to_csv(\"2019_08_29_3_1a2_cell_summary.csv\")"
   ]
  }
 ],
 "metadata": {
  "kernelspec": {
   "display_name": "Python 3",
   "language": "python",
   "name": "python3"
  },
  "language_info": {
   "codemirror_mode": {
    "name": "ipython",
    "version": 3
   },
   "file_extension": ".py",
   "mimetype": "text/x-python",
   "name": "python",
   "nbconvert_exporter": "python",
   "pygments_lexer": "ipython3",
   "version": "3.7.3"
  }
 },
 "nbformat": 4,
 "nbformat_minor": 2
}
