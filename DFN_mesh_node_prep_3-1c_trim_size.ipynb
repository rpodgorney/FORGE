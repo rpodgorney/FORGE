{
 "cells": [
  {
   "cell_type": "code",
   "execution_count": 41,
   "metadata": {},
   "outputs": [],
   "source": [
    "import pandas as pd"
   ]
  },
  {
   "cell_type": "code",
   "execution_count": 42,
   "metadata": {},
   "outputs": [],
   "source": [
    "data=pd.read_csv('large_well_3-1c_node_correct_locations.csv', float_precision='round_trip')"
   ]
  },
  {
   "cell_type": "code",
   "execution_count": 43,
   "metadata": {},
   "outputs": [
    {
     "data": {
      "text/html": [
       "<div>\n",
       "<style scoped>\n",
       "    .dataframe tbody tr th:only-of-type {\n",
       "        vertical-align: middle;\n",
       "    }\n",
       "\n",
       "    .dataframe tbody tr th {\n",
       "        vertical-align: top;\n",
       "    }\n",
       "\n",
       "    .dataframe thead th {\n",
       "        text-align: right;\n",
       "    }\n",
       "</style>\n",
       "<table border=\"1\" class=\"dataframe\">\n",
       "  <thead>\n",
       "    <tr style=\"text-align: right;\">\n",
       "      <th></th>\n",
       "      <th>Id</th>\n",
       "      <th>X</th>\n",
       "      <th>Y</th>\n",
       "      <th>Z</th>\n",
       "      <th>dX</th>\n",
       "      <th>dY</th>\n",
       "      <th>dZ</th>\n",
       "      <th>pressure</th>\n",
       "      <th>disp_k_bc</th>\n",
       "      <th>disp_j_bc</th>\n",
       "      <th>disp_i_bc</th>\n",
       "      <th>vertical</th>\n",
       "      <th>h_max</th>\n",
       "      <th>h_min</th>\n",
       "      <th>temperature</th>\n",
       "    </tr>\n",
       "  </thead>\n",
       "  <tbody>\n",
       "    <tr>\n",
       "      <th>count</th>\n",
       "      <td>3.996081e+06</td>\n",
       "      <td>3.996081e+06</td>\n",
       "      <td>3.996081e+06</td>\n",
       "      <td>3.996081e+06</td>\n",
       "      <td>3996081.0</td>\n",
       "      <td>3996081.0</td>\n",
       "      <td>3996081.0</td>\n",
       "      <td>3.996081e+06</td>\n",
       "      <td>3.996081e+06</td>\n",
       "      <td>3.996081e+06</td>\n",
       "      <td>3.996081e+06</td>\n",
       "      <td>3.996081e+06</td>\n",
       "      <td>3.996081e+06</td>\n",
       "      <td>3.996081e+06</td>\n",
       "      <td>3.996081e+06</td>\n",
       "    </tr>\n",
       "    <tr>\n",
       "      <th>mean</th>\n",
       "      <td>1.998040e+06</td>\n",
       "      <td>1.800000e+03</td>\n",
       "      <td>1.285000e+03</td>\n",
       "      <td>-4.750000e+02</td>\n",
       "      <td>10.0</td>\n",
       "      <td>10.0</td>\n",
       "      <td>10.0</td>\n",
       "      <td>1.907139e+07</td>\n",
       "      <td>-5.420845e+07</td>\n",
       "      <td>-3.791012e+07</td>\n",
       "      <td>-3.208800e+07</td>\n",
       "      <td>-3.513706e+07</td>\n",
       "      <td>-1.883873e+07</td>\n",
       "      <td>-1.301661e+07</td>\n",
       "      <td>4.675622e+02</td>\n",
       "    </tr>\n",
       "    <tr>\n",
       "      <th>std</th>\n",
       "      <td>1.153569e+06</td>\n",
       "      <td>4.070218e+02</td>\n",
       "      <td>4.070218e+02</td>\n",
       "      <td>5.802299e+02</td>\n",
       "      <td>0.0</td>\n",
       "      <td>0.0</td>\n",
       "      <td>0.0</td>\n",
       "      <td>5.015264e+06</td>\n",
       "      <td>1.549828e+07</td>\n",
       "      <td>1.011846e+07</td>\n",
       "      <td>8.509904e+06</td>\n",
       "      <td>1.048665e+07</td>\n",
       "      <td>5.109407e+06</td>\n",
       "      <td>3.500167e+06</td>\n",
       "      <td>3.737505e+01</td>\n",
       "    </tr>\n",
       "    <tr>\n",
       "      <th>min</th>\n",
       "      <td>0.000000e+00</td>\n",
       "      <td>1.100000e+03</td>\n",
       "      <td>5.850000e+02</td>\n",
       "      <td>-1.475000e+03</td>\n",
       "      <td>10.0</td>\n",
       "      <td>10.0</td>\n",
       "      <td>10.0</td>\n",
       "      <td>1.009267e+07</td>\n",
       "      <td>-8.139590e+07</td>\n",
       "      <td>-5.584870e+07</td>\n",
       "      <td>-4.706967e+07</td>\n",
       "      <td>-5.391444e+07</td>\n",
       "      <td>-2.836785e+07</td>\n",
       "      <td>-1.951185e+07</td>\n",
       "      <td>3.848821e+02</td>\n",
       "    </tr>\n",
       "    <tr>\n",
       "      <th>25%</th>\n",
       "      <td>9.990200e+05</td>\n",
       "      <td>1.450000e+03</td>\n",
       "      <td>9.350000e+02</td>\n",
       "      <td>-9.750000e+02</td>\n",
       "      <td>10.0</td>\n",
       "      <td>10.0</td>\n",
       "      <td>10.0</td>\n",
       "      <td>1.473932e+07</td>\n",
       "      <td>-6.761500e+07</td>\n",
       "      <td>-4.664333e+07</td>\n",
       "      <td>-3.943993e+07</td>\n",
       "      <td>-4.417102e+07</td>\n",
       "      <td>-2.320151e+07</td>\n",
       "      <td>-1.599391e+07</td>\n",
       "      <td>4.365562e+02</td>\n",
       "    </tr>\n",
       "    <tr>\n",
       "      <th>50%</th>\n",
       "      <td>1.998040e+06</td>\n",
       "      <td>1.800000e+03</td>\n",
       "      <td>1.285000e+03</td>\n",
       "      <td>-4.750000e+02</td>\n",
       "      <td>10.0</td>\n",
       "      <td>10.0</td>\n",
       "      <td>10.0</td>\n",
       "      <td>1.917151e+07</td>\n",
       "      <td>-5.417420e+07</td>\n",
       "      <td>-3.787501e+07</td>\n",
       "      <td>-3.206138e+07</td>\n",
       "      <td>-3.500730e+07</td>\n",
       "      <td>-1.870522e+07</td>\n",
       "      <td>-1.289742e+07</td>\n",
       "      <td>4.688123e+02</td>\n",
       "    </tr>\n",
       "    <tr>\n",
       "      <th>75%</th>\n",
       "      <td>2.997060e+06</td>\n",
       "      <td>2.150000e+03</td>\n",
       "      <td>1.635000e+03</td>\n",
       "      <td>2.500000e+01</td>\n",
       "      <td>10.0</td>\n",
       "      <td>10.0</td>\n",
       "      <td>10.0</td>\n",
       "      <td>2.343143e+07</td>\n",
       "      <td>-4.080464e+07</td>\n",
       "      <td>-2.918667e+07</td>\n",
       "      <td>-2.475745e+07</td>\n",
       "      <td>-2.605590e+07</td>\n",
       "      <td>-1.443495e+07</td>\n",
       "      <td>-1.001722e+07</td>\n",
       "      <td>4.999404e+02</td>\n",
       "    </tr>\n",
       "    <tr>\n",
       "      <th>max</th>\n",
       "      <td>3.996080e+06</td>\n",
       "      <td>2.500000e+03</td>\n",
       "      <td>1.985000e+03</td>\n",
       "      <td>5.250000e+02</td>\n",
       "      <td>10.0</td>\n",
       "      <td>10.0</td>\n",
       "      <td>10.0</td>\n",
       "      <td>2.757207e+07</td>\n",
       "      <td>-2.613072e+07</td>\n",
       "      <td>-1.907780e+07</td>\n",
       "      <td>-1.617561e+07</td>\n",
       "      <td>-1.602479e+07</td>\n",
       "      <td>-8.958273e+06</td>\n",
       "      <td>-6.049752e+06</td>\n",
       "      <td>5.346950e+02</td>\n",
       "    </tr>\n",
       "  </tbody>\n",
       "</table>\n",
       "</div>"
      ],
      "text/plain": [
       "                 Id             X             Y             Z         dX  \\\n",
       "count  3.996081e+06  3.996081e+06  3.996081e+06  3.996081e+06  3996081.0   \n",
       "mean   1.998040e+06  1.800000e+03  1.285000e+03 -4.750000e+02       10.0   \n",
       "std    1.153569e+06  4.070218e+02  4.070218e+02  5.802299e+02        0.0   \n",
       "min    0.000000e+00  1.100000e+03  5.850000e+02 -1.475000e+03       10.0   \n",
       "25%    9.990200e+05  1.450000e+03  9.350000e+02 -9.750000e+02       10.0   \n",
       "50%    1.998040e+06  1.800000e+03  1.285000e+03 -4.750000e+02       10.0   \n",
       "75%    2.997060e+06  2.150000e+03  1.635000e+03  2.500000e+01       10.0   \n",
       "max    3.996080e+06  2.500000e+03  1.985000e+03  5.250000e+02       10.0   \n",
       "\n",
       "              dY         dZ      pressure     disp_k_bc     disp_j_bc  \\\n",
       "count  3996081.0  3996081.0  3.996081e+06  3.996081e+06  3.996081e+06   \n",
       "mean        10.0       10.0  1.907139e+07 -5.420845e+07 -3.791012e+07   \n",
       "std          0.0        0.0  5.015264e+06  1.549828e+07  1.011846e+07   \n",
       "min         10.0       10.0  1.009267e+07 -8.139590e+07 -5.584870e+07   \n",
       "25%         10.0       10.0  1.473932e+07 -6.761500e+07 -4.664333e+07   \n",
       "50%         10.0       10.0  1.917151e+07 -5.417420e+07 -3.787501e+07   \n",
       "75%         10.0       10.0  2.343143e+07 -4.080464e+07 -2.918667e+07   \n",
       "max         10.0       10.0  2.757207e+07 -2.613072e+07 -1.907780e+07   \n",
       "\n",
       "          disp_i_bc      vertical         h_max         h_min   temperature  \n",
       "count  3.996081e+06  3.996081e+06  3.996081e+06  3.996081e+06  3.996081e+06  \n",
       "mean  -3.208800e+07 -3.513706e+07 -1.883873e+07 -1.301661e+07  4.675622e+02  \n",
       "std    8.509904e+06  1.048665e+07  5.109407e+06  3.500167e+06  3.737505e+01  \n",
       "min   -4.706967e+07 -5.391444e+07 -2.836785e+07 -1.951185e+07  3.848821e+02  \n",
       "25%   -3.943993e+07 -4.417102e+07 -2.320151e+07 -1.599391e+07  4.365562e+02  \n",
       "50%   -3.206138e+07 -3.500730e+07 -1.870522e+07 -1.289742e+07  4.688123e+02  \n",
       "75%   -2.475745e+07 -2.605590e+07 -1.443495e+07 -1.001722e+07  4.999404e+02  \n",
       "max   -1.617561e+07 -1.602479e+07 -8.958273e+06 -6.049752e+06  5.346950e+02  "
      ]
     },
     "execution_count": 43,
     "metadata": {},
     "output_type": "execute_result"
    }
   ],
   "source": [
    "data.describe()"
   ]
  },
  {
   "cell_type": "code",
   "execution_count": 44,
   "metadata": {},
   "outputs": [
    {
     "data": {
      "text/plain": [
       "(1100, 2500, 1800.0)"
      ]
     },
     "execution_count": 44,
     "metadata": {},
     "output_type": "execute_result"
    }
   ],
   "source": [
    "min (data.X), max (data.X), data['X'].median()"
   ]
  },
  {
   "cell_type": "code",
   "execution_count": 45,
   "metadata": {},
   "outputs": [
    {
     "data": {
      "text/plain": [
       "(585, 1985, 1285.0)"
      ]
     },
     "execution_count": 45,
     "metadata": {},
     "output_type": "execute_result"
    }
   ],
   "source": [
    "min (data.Y), max (data.Y), data['Y'].median()"
   ]
  },
  {
   "cell_type": "code",
   "execution_count": 46,
   "metadata": {},
   "outputs": [
    {
     "data": {
      "text/plain": [
       "(-1475, 525, -475.0)"
      ]
     },
     "execution_count": 46,
     "metadata": {},
     "output_type": "execute_result"
    }
   ],
   "source": [
    "min (data.Z), max (data.Z), data['Z'].median()"
   ]
  },
  {
   "cell_type": "markdown",
   "metadata": {},
   "source": [
    "Trim mesh size based on size of stimulated volume"
   ]
  },
  {
   "cell_type": "code",
   "execution_count": 47,
   "metadata": {},
   "outputs": [],
   "source": [
    "data2 = data.query('1440 <= X <= 2370 and 825 <= Y <= 1805 and -1185 <= Z <= -215')"
   ]
  },
  {
   "cell_type": "code",
   "execution_count": 48,
   "metadata": {},
   "outputs": [
    {
     "data": {
      "text/html": [
       "<div>\n",
       "<style scoped>\n",
       "    .dataframe tbody tr th:only-of-type {\n",
       "        vertical-align: middle;\n",
       "    }\n",
       "\n",
       "    .dataframe tbody tr th {\n",
       "        vertical-align: top;\n",
       "    }\n",
       "\n",
       "    .dataframe thead th {\n",
       "        text-align: right;\n",
       "    }\n",
       "</style>\n",
       "<table border=\"1\" class=\"dataframe\">\n",
       "  <thead>\n",
       "    <tr style=\"text-align: right;\">\n",
       "      <th></th>\n",
       "      <th>Id</th>\n",
       "      <th>X</th>\n",
       "      <th>Y</th>\n",
       "      <th>Z</th>\n",
       "      <th>dX</th>\n",
       "      <th>dY</th>\n",
       "      <th>dZ</th>\n",
       "      <th>pressure</th>\n",
       "      <th>disp_k_bc</th>\n",
       "      <th>disp_j_bc</th>\n",
       "      <th>disp_i_bc</th>\n",
       "      <th>vertical</th>\n",
       "      <th>h_max</th>\n",
       "      <th>h_min</th>\n",
       "      <th>temperature</th>\n",
       "    </tr>\n",
       "  </thead>\n",
       "  <tbody>\n",
       "    <tr>\n",
       "      <th>count</th>\n",
       "      <td>9.119880e+05</td>\n",
       "      <td>911988.00000</td>\n",
       "      <td>911988.00000</td>\n",
       "      <td>911988.000000</td>\n",
       "      <td>911988.0</td>\n",
       "      <td>911988.0</td>\n",
       "      <td>911988.0</td>\n",
       "      <td>9.119880e+05</td>\n",
       "      <td>9.119880e+05</td>\n",
       "      <td>9.119880e+05</td>\n",
       "      <td>9.119880e+05</td>\n",
       "      <td>9.119880e+05</td>\n",
       "      <td>9.119880e+05</td>\n",
       "      <td>9.119880e+05</td>\n",
       "      <td>911988.000000</td>\n",
       "    </tr>\n",
       "    <tr>\n",
       "      <th>mean</th>\n",
       "      <td>1.551151e+06</td>\n",
       "      <td>1905.00000</td>\n",
       "      <td>1315.00000</td>\n",
       "      <td>-700.000000</td>\n",
       "      <td>10.0</td>\n",
       "      <td>10.0</td>\n",
       "      <td>10.0</td>\n",
       "      <td>2.108028e+07</td>\n",
       "      <td>-6.030897e+07</td>\n",
       "      <td>-4.187702e+07</td>\n",
       "      <td>-3.533204e+07</td>\n",
       "      <td>-3.922869e+07</td>\n",
       "      <td>-2.079674e+07</td>\n",
       "      <td>-1.425176e+07</td>\n",
       "      <td>483.430592</td>\n",
       "    </tr>\n",
       "    <tr>\n",
       "      <th>std</th>\n",
       "      <td>5.624222e+05</td>\n",
       "      <td>271.33942</td>\n",
       "      <td>285.77396</td>\n",
       "      <td>282.887058</td>\n",
       "      <td>0.0</td>\n",
       "      <td>0.0</td>\n",
       "      <td>0.0</td>\n",
       "      <td>2.406830e+06</td>\n",
       "      <td>7.565659e+06</td>\n",
       "      <td>4.940602e+06</td>\n",
       "      <td>4.146618e+06</td>\n",
       "      <td>5.160950e+06</td>\n",
       "      <td>2.537589e+06</td>\n",
       "      <td>1.741269e+06</td>\n",
       "      <td>17.892149</td>\n",
       "    </tr>\n",
       "    <tr>\n",
       "      <th>min</th>\n",
       "      <td>5.799670e+05</td>\n",
       "      <td>1440.00000</td>\n",
       "      <td>825.00000</td>\n",
       "      <td>-1185.000000</td>\n",
       "      <td>10.0</td>\n",
       "      <td>10.0</td>\n",
       "      <td>10.0</td>\n",
       "      <td>1.686671e+07</td>\n",
       "      <td>-7.376786e+07</td>\n",
       "      <td>-5.074532e+07</td>\n",
       "      <td>-4.266025e+07</td>\n",
       "      <td>-4.862149e+07</td>\n",
       "      <td>-2.559263e+07</td>\n",
       "      <td>-1.748877e+07</td>\n",
       "      <td>442.581259</td>\n",
       "    </tr>\n",
       "    <tr>\n",
       "      <th>25%</th>\n",
       "      <td>1.064067e+06</td>\n",
       "      <td>1670.00000</td>\n",
       "      <td>1065.00000</td>\n",
       "      <td>-945.000000</td>\n",
       "      <td>10.0</td>\n",
       "      <td>10.0</td>\n",
       "      <td>10.0</td>\n",
       "      <td>1.900341e+07</td>\n",
       "      <td>-6.685340e+07</td>\n",
       "      <td>-4.614564e+07</td>\n",
       "      <td>-3.891470e+07</td>\n",
       "      <td>-4.368037e+07</td>\n",
       "      <td>-2.297420e+07</td>\n",
       "      <td>-1.574560e+07</td>\n",
       "      <td>468.354018</td>\n",
       "    </tr>\n",
       "    <tr>\n",
       "      <th>50%</th>\n",
       "      <td>1.551151e+06</td>\n",
       "      <td>1905.00000</td>\n",
       "      <td>1315.00000</td>\n",
       "      <td>-700.000000</td>\n",
       "      <td>10.0</td>\n",
       "      <td>10.0</td>\n",
       "      <td>10.0</td>\n",
       "      <td>2.110084e+07</td>\n",
       "      <td>-6.029835e+07</td>\n",
       "      <td>-4.186685e+07</td>\n",
       "      <td>-3.532507e+07</td>\n",
       "      <td>-3.919489e+07</td>\n",
       "      <td>-2.076134e+07</td>\n",
       "      <td>-1.422173e+07</td>\n",
       "      <td>483.751011</td>\n",
       "    </tr>\n",
       "    <tr>\n",
       "      <th>75%</th>\n",
       "      <td>2.038235e+06</td>\n",
       "      <td>2140.00000</td>\n",
       "      <td>1565.00000</td>\n",
       "      <td>-455.000000</td>\n",
       "      <td>10.0</td>\n",
       "      <td>10.0</td>\n",
       "      <td>10.0</td>\n",
       "      <td>2.317124e+07</td>\n",
       "      <td>-5.376060e+07</td>\n",
       "      <td>-3.759869e+07</td>\n",
       "      <td>-3.174144e+07</td>\n",
       "      <td>-3.475717e+07</td>\n",
       "      <td>-1.859777e+07</td>\n",
       "      <td>-1.273789e+07</td>\n",
       "      <td>498.762600</td>\n",
       "    </tr>\n",
       "    <tr>\n",
       "      <th>max</th>\n",
       "      <td>2.522335e+06</td>\n",
       "      <td>2370.00000</td>\n",
       "      <td>1805.00000</td>\n",
       "      <td>-215.000000</td>\n",
       "      <td>10.0</td>\n",
       "      <td>10.0</td>\n",
       "      <td>10.0</td>\n",
       "      <td>2.517935e+07</td>\n",
       "      <td>-4.668358e+07</td>\n",
       "      <td>-3.303918e+07</td>\n",
       "      <td>-2.792632e+07</td>\n",
       "      <td>-2.981452e+07</td>\n",
       "      <td>-1.617247e+07</td>\n",
       "      <td>-1.099505e+07</td>\n",
       "      <td>518.181582</td>\n",
       "    </tr>\n",
       "  </tbody>\n",
       "</table>\n",
       "</div>"
      ],
      "text/plain": [
       "                 Id             X             Y              Z        dX  \\\n",
       "count  9.119880e+05  911988.00000  911988.00000  911988.000000  911988.0   \n",
       "mean   1.551151e+06    1905.00000    1315.00000    -700.000000      10.0   \n",
       "std    5.624222e+05     271.33942     285.77396     282.887058       0.0   \n",
       "min    5.799670e+05    1440.00000     825.00000   -1185.000000      10.0   \n",
       "25%    1.064067e+06    1670.00000    1065.00000    -945.000000      10.0   \n",
       "50%    1.551151e+06    1905.00000    1315.00000    -700.000000      10.0   \n",
       "75%    2.038235e+06    2140.00000    1565.00000    -455.000000      10.0   \n",
       "max    2.522335e+06    2370.00000    1805.00000    -215.000000      10.0   \n",
       "\n",
       "             dY        dZ      pressure     disp_k_bc     disp_j_bc  \\\n",
       "count  911988.0  911988.0  9.119880e+05  9.119880e+05  9.119880e+05   \n",
       "mean       10.0      10.0  2.108028e+07 -6.030897e+07 -4.187702e+07   \n",
       "std         0.0       0.0  2.406830e+06  7.565659e+06  4.940602e+06   \n",
       "min        10.0      10.0  1.686671e+07 -7.376786e+07 -5.074532e+07   \n",
       "25%        10.0      10.0  1.900341e+07 -6.685340e+07 -4.614564e+07   \n",
       "50%        10.0      10.0  2.110084e+07 -6.029835e+07 -4.186685e+07   \n",
       "75%        10.0      10.0  2.317124e+07 -5.376060e+07 -3.759869e+07   \n",
       "max        10.0      10.0  2.517935e+07 -4.668358e+07 -3.303918e+07   \n",
       "\n",
       "          disp_i_bc      vertical         h_max         h_min    temperature  \n",
       "count  9.119880e+05  9.119880e+05  9.119880e+05  9.119880e+05  911988.000000  \n",
       "mean  -3.533204e+07 -3.922869e+07 -2.079674e+07 -1.425176e+07     483.430592  \n",
       "std    4.146618e+06  5.160950e+06  2.537589e+06  1.741269e+06      17.892149  \n",
       "min   -4.266025e+07 -4.862149e+07 -2.559263e+07 -1.748877e+07     442.581259  \n",
       "25%   -3.891470e+07 -4.368037e+07 -2.297420e+07 -1.574560e+07     468.354018  \n",
       "50%   -3.532507e+07 -3.919489e+07 -2.076134e+07 -1.422173e+07     483.751011  \n",
       "75%   -3.174144e+07 -3.475717e+07 -1.859777e+07 -1.273789e+07     498.762600  \n",
       "max   -2.792632e+07 -2.981452e+07 -1.617247e+07 -1.099505e+07     518.181582  "
      ]
     },
     "execution_count": 48,
     "metadata": {},
     "output_type": "execute_result"
    }
   ],
   "source": [
    "data2.describe()"
   ]
  },
  {
   "cell_type": "code",
   "execution_count": 144,
   "metadata": {},
   "outputs": [],
   "source": []
  },
  {
   "cell_type": "markdown",
   "metadata": {},
   "source": [
    "now verify trim was correct"
   ]
  },
  {
   "cell_type": "code",
   "execution_count": 49,
   "metadata": {},
   "outputs": [
    {
     "data": {
      "text/plain": [
       "(1440, 2370, 1905.0)"
      ]
     },
     "execution_count": 49,
     "metadata": {},
     "output_type": "execute_result"
    }
   ],
   "source": [
    "min (data2.X), max (data2.X), data2['X'].median()"
   ]
  },
  {
   "cell_type": "code",
   "execution_count": 50,
   "metadata": {},
   "outputs": [
    {
     "data": {
      "text/plain": [
       "(825, 1805, -700.0)"
      ]
     },
     "execution_count": 50,
     "metadata": {},
     "output_type": "execute_result"
    }
   ],
   "source": [
    "min (data2.Y), max (data2.Y), data2['Z'].median()"
   ]
  },
  {
   "cell_type": "code",
   "execution_count": 51,
   "metadata": {},
   "outputs": [
    {
     "data": {
      "text/plain": [
       "(-1185, -215, -700.0)"
      ]
     },
     "execution_count": 51,
     "metadata": {},
     "output_type": "execute_result"
    }
   ],
   "source": [
    "min (data2.Z), max (data2.Z), data2['Z'].median()"
   ]
  },
  {
   "cell_type": "code",
   "execution_count": 52,
   "metadata": {},
   "outputs": [],
   "source": [
    "a = data2.sort_values([\"Z\",\"Y\",\"X\"], ascending = [True, True, True])"
   ]
  },
  {
   "cell_type": "code",
   "execution_count": null,
   "metadata": {},
   "outputs": [],
   "source": []
  },
  {
   "cell_type": "code",
   "execution_count": null,
   "metadata": {},
   "outputs": [],
   "source": []
  },
  {
   "cell_type": "markdown",
   "metadata": {},
   "source": [
    "now can write the data to a CSV file."
   ]
  },
  {
   "cell_type": "code",
   "execution_count": 53,
   "metadata": {},
   "outputs": [],
   "source": [
    "a.to_csv(\"2019_08_29_3_1c_node.csv\", encoding='utf-8', index=False)"
   ]
  },
  {
   "cell_type": "code",
   "execution_count": 40,
   "metadata": {},
   "outputs": [],
   "source": [
    "data2.describe().to_csv(\"2019_08_29_3_1c_node_summary.csv\")"
   ]
  }
 ],
 "metadata": {
  "kernelspec": {
   "display_name": "Python 3",
   "language": "python",
   "name": "python3"
  },
  "language_info": {
   "codemirror_mode": {
    "name": "ipython",
    "version": 3
   },
   "file_extension": ".py",
   "mimetype": "text/x-python",
   "name": "python",
   "nbconvert_exporter": "python",
   "pygments_lexer": "ipython3",
   "version": "3.7.3"
  }
 },
 "nbformat": 4,
 "nbformat_minor": 2
}
