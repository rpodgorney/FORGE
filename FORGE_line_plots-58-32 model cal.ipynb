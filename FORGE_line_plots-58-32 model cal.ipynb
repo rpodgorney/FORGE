{
 "cells": [
  {
   "cell_type": "code",
   "execution_count": 2,
   "metadata": {},
   "outputs": [],
   "source": [
    "import plotly.plotly as py\n",
    "import plotly.graph_objs as go\n",
    "import pandas as pd\n",
    "import numpy as np\n",
    "import scipy.stats as st\n",
    "import seaborn as sns\n",
    "import matplotlib.pyplot as plt\n",
    "import scipy.interpolate"
   ]
  },
  {
   "cell_type": "code",
   "execution_count": 3,
   "metadata": {},
   "outputs": [],
   "source": [
    "data=pd.read_csv('./data for figs/58-32_model_cal_all_data.csv')"
   ]
  },
  {
   "cell_type": "code",
   "execution_count": 4,
   "metadata": {},
   "outputs": [
    {
     "data": {
      "text/html": [
       "<div>\n",
       "<style scoped>\n",
       "    .dataframe tbody tr th:only-of-type {\n",
       "        vertical-align: middle;\n",
       "    }\n",
       "\n",
       "    .dataframe tbody tr th {\n",
       "        vertical-align: top;\n",
       "    }\n",
       "\n",
       "    .dataframe thead th {\n",
       "        text-align: right;\n",
       "    }\n",
       "</style>\n",
       "<table border=\"1\" class=\"dataframe\">\n",
       "  <thead>\n",
       "    <tr style=\"text-align: right;\">\n",
       "      <th></th>\n",
       "      <th>model_time</th>\n",
       "      <th>injection_point_pressure</th>\n",
       "      <th>injection_point_stress_ii</th>\n",
       "      <th>injection_point_stress_jj</th>\n",
       "      <th>injection_point_stress_kk</th>\n",
       "      <th>delta P</th>\n",
       "      <th>field_time</th>\n",
       "      <th>Casing_Mpa</th>\n",
       "      <th>kg/s</th>\n",
       "    </tr>\n",
       "  </thead>\n",
       "  <tbody>\n",
       "    <tr>\n",
       "      <th>count</th>\n",
       "      <td>19.000000</td>\n",
       "      <td>19.000000</td>\n",
       "      <td>19.000000</td>\n",
       "      <td>19.000000</td>\n",
       "      <td>19.000000</td>\n",
       "      <td>19.000000</td>\n",
       "      <td>91.000000</td>\n",
       "      <td>91.000000</td>\n",
       "      <td>91.000000</td>\n",
       "    </tr>\n",
       "    <tr>\n",
       "      <th>mean</th>\n",
       "      <td>228.229318</td>\n",
       "      <td>37.030726</td>\n",
       "      <td>39.794138</td>\n",
       "      <td>45.135538</td>\n",
       "      <td>60.361669</td>\n",
       "      <td>18.077096</td>\n",
       "      <td>450.000000</td>\n",
       "      <td>27.675203</td>\n",
       "      <td>32.623359</td>\n",
       "    </tr>\n",
       "    <tr>\n",
       "      <th>std</th>\n",
       "      <td>271.073905</td>\n",
       "      <td>14.282026</td>\n",
       "      <td>9.679520</td>\n",
       "      <td>10.625673</td>\n",
       "      <td>13.647098</td>\n",
       "      <td>14.282788</td>\n",
       "      <td>264.133804</td>\n",
       "      <td>7.060606</td>\n",
       "      <td>13.356939</td>\n",
       "    </tr>\n",
       "    <tr>\n",
       "      <th>min</th>\n",
       "      <td>0.000000</td>\n",
       "      <td>18.954595</td>\n",
       "      <td>11.372757</td>\n",
       "      <td>11.372757</td>\n",
       "      <td>11.372757</td>\n",
       "      <td>0.000000</td>\n",
       "      <td>0.000000</td>\n",
       "      <td>1.358265</td>\n",
       "      <td>0.000000</td>\n",
       "    </tr>\n",
       "    <tr>\n",
       "      <th>25%</th>\n",
       "      <td>26.578383</td>\n",
       "      <td>22.413903</td>\n",
       "      <td>33.535412</td>\n",
       "      <td>39.195425</td>\n",
       "      <td>55.313787</td>\n",
       "      <td>3.459493</td>\n",
       "      <td>225.000000</td>\n",
       "      <td>28.937244</td>\n",
       "      <td>14.129325</td>\n",
       "    </tr>\n",
       "    <tr>\n",
       "      <th>50%</th>\n",
       "      <td>121.099942</td>\n",
       "      <td>37.457152</td>\n",
       "      <td>41.233020</td>\n",
       "      <td>46.876325</td>\n",
       "      <td>62.954994</td>\n",
       "      <td>18.503545</td>\n",
       "      <td>450.000000</td>\n",
       "      <td>30.819509</td>\n",
       "      <td>40.653900</td>\n",
       "    </tr>\n",
       "    <tr>\n",
       "      <th>75%</th>\n",
       "      <td>323.705604</td>\n",
       "      <td>51.949086</td>\n",
       "      <td>48.340474</td>\n",
       "      <td>53.960998</td>\n",
       "      <td>69.992094</td>\n",
       "      <td>32.996252</td>\n",
       "      <td>675.000000</td>\n",
       "      <td>30.957404</td>\n",
       "      <td>40.825260</td>\n",
       "    </tr>\n",
       "    <tr>\n",
       "      <th>max</th>\n",
       "      <td>900.000000</td>\n",
       "      <td>52.685675</td>\n",
       "      <td>48.504843</td>\n",
       "      <td>54.111930</td>\n",
       "      <td>70.131914</td>\n",
       "      <td>33.732881</td>\n",
       "      <td>900.000000</td>\n",
       "      <td>31.074615</td>\n",
       "      <td>42.789600</td>\n",
       "    </tr>\n",
       "  </tbody>\n",
       "</table>\n",
       "</div>"
      ],
      "text/plain": [
       "       model_time  injection_point_pressure  injection_point_stress_ii  \\\n",
       "count   19.000000                 19.000000                  19.000000   \n",
       "mean   228.229318                 37.030726                  39.794138   \n",
       "std    271.073905                 14.282026                   9.679520   \n",
       "min      0.000000                 18.954595                  11.372757   \n",
       "25%     26.578383                 22.413903                  33.535412   \n",
       "50%    121.099942                 37.457152                  41.233020   \n",
       "75%    323.705604                 51.949086                  48.340474   \n",
       "max    900.000000                 52.685675                  48.504843   \n",
       "\n",
       "       injection_point_stress_jj  injection_point_stress_kk    delta P  \\\n",
       "count                  19.000000                  19.000000  19.000000   \n",
       "mean                   45.135538                  60.361669  18.077096   \n",
       "std                    10.625673                  13.647098  14.282788   \n",
       "min                    11.372757                  11.372757   0.000000   \n",
       "25%                    39.195425                  55.313787   3.459493   \n",
       "50%                    46.876325                  62.954994  18.503545   \n",
       "75%                    53.960998                  69.992094  32.996252   \n",
       "max                    54.111930                  70.131914  33.732881   \n",
       "\n",
       "       field_time  Casing_Mpa       kg/s  \n",
       "count   91.000000   91.000000  91.000000  \n",
       "mean   450.000000   27.675203  32.623359  \n",
       "std    264.133804    7.060606  13.356939  \n",
       "min      0.000000    1.358265   0.000000  \n",
       "25%    225.000000   28.937244  14.129325  \n",
       "50%    450.000000   30.819509  40.653900  \n",
       "75%    675.000000   30.957404  40.825260  \n",
       "max    900.000000   31.074615  42.789600  "
      ]
     },
     "execution_count": 4,
     "metadata": {},
     "output_type": "execute_result"
    }
   ],
   "source": [
    "data.describe()"
   ]
  },
  {
   "cell_type": "code",
   "execution_count": null,
   "metadata": {},
   "outputs": [],
   "source": []
  },
  {
   "cell_type": "code",
   "execution_count": 9,
   "metadata": {},
   "outputs": [],
   "source": [
    "sns.set()"
   ]
  },
  {
   "cell_type": "code",
   "execution_count": 10,
   "metadata": {},
   "outputs": [],
   "source": [
    "sns.set_style(\"whitegrid\")"
   ]
  },
  {
   "cell_type": "code",
   "execution_count": 11,
   "metadata": {},
   "outputs": [],
   "source": [
    "sns.set_context(\"paper\")"
   ]
  },
  {
   "cell_type": "code",
   "execution_count": 37,
   "metadata": {},
   "outputs": [],
   "source": []
  },
  {
   "cell_type": "code",
   "execution_count": 21,
   "metadata": {},
   "outputs": [
    {
     "data": {
      "text/plain": [
       "Text(0, 0.5, 'Injection Rate\\n(kg/s)')"
      ]
     },
     "execution_count": 21,
     "metadata": {},
     "output_type": "execute_result"
    }
   ],
   "source": [
    "ax1 = plt.subplot(311)\n",
    "sns.lineplot('field_time', 'kg/s', data = data)\n",
    "plt.setp(ax1.get_xticklabels(), visible = False)\n",
    "ax1.set_xlabel('')\n",
    "ax1.set_ylabel('Injection Rate\\n(kg/s)')"
   ]
  },
  {
   "cell_type": "code",
   "execution_count": 22,
   "metadata": {},
   "outputs": [
    {
     "data": {
      "text/plain": [
       "Text(0, 0.5, 'Pressure Increase\\n(MPa)')"
      ]
     },
     "execution_count": 22,
     "metadata": {},
     "output_type": "execute_result"
    }
   ],
   "source": [
    "ax2 = plt.subplot(312, sharex=ax1)\n",
    "sns.lineplot('field_time', 'Casing_Mpa', data = data, label = 'Measured')\n",
    "sns.lineplot('model_time', 'delta P', data = data, label = 'Modeled')\n",
    "# make these tick labels invisible\n",
    "plt.setp(ax2.get_xticklabels(), visible=False)\n",
    "ax2.set_xlabel('')\n",
    "ax2.set_ylabel('Pressure Increase\\n(MPa)')"
   ]
  },
  {
   "cell_type": "code",
   "execution_count": 23,
   "metadata": {},
   "outputs": [
    {
     "data": {
      "text/plain": [
       "Text(0.5, 0, 'Time (seconds)')"
      ]
     },
     "execution_count": 23,
     "metadata": {},
     "output_type": "execute_result"
    }
   ],
   "source": [
    "ax5 = plt.subplot(313, sharex=ax1)\n",
    "sns.lineplot('model_time', 'injection_point_pressure', data = data, label = 'Pore Pressure')\n",
    "sns.lineplot('model_time', 'injection_point_stress_kk', data = data, label = 'Vertical')\n",
    "sns.lineplot('model_time', 'injection_point_stress_jj', data = data, label = 'H max')\n",
    "sns.lineplot('model_time', 'injection_point_stress_ii', data = data, label = 'H min')\n",
    "\n",
    "\n",
    "ax5.set_ylabel('Stress or Pressure\\n(MPa)')\n",
    "ax5.set_xlabel('Time (seconds)')"
   ]
  },
  {
   "cell_type": "code",
   "execution_count": 24,
   "metadata": {},
   "outputs": [
    {
     "data": {
      "text/plain": [
       "Text(0.5, 0.98, '58-32 Critical Zone Cycle 9')"
      ]
     },
     "execution_count": 24,
     "metadata": {},
     "output_type": "execute_result"
    }
   ],
   "source": [
    "plt.suptitle('58-32 Critical Zone Cycle 9', fontsize=16)"
   ]
  },
  {
   "cell_type": "code",
   "execution_count": null,
   "metadata": {},
   "outputs": [],
   "source": []
  },
  {
   "cell_type": "code",
   "execution_count": 57,
   "metadata": {},
   "outputs": [],
   "source": []
  },
  {
   "cell_type": "code",
   "execution_count": 28,
   "metadata": {},
   "outputs": [
    {
     "data": {
      "text/plain": [
       "(2, 10)"
      ]
     },
     "execution_count": 28,
     "metadata": {},
     "output_type": "execute_result"
    }
   ],
   "source": []
  },
  {
   "cell_type": "code",
   "execution_count": 54,
   "metadata": {},
   "outputs": [],
   "source": []
  },
  {
   "cell_type": "code",
   "execution_count": null,
   "metadata": {},
   "outputs": [],
   "source": []
  }
 ],
 "metadata": {
  "kernelspec": {
   "display_name": "Python 3",
   "language": "python",
   "name": "python3"
  },
  "language_info": {
   "codemirror_mode": {
    "name": "ipython",
    "version": 3
   },
   "file_extension": ".py",
   "mimetype": "text/x-python",
   "name": "python",
   "nbconvert_exporter": "python",
   "pygments_lexer": "ipython3",
   "version": "3.7.3"
  }
 },
 "nbformat": 4,
 "nbformat_minor": 2
}
