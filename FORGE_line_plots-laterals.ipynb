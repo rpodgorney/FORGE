{
 "cells": [
  {
   "cell_type": "code",
   "execution_count": 2,
   "metadata": {},
   "outputs": [],
   "source": [
    "import plotly.plotly as py\n",
    "import plotly.graph_objs as go\n",
    "import pandas as pd\n",
    "import numpy as np\n",
    "import scipy.stats as st\n",
    "import seaborn as sns\n",
    "import matplotlib.pyplot as plt\n",
    "import scipy.interpolate"
   ]
  },
  {
   "cell_type": "code",
   "execution_count": 37,
   "metadata": {},
   "outputs": [],
   "source": [
    "data=pd.read_csv('./data for figs/kickoff.csv')"
   ]
  },
  {
   "cell_type": "code",
   "execution_count": 6,
   "metadata": {},
   "outputs": [
    {
     "data": {
      "text/html": [
       "<div>\n",
       "<style scoped>\n",
       "    .dataframe tbody tr th:only-of-type {\n",
       "        vertical-align: middle;\n",
       "    }\n",
       "\n",
       "    .dataframe tbody tr th {\n",
       "        vertical-align: top;\n",
       "    }\n",
       "\n",
       "    .dataframe thead th {\n",
       "        text-align: right;\n",
       "    }\n",
       "</style>\n",
       "<table border=\"1\" class=\"dataframe\">\n",
       "  <thead>\n",
       "    <tr style=\"text-align: right;\">\n",
       "      <th></th>\n",
       "      <th>Depth</th>\n",
       "      <th>temp_3-1c</th>\n",
       "      <th>pressure_3-1c</th>\n",
       "      <th>Sigma_V_3-1c</th>\n",
       "      <th>h_max_3-1c</th>\n",
       "      <th>h_min_3-1c</th>\n",
       "      <th>temp_3-1b</th>\n",
       "      <th>pressure_3-1b</th>\n",
       "      <th>Sigma_V_3-1b</th>\n",
       "      <th>h_max_3-1b</th>\n",
       "      <th>h_min_3-1b</th>\n",
       "      <th>Measured_3-1a2</th>\n",
       "      <th>temp_3-1a2</th>\n",
       "      <th>pressure_3-1a2</th>\n",
       "      <th>Sigma_V_3-1a2</th>\n",
       "      <th>h_max_3-1a2</th>\n",
       "      <th>h_min_3-1á</th>\n",
       "    </tr>\n",
       "  </thead>\n",
       "  <tbody>\n",
       "    <tr>\n",
       "      <th>count</th>\n",
       "      <td>301.000000</td>\n",
       "      <td>301.000000</td>\n",
       "      <td>301.000000</td>\n",
       "      <td>301.000000</td>\n",
       "      <td>301.000000</td>\n",
       "      <td>301.000000</td>\n",
       "      <td>301.000000</td>\n",
       "      <td>301.000000</td>\n",
       "      <td>301.000000</td>\n",
       "      <td>301.000000</td>\n",
       "      <td>301.000000</td>\n",
       "      <td>361.000000</td>\n",
       "      <td>361.000000</td>\n",
       "      <td>361.000000</td>\n",
       "      <td>361.000000</td>\n",
       "      <td>361.000000</td>\n",
       "      <td>361.000000</td>\n",
       "    </tr>\n",
       "    <tr>\n",
       "      <th>mean</th>\n",
       "      <td>750.000000</td>\n",
       "      <td>195.448829</td>\n",
       "      <td>19.607120</td>\n",
       "      <td>55.050272</td>\n",
       "      <td>38.368994</td>\n",
       "      <td>33.028027</td>\n",
       "      <td>190.767976</td>\n",
       "      <td>19.166473</td>\n",
       "      <td>53.846159</td>\n",
       "      <td>37.663264</td>\n",
       "      <td>32.212543</td>\n",
       "      <td>900.000000</td>\n",
       "      <td>205.156254</td>\n",
       "      <td>21.129726</td>\n",
       "      <td>59.749082</td>\n",
       "      <td>41.582376</td>\n",
       "      <td>35.638835</td>\n",
       "    </tr>\n",
       "    <tr>\n",
       "      <th>std</th>\n",
       "      <td>435.177167</td>\n",
       "      <td>11.551701</td>\n",
       "      <td>1.307061</td>\n",
       "      <td>4.287215</td>\n",
       "      <td>2.867302</td>\n",
       "      <td>1.981950</td>\n",
       "      <td>6.631570</td>\n",
       "      <td>1.262195</td>\n",
       "      <td>3.451065</td>\n",
       "      <td>2.286858</td>\n",
       "      <td>2.270435</td>\n",
       "      <td>521.779807</td>\n",
       "      <td>18.067596</td>\n",
       "      <td>1.932615</td>\n",
       "      <td>6.548103</td>\n",
       "      <td>4.133807</td>\n",
       "      <td>3.106178</td>\n",
       "    </tr>\n",
       "    <tr>\n",
       "      <th>min</th>\n",
       "      <td>0.000000</td>\n",
       "      <td>169.900940</td>\n",
       "      <td>16.289872</td>\n",
       "      <td>44.578357</td>\n",
       "      <td>31.471489</td>\n",
       "      <td>27.877055</td>\n",
       "      <td>170.286257</td>\n",
       "      <td>15.939167</td>\n",
       "      <td>44.610406</td>\n",
       "      <td>31.617737</td>\n",
       "      <td>26.636333</td>\n",
       "      <td>0.000000</td>\n",
       "      <td>165.134050</td>\n",
       "      <td>16.282079</td>\n",
       "      <td>43.815500</td>\n",
       "      <td>31.637419</td>\n",
       "      <td>27.790439</td>\n",
       "    </tr>\n",
       "    <tr>\n",
       "      <th>25%</th>\n",
       "      <td>375.000000</td>\n",
       "      <td>187.426450</td>\n",
       "      <td>18.904642</td>\n",
       "      <td>52.595644</td>\n",
       "      <td>36.689055</td>\n",
       "      <td>32.033109</td>\n",
       "      <td>188.675935</td>\n",
       "      <td>18.503142</td>\n",
       "      <td>52.227472</td>\n",
       "      <td>36.554484</td>\n",
       "      <td>30.937612</td>\n",
       "      <td>450.000000</td>\n",
       "      <td>192.447054</td>\n",
       "      <td>20.089109</td>\n",
       "      <td>55.963466</td>\n",
       "      <td>39.165356</td>\n",
       "      <td>34.034170</td>\n",
       "    </tr>\n",
       "    <tr>\n",
       "      <th>50%</th>\n",
       "      <td>750.000000</td>\n",
       "      <td>197.654083</td>\n",
       "      <td>19.796543</td>\n",
       "      <td>55.658839</td>\n",
       "      <td>38.736330</td>\n",
       "      <td>33.327410</td>\n",
       "      <td>192.585983</td>\n",
       "      <td>19.346627</td>\n",
       "      <td>54.448381</td>\n",
       "      <td>38.029022</td>\n",
       "      <td>32.462614</td>\n",
       "      <td>900.000000</td>\n",
       "      <td>209.338519</td>\n",
       "      <td>21.631159</td>\n",
       "      <td>61.305219</td>\n",
       "      <td>42.507157</td>\n",
       "      <td>36.439290</td>\n",
       "    </tr>\n",
       "    <tr>\n",
       "      <th>75%</th>\n",
       "      <td>1125.000000</td>\n",
       "      <td>204.723938</td>\n",
       "      <td>20.652651</td>\n",
       "      <td>58.429592</td>\n",
       "      <td>40.705032</td>\n",
       "      <td>34.528079</td>\n",
       "      <td>196.147615</td>\n",
       "      <td>20.169944</td>\n",
       "      <td>56.503818</td>\n",
       "      <td>39.436313</td>\n",
       "      <td>34.034178</td>\n",
       "      <td>1350.000000</td>\n",
       "      <td>219.715361</td>\n",
       "      <td>22.623290</td>\n",
       "      <td>64.903399</td>\n",
       "      <td>44.841735</td>\n",
       "      <td>37.992273</td>\n",
       "    </tr>\n",
       "    <tr>\n",
       "      <th>max</th>\n",
       "      <td>1500.000000</td>\n",
       "      <td>213.287713</td>\n",
       "      <td>21.493998</td>\n",
       "      <td>61.489700</td>\n",
       "      <td>42.631366</td>\n",
       "      <td>35.982704</td>\n",
       "      <td>197.112340</td>\n",
       "      <td>20.995660</td>\n",
       "      <td>58.625036</td>\n",
       "      <td>40.891944</td>\n",
       "      <td>35.640639</td>\n",
       "      <td>1800.000000</td>\n",
       "      <td>230.812341</td>\n",
       "      <td>23.596511</td>\n",
       "      <td>68.479709</td>\n",
       "      <td>47.201454</td>\n",
       "      <td>39.667979</td>\n",
       "    </tr>\n",
       "  </tbody>\n",
       "</table>\n",
       "</div>"
      ],
      "text/plain": [
       "             Depth   temp_3-1c  pressure_3-1c  Sigma_V_3-1c  h_max_3-1c  \\\n",
       "count   301.000000  301.000000     301.000000    301.000000  301.000000   \n",
       "mean    750.000000  195.448829      19.607120     55.050272   38.368994   \n",
       "std     435.177167   11.551701       1.307061      4.287215    2.867302   \n",
       "min       0.000000  169.900940      16.289872     44.578357   31.471489   \n",
       "25%     375.000000  187.426450      18.904642     52.595644   36.689055   \n",
       "50%     750.000000  197.654083      19.796543     55.658839   38.736330   \n",
       "75%    1125.000000  204.723938      20.652651     58.429592   40.705032   \n",
       "max    1500.000000  213.287713      21.493998     61.489700   42.631366   \n",
       "\n",
       "       h_min_3-1c   temp_3-1b  pressure_3-1b  Sigma_V_3-1b  h_max_3-1b  \\\n",
       "count  301.000000  301.000000     301.000000    301.000000  301.000000   \n",
       "mean    33.028027  190.767976      19.166473     53.846159   37.663264   \n",
       "std      1.981950    6.631570       1.262195      3.451065    2.286858   \n",
       "min     27.877055  170.286257      15.939167     44.610406   31.617737   \n",
       "25%     32.033109  188.675935      18.503142     52.227472   36.554484   \n",
       "50%     33.327410  192.585983      19.346627     54.448381   38.029022   \n",
       "75%     34.528079  196.147615      20.169944     56.503818   39.436313   \n",
       "max     35.982704  197.112340      20.995660     58.625036   40.891944   \n",
       "\n",
       "       h_min_3-1b  Measured_3-1a2  temp_3-1a2  pressure_3-1a2  Sigma_V_3-1a2  \\\n",
       "count  301.000000      361.000000  361.000000      361.000000     361.000000   \n",
       "mean    32.212543      900.000000  205.156254       21.129726      59.749082   \n",
       "std      2.270435      521.779807   18.067596        1.932615       6.548103   \n",
       "min     26.636333        0.000000  165.134050       16.282079      43.815500   \n",
       "25%     30.937612      450.000000  192.447054       20.089109      55.963466   \n",
       "50%     32.462614      900.000000  209.338519       21.631159      61.305219   \n",
       "75%     34.034178     1350.000000  219.715361       22.623290      64.903399   \n",
       "max     35.640639     1800.000000  230.812341       23.596511      68.479709   \n",
       "\n",
       "       h_max_3-1a2  h_min_3-1á  \n",
       "count   361.000000  361.000000  \n",
       "mean     41.582376   35.638835  \n",
       "std       4.133807    3.106178  \n",
       "min      31.637419   27.790439  \n",
       "25%      39.165356   34.034170  \n",
       "50%      42.507157   36.439290  \n",
       "75%      44.841735   37.992273  \n",
       "max      47.201454   39.667979  "
      ]
     },
     "execution_count": 6,
     "metadata": {},
     "output_type": "execute_result"
    }
   ],
   "source": [
    "data.describe()"
   ]
  },
  {
   "cell_type": "code",
   "execution_count": null,
   "metadata": {},
   "outputs": [],
   "source": []
  },
  {
   "cell_type": "code",
   "execution_count": 20,
   "metadata": {},
   "outputs": [],
   "source": [
    "sns.set()"
   ]
  },
  {
   "cell_type": "code",
   "execution_count": 45,
   "metadata": {},
   "outputs": [],
   "source": [
    "sns.set_style(\"whitegrid\")"
   ]
  },
  {
   "cell_type": "code",
   "execution_count": 46,
   "metadata": {},
   "outputs": [],
   "source": [
    "sns.set_context(\"paper\")"
   ]
  },
  {
   "cell_type": "code",
   "execution_count": 37,
   "metadata": {},
   "outputs": [],
   "source": []
  },
  {
   "cell_type": "code",
   "execution_count": 48,
   "metadata": {},
   "outputs": [
    {
     "data": {
      "text/plain": [
       "Text(0, 0.5, 'Pressure\\n(MPa)')"
      ]
     },
     "execution_count": 48,
     "metadata": {},
     "output_type": "execute_result"
    }
   ],
   "source": [
    "ax1 = plt.subplot(511)\n",
    "sns.lineplot('Depth', 'pressure_3-1c', data = data, label='3-1c')\n",
    "sns.lineplot('Depth', 'pressure_3-1b', data = data, label='3-1b')\n",
    "sns.lineplot('Measured_3-1a2', 'pressure_3-1a2', data = data, label='3-1a2', sizes = (1,2))\n",
    "plt.setp(ax1.get_xticklabels(), visible = False)\n",
    "ax1.set_xlabel('')\n",
    "ax1.set_ylabel('Pressure\\n(MPa)')"
   ]
  },
  {
   "cell_type": "code",
   "execution_count": 49,
   "metadata": {},
   "outputs": [
    {
     "data": {
      "text/plain": [
       "Text(0, 0.5, 'Temperature\\n(deg C)')"
      ]
     },
     "execution_count": 49,
     "metadata": {},
     "output_type": "execute_result"
    }
   ],
   "source": [
    "ax2 = plt.subplot(512, sharex=ax1)\n",
    "sns.lineplot('Depth', 'temp_3-1c', data = data)\n",
    "sns.lineplot('Depth', 'temp_3-1b', data = data)\n",
    "sns.lineplot('Measured_3-1a2', 'temp_3-1a2', data = data)\n",
    "# make these tick labels invisible\n",
    "plt.setp(ax2.get_xticklabels(), visible=False)\n",
    "ax2.set_xlabel('')\n",
    "ax2.set_ylabel('Temperature\\n(deg C)')"
   ]
  },
  {
   "cell_type": "code",
   "execution_count": 50,
   "metadata": {},
   "outputs": [
    {
     "data": {
      "text/plain": [
       "Text(0, 0.5, 'Sh min\\n(MPa)')"
      ]
     },
     "execution_count": 50,
     "metadata": {},
     "output_type": "execute_result"
    }
   ],
   "source": [
    "ax3 = plt.subplot(513, sharex=ax1)\n",
    "sns.lineplot('Depth', 'h_min_3-1c', data = data)\n",
    "sns.lineplot('Depth', 'h_min_3-1b', data = data)\n",
    "sns.lineplot('Measured_3-1a2', 'h_min_3-1a2', data = data)\n",
    "ax3.set_xlabel('')\n",
    "\n",
    "plt.setp(ax3.get_xticklabels(), visible=False)\n",
    "ax3.set_ylabel('Sh min\\n(MPa)')\n"
   ]
  },
  {
   "cell_type": "code",
   "execution_count": 51,
   "metadata": {},
   "outputs": [
    {
     "data": {
      "text/plain": [
       "Text(0, 0.5, 'Sh max\\n(MPa)')"
      ]
     },
     "execution_count": 51,
     "metadata": {},
     "output_type": "execute_result"
    }
   ],
   "source": [
    "ax4 = plt.subplot(514, sharex=ax1)\n",
    "sns.lineplot('Depth', 'h_max_3-1c', data = data)\n",
    "sns.lineplot('Depth', 'h_max_3-1b', data = data)\n",
    "sns.lineplot('Measured_3-1a2', 'h_max_3-1a2', data = data)\n",
    "plt.setp(ax4.get_xticklabels(), visible=False)\n",
    "ax4.set_xlabel('')\n",
    "ax4.set_ylabel('Sh max\\n(MPa)')\n"
   ]
  },
  {
   "cell_type": "code",
   "execution_count": 52,
   "metadata": {},
   "outputs": [
    {
     "data": {
      "text/plain": [
       "Text(0.5, 0, 'Distance from Kickoff (meters)')"
      ]
     },
     "execution_count": 52,
     "metadata": {},
     "output_type": "execute_result"
    }
   ],
   "source": [
    "ax5 = plt.subplot(515, sharex=ax1)\n",
    "sns.lineplot('Depth', 'Sigma_V_3-1c', data = data)\n",
    "sns.lineplot('Depth', 'Sigma_V_3-1b', data = data)\n",
    "sns.lineplot('Measured_3-1a2', 'Sigma_V_3-1a2', data = data)\n",
    "\n",
    "ax5.set_ylabel('Sv\\n(MPa)')\n",
    "ax5.set_xlabel('Distance from Kickoff (meters)')"
   ]
  },
  {
   "cell_type": "code",
   "execution_count": 90,
   "metadata": {},
   "outputs": [
    {
     "data": {
      "text/plain": [
       "Text(0.5, 0.98, 'Trajectory 3-1b')"
      ]
     },
     "execution_count": 90,
     "metadata": {},
     "output_type": "execute_result"
    }
   ],
   "source": [
    "plt.suptitle('', fontsize=16)"
   ]
  },
  {
   "cell_type": "code",
   "execution_count": null,
   "metadata": {},
   "outputs": [],
   "source": []
  },
  {
   "cell_type": "code",
   "execution_count": 57,
   "metadata": {},
   "outputs": [],
   "source": []
  },
  {
   "cell_type": "code",
   "execution_count": 28,
   "metadata": {},
   "outputs": [
    {
     "data": {
      "text/plain": [
       "(2, 10)"
      ]
     },
     "execution_count": 28,
     "metadata": {},
     "output_type": "execute_result"
    }
   ],
   "source": []
  },
  {
   "cell_type": "code",
   "execution_count": 54,
   "metadata": {},
   "outputs": [],
   "source": []
  },
  {
   "cell_type": "code",
   "execution_count": null,
   "metadata": {},
   "outputs": [],
   "source": []
  }
 ],
 "metadata": {
  "kernelspec": {
   "display_name": "Python 2",
   "language": "python",
   "name": "python2"
  },
  "language_info": {
   "codemirror_mode": {
    "name": "ipython",
    "version": 2
   },
   "file_extension": ".py",
   "mimetype": "text/x-python",
   "name": "python",
   "nbconvert_exporter": "python",
   "pygments_lexer": "ipython2",
   "version": "2.7.16"
  }
 },
 "nbformat": 4,
 "nbformat_minor": 2
}
