{
 "cells": [
  {
   "cell_type": "code",
   "execution_count": 14,
   "metadata": {},
   "outputs": [],
   "source": [
    "import pandas as pd"
   ]
  },
  {
   "cell_type": "code",
   "execution_count": 15,
   "metadata": {},
   "outputs": [],
   "source": [
    "data=pd.read_csv('large_well_3_1b_node_correct_locations.csv', float_precision='round_trip')"
   ]
  },
  {
   "cell_type": "code",
   "execution_count": 16,
   "metadata": {},
   "outputs": [
    {
     "data": {
      "text/html": [
       "<div>\n",
       "<style scoped>\n",
       "    .dataframe tbody tr th:only-of-type {\n",
       "        vertical-align: middle;\n",
       "    }\n",
       "\n",
       "    .dataframe tbody tr th {\n",
       "        vertical-align: top;\n",
       "    }\n",
       "\n",
       "    .dataframe thead th {\n",
       "        text-align: right;\n",
       "    }\n",
       "</style>\n",
       "<table border=\"1\" class=\"dataframe\">\n",
       "  <thead>\n",
       "    <tr style=\"text-align: right;\">\n",
       "      <th></th>\n",
       "      <th>Id</th>\n",
       "      <th>X</th>\n",
       "      <th>Y</th>\n",
       "      <th>Z</th>\n",
       "      <th>dX</th>\n",
       "      <th>dY</th>\n",
       "      <th>dZ</th>\n",
       "      <th>pressure</th>\n",
       "      <th>disp_k_bc</th>\n",
       "      <th>disp_j_bc</th>\n",
       "      <th>disp_i_bc</th>\n",
       "      <th>vertical</th>\n",
       "      <th>h_max</th>\n",
       "      <th>h_min</th>\n",
       "      <th>temperature</th>\n",
       "    </tr>\n",
       "  </thead>\n",
       "  <tbody>\n",
       "    <tr>\n",
       "      <th>count</th>\n",
       "      <td>3.996081e+06</td>\n",
       "      <td>3.996081e+06</td>\n",
       "      <td>3.996081e+06</td>\n",
       "      <td>3.996081e+06</td>\n",
       "      <td>3996081.0</td>\n",
       "      <td>3996081.0</td>\n",
       "      <td>3996081.0</td>\n",
       "      <td>3.996081e+06</td>\n",
       "      <td>3.996081e+06</td>\n",
       "      <td>3.996081e+06</td>\n",
       "      <td>3.996081e+06</td>\n",
       "      <td>3.996081e+06</td>\n",
       "      <td>3.996081e+06</td>\n",
       "      <td>3.996081e+06</td>\n",
       "      <td>3.996081e+06</td>\n",
       "    </tr>\n",
       "    <tr>\n",
       "      <th>mean</th>\n",
       "      <td>1.998040e+06</td>\n",
       "      <td>7.500000e+02</td>\n",
       "      <td>1.120000e+03</td>\n",
       "      <td>-4.750000e+02</td>\n",
       "      <td>10.0</td>\n",
       "      <td>10.0</td>\n",
       "      <td>10.0</td>\n",
       "      <td>1.902218e+07</td>\n",
       "      <td>-5.277819e+07</td>\n",
       "      <td>-3.699827e+07</td>\n",
       "      <td>-3.217816e+07</td>\n",
       "      <td>-3.375601e+07</td>\n",
       "      <td>-1.797609e+07</td>\n",
       "      <td>-1.315597e+07</td>\n",
       "      <td>4.564550e+02</td>\n",
       "    </tr>\n",
       "    <tr>\n",
       "      <th>std</th>\n",
       "      <td>1.153569e+06</td>\n",
       "      <td>4.070218e+02</td>\n",
       "      <td>4.070218e+02</td>\n",
       "      <td>5.802299e+02</td>\n",
       "      <td>0.0</td>\n",
       "      <td>0.0</td>\n",
       "      <td>0.0</td>\n",
       "      <td>5.084631e+06</td>\n",
       "      <td>1.570728e+07</td>\n",
       "      <td>1.035117e+07</td>\n",
       "      <td>8.908026e+06</td>\n",
       "      <td>1.063097e+07</td>\n",
       "      <td>5.275563e+06</td>\n",
       "      <td>3.836603e+06</td>\n",
       "      <td>3.502214e+01</td>\n",
       "    </tr>\n",
       "    <tr>\n",
       "      <th>min</th>\n",
       "      <td>0.000000e+00</td>\n",
       "      <td>5.000000e+01</td>\n",
       "      <td>4.200000e+02</td>\n",
       "      <td>-1.475000e+03</td>\n",
       "      <td>10.0</td>\n",
       "      <td>10.0</td>\n",
       "      <td>10.0</td>\n",
       "      <td>1.002488e+07</td>\n",
       "      <td>-8.065098e+07</td>\n",
       "      <td>-5.518527e+07</td>\n",
       "      <td>-4.743421e+07</td>\n",
       "      <td>-5.312188e+07</td>\n",
       "      <td>-2.763709e+07</td>\n",
       "      <td>-1.977056e+07</td>\n",
       "      <td>3.838422e+02</td>\n",
       "    </tr>\n",
       "    <tr>\n",
       "      <th>25%</th>\n",
       "      <td>9.990200e+05</td>\n",
       "      <td>4.000000e+02</td>\n",
       "      <td>7.700000e+02</td>\n",
       "      <td>-9.750000e+02</td>\n",
       "      <td>10.0</td>\n",
       "      <td>10.0</td>\n",
       "      <td>10.0</td>\n",
       "      <td>1.464307e+07</td>\n",
       "      <td>-6.641029e+07</td>\n",
       "      <td>-4.591633e+07</td>\n",
       "      <td>-3.983032e+07</td>\n",
       "      <td>-4.296122e+07</td>\n",
       "      <td>-2.246635e+07</td>\n",
       "      <td>-1.638292e+07</td>\n",
       "      <td>4.273320e+02</td>\n",
       "    </tr>\n",
       "    <tr>\n",
       "      <th>50%</th>\n",
       "      <td>1.998040e+06</td>\n",
       "      <td>7.500000e+02</td>\n",
       "      <td>1.120000e+03</td>\n",
       "      <td>-4.750000e+02</td>\n",
       "      <td>10.0</td>\n",
       "      <td>10.0</td>\n",
       "      <td>10.0</td>\n",
       "      <td>1.912009e+07</td>\n",
       "      <td>-5.275623e+07</td>\n",
       "      <td>-3.710544e+07</td>\n",
       "      <td>-3.241430e+07</td>\n",
       "      <td>-3.364044e+07</td>\n",
       "      <td>-1.798713e+07</td>\n",
       "      <td>-1.329684e+07</td>\n",
       "      <td>4.573813e+02</td>\n",
       "    </tr>\n",
       "    <tr>\n",
       "      <th>75%</th>\n",
       "      <td>2.997060e+06</td>\n",
       "      <td>1.100000e+03</td>\n",
       "      <td>1.470000e+03</td>\n",
       "      <td>2.500000e+01</td>\n",
       "      <td>10.0</td>\n",
       "      <td>10.0</td>\n",
       "      <td>10.0</td>\n",
       "      <td>2.343801e+07</td>\n",
       "      <td>-3.904700e+07</td>\n",
       "      <td>-2.821518e+07</td>\n",
       "      <td>-2.474237e+07</td>\n",
       "      <td>-2.441014e+07</td>\n",
       "      <td>-1.365001e+07</td>\n",
       "      <td>-1.021368e+07</td>\n",
       "      <td>4.862655e+02</td>\n",
       "    </tr>\n",
       "    <tr>\n",
       "      <th>max</th>\n",
       "      <td>3.996080e+06</td>\n",
       "      <td>1.450000e+03</td>\n",
       "      <td>1.820000e+03</td>\n",
       "      <td>5.250000e+02</td>\n",
       "      <td>10.0</td>\n",
       "      <td>10.0</td>\n",
       "      <td>10.0</td>\n",
       "      <td>2.766735e+07</td>\n",
       "      <td>-2.544605e+07</td>\n",
       "      <td>-1.864353e+07</td>\n",
       "      <td>-1.617470e+07</td>\n",
       "      <td>-1.542116e+07</td>\n",
       "      <td>-8.615975e+06</td>\n",
       "      <td>-6.048920e+06</td>\n",
       "      <td>5.286967e+02</td>\n",
       "    </tr>\n",
       "  </tbody>\n",
       "</table>\n",
       "</div>"
      ],
      "text/plain": [
       "                 Id             X             Y             Z         dX  \\\n",
       "count  3.996081e+06  3.996081e+06  3.996081e+06  3.996081e+06  3996081.0   \n",
       "mean   1.998040e+06  7.500000e+02  1.120000e+03 -4.750000e+02       10.0   \n",
       "std    1.153569e+06  4.070218e+02  4.070218e+02  5.802299e+02        0.0   \n",
       "min    0.000000e+00  5.000000e+01  4.200000e+02 -1.475000e+03       10.0   \n",
       "25%    9.990200e+05  4.000000e+02  7.700000e+02 -9.750000e+02       10.0   \n",
       "50%    1.998040e+06  7.500000e+02  1.120000e+03 -4.750000e+02       10.0   \n",
       "75%    2.997060e+06  1.100000e+03  1.470000e+03  2.500000e+01       10.0   \n",
       "max    3.996080e+06  1.450000e+03  1.820000e+03  5.250000e+02       10.0   \n",
       "\n",
       "              dY         dZ      pressure     disp_k_bc     disp_j_bc  \\\n",
       "count  3996081.0  3996081.0  3.996081e+06  3.996081e+06  3.996081e+06   \n",
       "mean        10.0       10.0  1.902218e+07 -5.277819e+07 -3.699827e+07   \n",
       "std          0.0        0.0  5.084631e+06  1.570728e+07  1.035117e+07   \n",
       "min         10.0       10.0  1.002488e+07 -8.065098e+07 -5.518527e+07   \n",
       "25%         10.0       10.0  1.464307e+07 -6.641029e+07 -4.591633e+07   \n",
       "50%         10.0       10.0  1.912009e+07 -5.275623e+07 -3.710544e+07   \n",
       "75%         10.0       10.0  2.343801e+07 -3.904700e+07 -2.821518e+07   \n",
       "max         10.0       10.0  2.766735e+07 -2.544605e+07 -1.864353e+07   \n",
       "\n",
       "          disp_i_bc      vertical         h_max         h_min   temperature  \n",
       "count  3.996081e+06  3.996081e+06  3.996081e+06  3.996081e+06  3.996081e+06  \n",
       "mean  -3.217816e+07 -3.375601e+07 -1.797609e+07 -1.315597e+07  4.564550e+02  \n",
       "std    8.908026e+06  1.063097e+07  5.275563e+06  3.836603e+06  3.502214e+01  \n",
       "min   -4.743421e+07 -5.312188e+07 -2.763709e+07 -1.977056e+07  3.838422e+02  \n",
       "25%   -3.983032e+07 -4.296122e+07 -2.246635e+07 -1.638292e+07  4.273320e+02  \n",
       "50%   -3.241430e+07 -3.364044e+07 -1.798713e+07 -1.329684e+07  4.573813e+02  \n",
       "75%   -2.474237e+07 -2.441014e+07 -1.365001e+07 -1.021368e+07  4.862655e+02  \n",
       "max   -1.617470e+07 -1.542116e+07 -8.615975e+06 -6.048920e+06  5.286967e+02  "
      ]
     },
     "execution_count": 16,
     "metadata": {},
     "output_type": "execute_result"
    }
   ],
   "source": [
    "data.describe()"
   ]
  },
  {
   "cell_type": "code",
   "execution_count": 17,
   "metadata": {},
   "outputs": [
    {
     "data": {
      "text/plain": [
       "(50, 1450, 750.0)"
      ]
     },
     "execution_count": 17,
     "metadata": {},
     "output_type": "execute_result"
    }
   ],
   "source": [
    "min (data.X), max (data.X), data['X'].median()"
   ]
  },
  {
   "cell_type": "code",
   "execution_count": 18,
   "metadata": {},
   "outputs": [
    {
     "data": {
      "text/plain": [
       "(420, 1820, 1120.0)"
      ]
     },
     "execution_count": 18,
     "metadata": {},
     "output_type": "execute_result"
    }
   ],
   "source": [
    "min (data.Y), max (data.Y), data['Y'].median()"
   ]
  },
  {
   "cell_type": "code",
   "execution_count": 19,
   "metadata": {},
   "outputs": [
    {
     "data": {
      "text/plain": [
       "(-1475, 525, -475.0)"
      ]
     },
     "execution_count": 19,
     "metadata": {},
     "output_type": "execute_result"
    }
   ],
   "source": [
    "min (data.Z), max (data.Z), data['Z'].median()"
   ]
  },
  {
   "cell_type": "markdown",
   "metadata": {},
   "source": [
    "Trim mesh size based on size of stimulated volume"
   ]
  },
  {
   "cell_type": "code",
   "execution_count": 20,
   "metadata": {},
   "outputs": [],
   "source": [
    "data2 = data.query('350 <= X <= 1180 and 660<= Y <= 1590 and -1295 <= Z <= -35')"
   ]
  },
  {
   "cell_type": "code",
   "execution_count": 21,
   "metadata": {},
   "outputs": [
    {
     "data": {
      "text/html": [
       "<div>\n",
       "<style scoped>\n",
       "    .dataframe tbody tr th:only-of-type {\n",
       "        vertical-align: middle;\n",
       "    }\n",
       "\n",
       "    .dataframe tbody tr th {\n",
       "        vertical-align: top;\n",
       "    }\n",
       "\n",
       "    .dataframe thead th {\n",
       "        text-align: right;\n",
       "    }\n",
       "</style>\n",
       "<table border=\"1\" class=\"dataframe\">\n",
       "  <thead>\n",
       "    <tr style=\"text-align: right;\">\n",
       "      <th></th>\n",
       "      <th>Id</th>\n",
       "      <th>X</th>\n",
       "      <th>Y</th>\n",
       "      <th>Z</th>\n",
       "      <th>dX</th>\n",
       "      <th>dY</th>\n",
       "      <th>dZ</th>\n",
       "      <th>pressure</th>\n",
       "      <th>disp_k_bc</th>\n",
       "      <th>disp_j_bc</th>\n",
       "      <th>disp_i_bc</th>\n",
       "      <th>vertical</th>\n",
       "      <th>h_max</th>\n",
       "      <th>h_min</th>\n",
       "      <th>temperature</th>\n",
       "    </tr>\n",
       "  </thead>\n",
       "  <tbody>\n",
       "    <tr>\n",
       "      <th>count</th>\n",
       "      <td>1.002792e+06</td>\n",
       "      <td>1.002792e+06</td>\n",
       "      <td>1.002792e+06</td>\n",
       "      <td>1.002792e+06</td>\n",
       "      <td>1002792.0</td>\n",
       "      <td>1002792.0</td>\n",
       "      <td>1002792.0</td>\n",
       "      <td>1.002792e+06</td>\n",
       "      <td>1.002792e+06</td>\n",
       "      <td>1.002792e+06</td>\n",
       "      <td>1.002792e+06</td>\n",
       "      <td>1.002792e+06</td>\n",
       "      <td>1.002792e+06</td>\n",
       "      <td>1.002792e+06</td>\n",
       "      <td>1.002792e+06</td>\n",
       "    </tr>\n",
       "    <tr>\n",
       "      <th>mean</th>\n",
       "      <td>1.620373e+06</td>\n",
       "      <td>7.650000e+02</td>\n",
       "      <td>1.125000e+03</td>\n",
       "      <td>-6.650000e+02</td>\n",
       "      <td>10.0</td>\n",
       "      <td>10.0</td>\n",
       "      <td>10.0</td>\n",
       "      <td>2.073314e+07</td>\n",
       "      <td>-5.788526e+07</td>\n",
       "      <td>-4.046364e+07</td>\n",
       "      <td>-3.522854e+07</td>\n",
       "      <td>-3.715212e+07</td>\n",
       "      <td>-1.973050e+07</td>\n",
       "      <td>-1.449540e+07</td>\n",
       "      <td>4.687218e+02</td>\n",
       "    </tr>\n",
       "    <tr>\n",
       "      <th>std</th>\n",
       "      <td>7.288599e+05</td>\n",
       "      <td>2.424701e+02</td>\n",
       "      <td>2.713394e+02</td>\n",
       "      <td>3.666062e+02</td>\n",
       "      <td>0.0</td>\n",
       "      <td>0.0</td>\n",
       "      <td>0.0</td>\n",
       "      <td>3.173339e+06</td>\n",
       "      <td>9.989677e+06</td>\n",
       "      <td>6.415568e+06</td>\n",
       "      <td>5.412981e+06</td>\n",
       "      <td>6.819891e+06</td>\n",
       "      <td>3.245318e+06</td>\n",
       "      <td>2.242306e+06</td>\n",
       "      <td>2.181068e+01</td>\n",
       "    </tr>\n",
       "    <tr>\n",
       "      <th>min</th>\n",
       "      <td>3.612720e+05</td>\n",
       "      <td>3.500000e+02</td>\n",
       "      <td>6.600000e+02</td>\n",
       "      <td>-1.295000e+03</td>\n",
       "      <td>10.0</td>\n",
       "      <td>10.0</td>\n",
       "      <td>10.0</td>\n",
       "      <td>1.516613e+07</td>\n",
       "      <td>-7.566472e+07</td>\n",
       "      <td>-5.191443e+07</td>\n",
       "      <td>-4.477392e+07</td>\n",
       "      <td>-4.958830e+07</td>\n",
       "      <td>-2.581854e+07</td>\n",
       "      <td>-1.863164e+07</td>\n",
       "      <td>4.236109e+02</td>\n",
       "    </tr>\n",
       "    <tr>\n",
       "      <th>25%</th>\n",
       "      <td>9.874948e+05</td>\n",
       "      <td>5.575000e+02</td>\n",
       "      <td>8.900000e+02</td>\n",
       "      <td>-9.850000e+02</td>\n",
       "      <td>10.0</td>\n",
       "      <td>10.0</td>\n",
       "      <td>10.0</td>\n",
       "      <td>1.798457e+07</td>\n",
       "      <td>-6.653267e+07</td>\n",
       "      <td>-4.600917e+07</td>\n",
       "      <td>-3.991044e+07</td>\n",
       "      <td>-4.304444e+07</td>\n",
       "      <td>-2.251744e+07</td>\n",
       "      <td>-1.641861e+07</td>\n",
       "      <td>4.501491e+02</td>\n",
       "    </tr>\n",
       "    <tr>\n",
       "      <th>50%</th>\n",
       "      <td>1.620373e+06</td>\n",
       "      <td>7.650000e+02</td>\n",
       "      <td>1.125000e+03</td>\n",
       "      <td>-6.650000e+02</td>\n",
       "      <td>10.0</td>\n",
       "      <td>10.0</td>\n",
       "      <td>10.0</td>\n",
       "      <td>2.077366e+07</td>\n",
       "      <td>-5.791555e+07</td>\n",
       "      <td>-4.043998e+07</td>\n",
       "      <td>-3.521499e+07</td>\n",
       "      <td>-3.714438e+07</td>\n",
       "      <td>-1.966713e+07</td>\n",
       "      <td>-1.444114e+07</td>\n",
       "      <td>4.690386e+02</td>\n",
       "    </tr>\n",
       "    <tr>\n",
       "      <th>75%</th>\n",
       "      <td>2.253251e+06</td>\n",
       "      <td>9.725000e+02</td>\n",
       "      <td>1.360000e+03</td>\n",
       "      <td>-3.450000e+02</td>\n",
       "      <td>10.0</td>\n",
       "      <td>10.0</td>\n",
       "      <td>10.0</td>\n",
       "      <td>2.350493e+07</td>\n",
       "      <td>-4.925415e+07</td>\n",
       "      <td>-3.490769e+07</td>\n",
       "      <td>-3.054170e+07</td>\n",
       "      <td>-3.126137e+07</td>\n",
       "      <td>-1.691196e+07</td>\n",
       "      <td>-1.254351e+07</td>\n",
       "      <td>4.873026e+02</td>\n",
       "    </tr>\n",
       "    <tr>\n",
       "      <th>max</th>\n",
       "      <td>2.879474e+06</td>\n",
       "      <td>1.180000e+03</td>\n",
       "      <td>1.590000e+03</td>\n",
       "      <td>-3.500000e+01</td>\n",
       "      <td>10.0</td>\n",
       "      <td>10.0</td>\n",
       "      <td>10.0</td>\n",
       "      <td>2.614355e+07</td>\n",
       "      <td>-3.932805e+07</td>\n",
       "      <td>-2.813727e+07</td>\n",
       "      <td>-2.435165e+07</td>\n",
       "      <td>-2.413006e+07</td>\n",
       "      <td>-1.293980e+07</td>\n",
       "      <td>-9.154183e+06</td>\n",
       "      <td>5.146941e+02</td>\n",
       "    </tr>\n",
       "  </tbody>\n",
       "</table>\n",
       "</div>"
      ],
      "text/plain": [
       "                 Id             X             Y             Z         dX  \\\n",
       "count  1.002792e+06  1.002792e+06  1.002792e+06  1.002792e+06  1002792.0   \n",
       "mean   1.620373e+06  7.650000e+02  1.125000e+03 -6.650000e+02       10.0   \n",
       "std    7.288599e+05  2.424701e+02  2.713394e+02  3.666062e+02        0.0   \n",
       "min    3.612720e+05  3.500000e+02  6.600000e+02 -1.295000e+03       10.0   \n",
       "25%    9.874948e+05  5.575000e+02  8.900000e+02 -9.850000e+02       10.0   \n",
       "50%    1.620373e+06  7.650000e+02  1.125000e+03 -6.650000e+02       10.0   \n",
       "75%    2.253251e+06  9.725000e+02  1.360000e+03 -3.450000e+02       10.0   \n",
       "max    2.879474e+06  1.180000e+03  1.590000e+03 -3.500000e+01       10.0   \n",
       "\n",
       "              dY         dZ      pressure     disp_k_bc     disp_j_bc  \\\n",
       "count  1002792.0  1002792.0  1.002792e+06  1.002792e+06  1.002792e+06   \n",
       "mean        10.0       10.0  2.073314e+07 -5.788526e+07 -4.046364e+07   \n",
       "std          0.0        0.0  3.173339e+06  9.989677e+06  6.415568e+06   \n",
       "min         10.0       10.0  1.516613e+07 -7.566472e+07 -5.191443e+07   \n",
       "25%         10.0       10.0  1.798457e+07 -6.653267e+07 -4.600917e+07   \n",
       "50%         10.0       10.0  2.077366e+07 -5.791555e+07 -4.043998e+07   \n",
       "75%         10.0       10.0  2.350493e+07 -4.925415e+07 -3.490769e+07   \n",
       "max         10.0       10.0  2.614355e+07 -3.932805e+07 -2.813727e+07   \n",
       "\n",
       "          disp_i_bc      vertical         h_max         h_min   temperature  \n",
       "count  1.002792e+06  1.002792e+06  1.002792e+06  1.002792e+06  1.002792e+06  \n",
       "mean  -3.522854e+07 -3.715212e+07 -1.973050e+07 -1.449540e+07  4.687218e+02  \n",
       "std    5.412981e+06  6.819891e+06  3.245318e+06  2.242306e+06  2.181068e+01  \n",
       "min   -4.477392e+07 -4.958830e+07 -2.581854e+07 -1.863164e+07  4.236109e+02  \n",
       "25%   -3.991044e+07 -4.304444e+07 -2.251744e+07 -1.641861e+07  4.501491e+02  \n",
       "50%   -3.521499e+07 -3.714438e+07 -1.966713e+07 -1.444114e+07  4.690386e+02  \n",
       "75%   -3.054170e+07 -3.126137e+07 -1.691196e+07 -1.254351e+07  4.873026e+02  \n",
       "max   -2.435165e+07 -2.413006e+07 -1.293980e+07 -9.154183e+06  5.146941e+02  "
      ]
     },
     "execution_count": 21,
     "metadata": {},
     "output_type": "execute_result"
    }
   ],
   "source": [
    "data2.describe()"
   ]
  },
  {
   "cell_type": "code",
   "execution_count": 144,
   "metadata": {},
   "outputs": [],
   "source": []
  },
  {
   "cell_type": "markdown",
   "metadata": {},
   "source": [
    "now verify trim was correct"
   ]
  },
  {
   "cell_type": "code",
   "execution_count": 22,
   "metadata": {},
   "outputs": [
    {
     "data": {
      "text/plain": [
       "(350, 1180, 765.0)"
      ]
     },
     "execution_count": 22,
     "metadata": {},
     "output_type": "execute_result"
    }
   ],
   "source": [
    "min (data2.X), max (data2.X), data2['X'].median()"
   ]
  },
  {
   "cell_type": "code",
   "execution_count": 23,
   "metadata": {},
   "outputs": [
    {
     "data": {
      "text/plain": [
       "(660, 1590, -665.0)"
      ]
     },
     "execution_count": 23,
     "metadata": {},
     "output_type": "execute_result"
    }
   ],
   "source": [
    "min (data2.Y), max (data2.Y), data2['Z'].median()"
   ]
  },
  {
   "cell_type": "code",
   "execution_count": 24,
   "metadata": {},
   "outputs": [
    {
     "data": {
      "text/plain": [
       "(-1295, -35, -665.0)"
      ]
     },
     "execution_count": 24,
     "metadata": {},
     "output_type": "execute_result"
    }
   ],
   "source": [
    "min (data2.Z), max (data2.Z), data2['Z'].median()"
   ]
  },
  {
   "cell_type": "code",
   "execution_count": 28,
   "metadata": {},
   "outputs": [],
   "source": [
    "a = data2.sort_values([\"Z\",\"Y\",\"X\"], ascending = [True, True, True])"
   ]
  },
  {
   "cell_type": "code",
   "execution_count": null,
   "metadata": {},
   "outputs": [],
   "source": []
  },
  {
   "cell_type": "code",
   "execution_count": null,
   "metadata": {},
   "outputs": [],
   "source": []
  },
  {
   "cell_type": "markdown",
   "metadata": {},
   "source": [
    "now can write the data to a CSV file."
   ]
  },
  {
   "cell_type": "code",
   "execution_count": 29,
   "metadata": {},
   "outputs": [],
   "source": [
    "a.to_csv(\"2019_08_29_3_1b_node.csv\", encoding='utf-8', index=False)"
   ]
  },
  {
   "cell_type": "code",
   "execution_count": 26,
   "metadata": {},
   "outputs": [],
   "source": [
    "a.describe().to_csv(\"2019_08_29_3_1b_node_summary.csv\")"
   ]
  }
 ],
 "metadata": {
  "kernelspec": {
   "display_name": "Python 3",
   "language": "python",
   "name": "python3"
  },
  "language_info": {
   "codemirror_mode": {
    "name": "ipython",
    "version": 3
   },
   "file_extension": ".py",
   "mimetype": "text/x-python",
   "name": "python",
   "nbconvert_exporter": "python",
   "pygments_lexer": "ipython3",
   "version": "3.7.3"
  }
 },
 "nbformat": 4,
 "nbformat_minor": 2
}
