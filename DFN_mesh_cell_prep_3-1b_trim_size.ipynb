{
 "cells": [
  {
   "cell_type": "code",
   "execution_count": 76,
   "metadata": {},
   "outputs": [],
   "source": [
    "import pandas as pd"
   ]
  },
  {
   "cell_type": "code",
   "execution_count": 77,
   "metadata": {},
   "outputs": [],
   "source": [
    "data=pd.read_csv('processed_local_large_well_3_1b_dfn_corrected_locations.csv', float_precision='round_trip')"
   ]
  },
  {
   "cell_type": "code",
   "execution_count": 78,
   "metadata": {},
   "outputs": [
    {
     "data": {
      "text/html": [
       "<div>\n",
       "<style scoped>\n",
       "    .dataframe tbody tr th:only-of-type {\n",
       "        vertical-align: middle;\n",
       "    }\n",
       "\n",
       "    .dataframe tbody tr th {\n",
       "        vertical-align: top;\n",
       "    }\n",
       "\n",
       "    .dataframe thead th {\n",
       "        text-align: right;\n",
       "    }\n",
       "</style>\n",
       "<table border=\"1\" class=\"dataframe\">\n",
       "  <thead>\n",
       "    <tr style=\"text-align: right;\">\n",
       "      <th></th>\n",
       "      <th>Id</th>\n",
       "      <th>X</th>\n",
       "      <th>Y</th>\n",
       "      <th>Z</th>\n",
       "      <th>dX</th>\n",
       "      <th>dY</th>\n",
       "      <th>dZ</th>\n",
       "      <th>Porosity</th>\n",
       "      <th>kii</th>\n",
       "      <th>kjj</th>\n",
       "      <th>kkk</th>\n",
       "      <th>block</th>\n",
       "    </tr>\n",
       "  </thead>\n",
       "  <tbody>\n",
       "    <tr>\n",
       "      <th>count</th>\n",
       "      <td>3.920000e+06</td>\n",
       "      <td>3.920000e+06</td>\n",
       "      <td>3.920000e+06</td>\n",
       "      <td>3.920000e+06</td>\n",
       "      <td>3920000.0</td>\n",
       "      <td>3920000.0</td>\n",
       "      <td>3920000.0</td>\n",
       "      <td>3.920000e+06</td>\n",
       "      <td>3.920000e+06</td>\n",
       "      <td>3.920000e+06</td>\n",
       "      <td>3.920000e+06</td>\n",
       "      <td>3.920000e+06</td>\n",
       "    </tr>\n",
       "    <tr>\n",
       "      <th>mean</th>\n",
       "      <td>1.960000e+06</td>\n",
       "      <td>7.500000e+02</td>\n",
       "      <td>1.120000e+03</td>\n",
       "      <td>-4.750000e+02</td>\n",
       "      <td>10.0</td>\n",
       "      <td>10.0</td>\n",
       "      <td>10.0</td>\n",
       "      <td>2.577398e-02</td>\n",
       "      <td>3.122488e-15</td>\n",
       "      <td>3.122118e-15</td>\n",
       "      <td>3.126365e-15</td>\n",
       "      <td>1.818545e+00</td>\n",
       "    </tr>\n",
       "    <tr>\n",
       "      <th>std</th>\n",
       "      <td>1.131607e+06</td>\n",
       "      <td>4.041349e+02</td>\n",
       "      <td>4.041349e+02</td>\n",
       "      <td>5.773431e+02</td>\n",
       "      <td>0.0</td>\n",
       "      <td>0.0</td>\n",
       "      <td>0.0</td>\n",
       "      <td>4.437936e-02</td>\n",
       "      <td>6.534291e-15</td>\n",
       "      <td>6.534505e-15</td>\n",
       "      <td>6.532680e-15</td>\n",
       "      <td>3.853948e-01</td>\n",
       "    </tr>\n",
       "    <tr>\n",
       "      <th>min</th>\n",
       "      <td>0.000000e+00</td>\n",
       "      <td>5.500000e+01</td>\n",
       "      <td>4.250000e+02</td>\n",
       "      <td>-1.470000e+03</td>\n",
       "      <td>10.0</td>\n",
       "      <td>10.0</td>\n",
       "      <td>10.0</td>\n",
       "      <td>2.902800e-04</td>\n",
       "      <td>1.050371e-18</td>\n",
       "      <td>9.349565e-19</td>\n",
       "      <td>1.428325e-18</td>\n",
       "      <td>1.000000e+00</td>\n",
       "    </tr>\n",
       "    <tr>\n",
       "      <th>25%</th>\n",
       "      <td>9.799998e+05</td>\n",
       "      <td>4.025000e+02</td>\n",
       "      <td>7.725000e+02</td>\n",
       "      <td>-9.725000e+02</td>\n",
       "      <td>10.0</td>\n",
       "      <td>10.0</td>\n",
       "      <td>10.0</td>\n",
       "      <td>4.189503e-03</td>\n",
       "      <td>3.296985e-17</td>\n",
       "      <td>3.222510e-17</td>\n",
       "      <td>3.611656e-17</td>\n",
       "      <td>2.000000e+00</td>\n",
       "    </tr>\n",
       "    <tr>\n",
       "      <th>50%</th>\n",
       "      <td>1.960000e+06</td>\n",
       "      <td>7.500000e+02</td>\n",
       "      <td>1.120000e+03</td>\n",
       "      <td>-4.750000e+02</td>\n",
       "      <td>10.0</td>\n",
       "      <td>10.0</td>\n",
       "      <td>10.0</td>\n",
       "      <td>5.182442e-03</td>\n",
       "      <td>4.602574e-17</td>\n",
       "      <td>4.555071e-17</td>\n",
       "      <td>5.025345e-17</td>\n",
       "      <td>2.000000e+00</td>\n",
       "    </tr>\n",
       "    <tr>\n",
       "      <th>75%</th>\n",
       "      <td>2.939999e+06</td>\n",
       "      <td>1.097500e+03</td>\n",
       "      <td>1.467500e+03</td>\n",
       "      <td>2.250000e+01</td>\n",
       "      <td>10.0</td>\n",
       "      <td>10.0</td>\n",
       "      <td>10.0</td>\n",
       "      <td>6.702098e-03</td>\n",
       "      <td>6.885364e-17</td>\n",
       "      <td>6.906129e-17</td>\n",
       "      <td>7.486194e-17</td>\n",
       "      <td>2.000000e+00</td>\n",
       "    </tr>\n",
       "    <tr>\n",
       "      <th>max</th>\n",
       "      <td>3.919999e+06</td>\n",
       "      <td>1.445000e+03</td>\n",
       "      <td>1.815000e+03</td>\n",
       "      <td>5.200000e+02</td>\n",
       "      <td>10.0</td>\n",
       "      <td>10.0</td>\n",
       "      <td>10.0</td>\n",
       "      <td>1.200000e-01</td>\n",
       "      <td>1.700000e-14</td>\n",
       "      <td>1.700000e-14</td>\n",
       "      <td>1.700000e-14</td>\n",
       "      <td>2.000000e+00</td>\n",
       "    </tr>\n",
       "  </tbody>\n",
       "</table>\n",
       "</div>"
      ],
      "text/plain": [
       "                 Id             X             Y             Z         dX  \\\n",
       "count  3.920000e+06  3.920000e+06  3.920000e+06  3.920000e+06  3920000.0   \n",
       "mean   1.960000e+06  7.500000e+02  1.120000e+03 -4.750000e+02       10.0   \n",
       "std    1.131607e+06  4.041349e+02  4.041349e+02  5.773431e+02        0.0   \n",
       "min    0.000000e+00  5.500000e+01  4.250000e+02 -1.470000e+03       10.0   \n",
       "25%    9.799998e+05  4.025000e+02  7.725000e+02 -9.725000e+02       10.0   \n",
       "50%    1.960000e+06  7.500000e+02  1.120000e+03 -4.750000e+02       10.0   \n",
       "75%    2.939999e+06  1.097500e+03  1.467500e+03  2.250000e+01       10.0   \n",
       "max    3.919999e+06  1.445000e+03  1.815000e+03  5.200000e+02       10.0   \n",
       "\n",
       "              dY         dZ      Porosity           kii           kjj  \\\n",
       "count  3920000.0  3920000.0  3.920000e+06  3.920000e+06  3.920000e+06   \n",
       "mean        10.0       10.0  2.577398e-02  3.122488e-15  3.122118e-15   \n",
       "std          0.0        0.0  4.437936e-02  6.534291e-15  6.534505e-15   \n",
       "min         10.0       10.0  2.902800e-04  1.050371e-18  9.349565e-19   \n",
       "25%         10.0       10.0  4.189503e-03  3.296985e-17  3.222510e-17   \n",
       "50%         10.0       10.0  5.182442e-03  4.602574e-17  4.555071e-17   \n",
       "75%         10.0       10.0  6.702098e-03  6.885364e-17  6.906129e-17   \n",
       "max         10.0       10.0  1.200000e-01  1.700000e-14  1.700000e-14   \n",
       "\n",
       "                kkk         block  \n",
       "count  3.920000e+06  3.920000e+06  \n",
       "mean   3.126365e-15  1.818545e+00  \n",
       "std    6.532680e-15  3.853948e-01  \n",
       "min    1.428325e-18  1.000000e+00  \n",
       "25%    3.611656e-17  2.000000e+00  \n",
       "50%    5.025345e-17  2.000000e+00  \n",
       "75%    7.486194e-17  2.000000e+00  \n",
       "max    1.700000e-14  2.000000e+00  "
      ]
     },
     "execution_count": 78,
     "metadata": {},
     "output_type": "execute_result"
    }
   ],
   "source": [
    "data.describe()"
   ]
  },
  {
   "cell_type": "code",
   "execution_count": 79,
   "metadata": {},
   "outputs": [
    {
     "data": {
      "text/plain": [
       "(55.0, 1445.0, 750.0)"
      ]
     },
     "execution_count": 79,
     "metadata": {},
     "output_type": "execute_result"
    }
   ],
   "source": [
    "min (data.X), max (data.X), data['X'].median()"
   ]
  },
  {
   "cell_type": "code",
   "execution_count": 80,
   "metadata": {},
   "outputs": [
    {
     "data": {
      "text/plain": [
       "(425.0, 1815.0, 1120.0)"
      ]
     },
     "execution_count": 80,
     "metadata": {},
     "output_type": "execute_result"
    }
   ],
   "source": [
    "min (data.Y), max (data.Y), data['Y'].median()"
   ]
  },
  {
   "cell_type": "code",
   "execution_count": 81,
   "metadata": {},
   "outputs": [
    {
     "data": {
      "text/plain": [
       "(-1470, 520, -475.0)"
      ]
     },
     "execution_count": 81,
     "metadata": {},
     "output_type": "execute_result"
    }
   ],
   "source": [
    "min (data.Z), max (data.Z), data['Z'].median()"
   ]
  },
  {
   "cell_type": "markdown",
   "metadata": {},
   "source": [
    "need to manually calculate the translation distance based on injection location and bounds of the new/refine mesh versus the full domain mesh"
   ]
  },
  {
   "cell_type": "code",
   "execution_count": 87,
   "metadata": {},
   "outputs": [],
   "source": [
    "data2 = data.query('350 <= X <= 1180 and 660<= Y <= 1590 and -1295 <= Z <= -35')"
   ]
  },
  {
   "cell_type": "code",
   "execution_count": 88,
   "metadata": {},
   "outputs": [
    {
     "data": {
      "text/html": [
       "<div>\n",
       "<style scoped>\n",
       "    .dataframe tbody tr th:only-of-type {\n",
       "        vertical-align: middle;\n",
       "    }\n",
       "\n",
       "    .dataframe tbody tr th {\n",
       "        vertical-align: top;\n",
       "    }\n",
       "\n",
       "    .dataframe thead th {\n",
       "        text-align: right;\n",
       "    }\n",
       "</style>\n",
       "<table border=\"1\" class=\"dataframe\">\n",
       "  <thead>\n",
       "    <tr style=\"text-align: right;\">\n",
       "      <th></th>\n",
       "      <th>Id</th>\n",
       "      <th>X</th>\n",
       "      <th>Y</th>\n",
       "      <th>Z</th>\n",
       "      <th>dX</th>\n",
       "      <th>dY</th>\n",
       "      <th>dZ</th>\n",
       "      <th>Porosity</th>\n",
       "      <th>kii</th>\n",
       "      <th>kjj</th>\n",
       "      <th>kkk</th>\n",
       "      <th>block</th>\n",
       "    </tr>\n",
       "  </thead>\n",
       "  <tbody>\n",
       "    <tr>\n",
       "      <th>count</th>\n",
       "      <td>9.725940e+05</td>\n",
       "      <td>972594.000000</td>\n",
       "      <td>972594.000000</td>\n",
       "      <td>972594.000000</td>\n",
       "      <td>972594.0</td>\n",
       "      <td>972594.0</td>\n",
       "      <td>972594.0</td>\n",
       "      <td>972594.000000</td>\n",
       "      <td>9.725940e+05</td>\n",
       "      <td>9.725940e+05</td>\n",
       "      <td>9.725940e+05</td>\n",
       "      <td>972594.000000</td>\n",
       "    </tr>\n",
       "    <tr>\n",
       "      <th>mean</th>\n",
       "      <td>2.001918e+06</td>\n",
       "      <td>765.000000</td>\n",
       "      <td>1125.000000</td>\n",
       "      <td>-665.000000</td>\n",
       "      <td>10.0</td>\n",
       "      <td>10.0</td>\n",
       "      <td>10.0</td>\n",
       "      <td>0.005102</td>\n",
       "      <td>5.991010e-17</td>\n",
       "      <td>5.943934e-17</td>\n",
       "      <td>6.680995e-17</td>\n",
       "      <td>1.999725</td>\n",
       "    </tr>\n",
       "    <tr>\n",
       "      <th>std</th>\n",
       "      <td>6.708542e+05</td>\n",
       "      <td>239.583094</td>\n",
       "      <td>268.452493</td>\n",
       "      <td>363.719401</td>\n",
       "      <td>0.0</td>\n",
       "      <td>0.0</td>\n",
       "      <td>0.0</td>\n",
       "      <td>0.002275</td>\n",
       "      <td>3.107803e-16</td>\n",
       "      <td>3.141706e-16</td>\n",
       "      <td>3.281308e-16</td>\n",
       "      <td>0.016566</td>\n",
       "    </tr>\n",
       "    <tr>\n",
       "      <th>min</th>\n",
       "      <td>8.446560e+05</td>\n",
       "      <td>355.000000</td>\n",
       "      <td>665.000000</td>\n",
       "      <td>-1290.000000</td>\n",
       "      <td>10.0</td>\n",
       "      <td>10.0</td>\n",
       "      <td>10.0</td>\n",
       "      <td>0.000945</td>\n",
       "      <td>4.315121e-18</td>\n",
       "      <td>3.501236e-18</td>\n",
       "      <td>4.016556e-18</td>\n",
       "      <td>1.000000</td>\n",
       "    </tr>\n",
       "    <tr>\n",
       "      <th>25%</th>\n",
       "      <td>1.418550e+06</td>\n",
       "      <td>555.000000</td>\n",
       "      <td>895.000000</td>\n",
       "      <td>-980.000000</td>\n",
       "      <td>10.0</td>\n",
       "      <td>10.0</td>\n",
       "      <td>10.0</td>\n",
       "      <td>0.004190</td>\n",
       "      <td>3.283501e-17</td>\n",
       "      <td>3.214696e-17</td>\n",
       "      <td>3.608875e-17</td>\n",
       "      <td>2.000000</td>\n",
       "    </tr>\n",
       "    <tr>\n",
       "      <th>50%</th>\n",
       "      <td>2.001918e+06</td>\n",
       "      <td>765.000000</td>\n",
       "      <td>1125.000000</td>\n",
       "      <td>-665.000000</td>\n",
       "      <td>10.0</td>\n",
       "      <td>10.0</td>\n",
       "      <td>10.0</td>\n",
       "      <td>0.004997</td>\n",
       "      <td>4.352616e-17</td>\n",
       "      <td>4.299997e-17</td>\n",
       "      <td>4.770111e-17</td>\n",
       "      <td>2.000000</td>\n",
       "    </tr>\n",
       "    <tr>\n",
       "      <th>75%</th>\n",
       "      <td>2.585287e+06</td>\n",
       "      <td>975.000000</td>\n",
       "      <td>1355.000000</td>\n",
       "      <td>-350.000000</td>\n",
       "      <td>10.0</td>\n",
       "      <td>10.0</td>\n",
       "      <td>10.0</td>\n",
       "      <td>0.005869</td>\n",
       "      <td>5.637156e-17</td>\n",
       "      <td>5.609599e-17</td>\n",
       "      <td>6.156758e-17</td>\n",
       "      <td>2.000000</td>\n",
       "    </tr>\n",
       "    <tr>\n",
       "      <th>max</th>\n",
       "      <td>3.159181e+06</td>\n",
       "      <td>1175.000000</td>\n",
       "      <td>1585.000000</td>\n",
       "      <td>-40.000000</td>\n",
       "      <td>10.0</td>\n",
       "      <td>10.0</td>\n",
       "      <td>10.0</td>\n",
       "      <td>0.120000</td>\n",
       "      <td>1.700000e-14</td>\n",
       "      <td>1.700000e-14</td>\n",
       "      <td>1.700000e-14</td>\n",
       "      <td>2.000000</td>\n",
       "    </tr>\n",
       "  </tbody>\n",
       "</table>\n",
       "</div>"
      ],
      "text/plain": [
       "                 Id              X              Y              Z        dX  \\\n",
       "count  9.725940e+05  972594.000000  972594.000000  972594.000000  972594.0   \n",
       "mean   2.001918e+06     765.000000    1125.000000    -665.000000      10.0   \n",
       "std    6.708542e+05     239.583094     268.452493     363.719401       0.0   \n",
       "min    8.446560e+05     355.000000     665.000000   -1290.000000      10.0   \n",
       "25%    1.418550e+06     555.000000     895.000000    -980.000000      10.0   \n",
       "50%    2.001918e+06     765.000000    1125.000000    -665.000000      10.0   \n",
       "75%    2.585287e+06     975.000000    1355.000000    -350.000000      10.0   \n",
       "max    3.159181e+06    1175.000000    1585.000000     -40.000000      10.0   \n",
       "\n",
       "             dY        dZ       Porosity           kii           kjj  \\\n",
       "count  972594.0  972594.0  972594.000000  9.725940e+05  9.725940e+05   \n",
       "mean       10.0      10.0       0.005102  5.991010e-17  5.943934e-17   \n",
       "std         0.0       0.0       0.002275  3.107803e-16  3.141706e-16   \n",
       "min        10.0      10.0       0.000945  4.315121e-18  3.501236e-18   \n",
       "25%        10.0      10.0       0.004190  3.283501e-17  3.214696e-17   \n",
       "50%        10.0      10.0       0.004997  4.352616e-17  4.299997e-17   \n",
       "75%        10.0      10.0       0.005869  5.637156e-17  5.609599e-17   \n",
       "max        10.0      10.0       0.120000  1.700000e-14  1.700000e-14   \n",
       "\n",
       "                kkk          block  \n",
       "count  9.725940e+05  972594.000000  \n",
       "mean   6.680995e-17       1.999725  \n",
       "std    3.281308e-16       0.016566  \n",
       "min    4.016556e-18       1.000000  \n",
       "25%    3.608875e-17       2.000000  \n",
       "50%    4.770111e-17       2.000000  \n",
       "75%    6.156758e-17       2.000000  \n",
       "max    1.700000e-14       2.000000  "
      ]
     },
     "execution_count": 88,
     "metadata": {},
     "output_type": "execute_result"
    }
   ],
   "source": [
    "data2.describe()"
   ]
  },
  {
   "cell_type": "code",
   "execution_count": 144,
   "metadata": {},
   "outputs": [],
   "source": []
  },
  {
   "cell_type": "markdown",
   "metadata": {},
   "source": [
    "now verify translation was correct, and also chck the bounds to make sure still within the full domain"
   ]
  },
  {
   "cell_type": "code",
   "execution_count": 91,
   "metadata": {},
   "outputs": [
    {
     "data": {
      "text/plain": [
       "(355.0, 1175.0, 765.0)"
      ]
     },
     "execution_count": 91,
     "metadata": {},
     "output_type": "execute_result"
    }
   ],
   "source": [
    "min (data2.X), max (data2.X), data2['X'].median()"
   ]
  },
  {
   "cell_type": "code",
   "execution_count": 92,
   "metadata": {},
   "outputs": [
    {
     "data": {
      "text/plain": [
       "(665.0, 1585.0, -665.0)"
      ]
     },
     "execution_count": 92,
     "metadata": {},
     "output_type": "execute_result"
    }
   ],
   "source": [
    "min (data2.Y), max (data2.Y), data2['Z'].median()"
   ]
  },
  {
   "cell_type": "code",
   "execution_count": 93,
   "metadata": {},
   "outputs": [
    {
     "data": {
      "text/plain": [
       "(-1290, -40, -665.0)"
      ]
     },
     "execution_count": 93,
     "metadata": {},
     "output_type": "execute_result"
    }
   ],
   "source": [
    "min (data2.Z), max (data2.Z), data2['Z'].median()"
   ]
  },
  {
   "cell_type": "code",
   "execution_count": 96,
   "metadata": {},
   "outputs": [],
   "source": [
    "a = data2.sort_values([\"Z\",\"Y\",\"X\"], ascending = [True, True, True])"
   ]
  },
  {
   "cell_type": "code",
   "execution_count": null,
   "metadata": {},
   "outputs": [],
   "source": []
  },
  {
   "cell_type": "code",
   "execution_count": null,
   "metadata": {},
   "outputs": [],
   "source": []
  },
  {
   "cell_type": "markdown",
   "metadata": {},
   "source": [
    "now can write the data to a CSV file."
   ]
  },
  {
   "cell_type": "code",
   "execution_count": 97,
   "metadata": {},
   "outputs": [],
   "source": [
    "a.to_csv(\"2019_08_29_3_1b_cell.csv\", encoding='utf-8', index=False)"
   ]
  },
  {
   "cell_type": "code",
   "execution_count": 95,
   "metadata": {},
   "outputs": [],
   "source": [
    "data2.describe().to_csv(\"2019_08_29_3_1b_cell_summary.csv\")"
   ]
  }
 ],
 "metadata": {
  "kernelspec": {
   "display_name": "Python 3",
   "language": "python",
   "name": "python3"
  },
  "language_info": {
   "codemirror_mode": {
    "name": "ipython",
    "version": 3
   },
   "file_extension": ".py",
   "mimetype": "text/x-python",
   "name": "python",
   "nbconvert_exporter": "python",
   "pygments_lexer": "ipython3",
   "version": "3.7.3"
  }
 },
 "nbformat": 4,
 "nbformat_minor": 2
}
