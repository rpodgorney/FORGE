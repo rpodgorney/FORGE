{
 "cells": [
  {
   "cell_type": "code",
   "execution_count": 1,
   "metadata": {},
   "outputs": [],
   "source": [
    "import pandas as pd"
   ]
  },
  {
   "cell_type": "code",
   "execution_count": 67,
   "metadata": {},
   "outputs": [],
   "source": [
    "df=pd.read_csv('./data/local_upscaled_props_80m_cells_40_deg_grid.csv', float_precision='round_trip')"
   ]
  },
  {
   "cell_type": "code",
   "execution_count": 68,
   "metadata": {},
   "outputs": [
    {
     "data": {
      "text/html": [
       "<div>\n",
       "<style scoped>\n",
       "    .dataframe tbody tr th:only-of-type {\n",
       "        vertical-align: middle;\n",
       "    }\n",
       "\n",
       "    .dataframe tbody tr th {\n",
       "        vertical-align: top;\n",
       "    }\n",
       "\n",
       "    .dataframe thead th {\n",
       "        text-align: right;\n",
       "    }\n",
       "</style>\n",
       "<table border=\"1\" class=\"dataframe\">\n",
       "  <thead>\n",
       "    <tr style=\"text-align: right;\">\n",
       "      <th></th>\n",
       "      <th>X</th>\n",
       "      <th>Y</th>\n",
       "      <th>Z</th>\n",
       "      <th>porosity</th>\n",
       "      <th>ki</th>\n",
       "      <th>kj</th>\n",
       "      <th>kk</th>\n",
       "      <th>Is_Granitoid</th>\n",
       "    </tr>\n",
       "  </thead>\n",
       "  <tbody>\n",
       "    <tr>\n",
       "      <th>count</th>\n",
       "      <td>120000.000000</td>\n",
       "      <td>120000.000000</td>\n",
       "      <td>120000.000000</td>\n",
       "      <td>120000.000000</td>\n",
       "      <td>1.200000e+05</td>\n",
       "      <td>1.200000e+05</td>\n",
       "      <td>1.200000e+05</td>\n",
       "      <td>120000.000000</td>\n",
       "    </tr>\n",
       "    <tr>\n",
       "      <th>mean</th>\n",
       "      <td>2000.000000</td>\n",
       "      <td>2000.000000</td>\n",
       "      <td>-340.159583</td>\n",
       "      <td>0.007056</td>\n",
       "      <td>7.012375e-17</td>\n",
       "      <td>7.101414e-17</td>\n",
       "      <td>7.697362e-17</td>\n",
       "      <td>0.744800</td>\n",
       "    </tr>\n",
       "    <tr>\n",
       "      <th>std</th>\n",
       "      <td>1154.474385</td>\n",
       "      <td>1154.474385</td>\n",
       "      <td>1108.276666</td>\n",
       "      <td>0.004688</td>\n",
       "      <td>7.264913e-17</td>\n",
       "      <td>7.571059e-17</td>\n",
       "      <td>7.296439e-17</td>\n",
       "      <td>0.435975</td>\n",
       "    </tr>\n",
       "    <tr>\n",
       "      <th>min</th>\n",
       "      <td>40.000000</td>\n",
       "      <td>40.000000</td>\n",
       "      <td>-2220.160000</td>\n",
       "      <td>0.000000</td>\n",
       "      <td>0.000000e+00</td>\n",
       "      <td>0.000000e+00</td>\n",
       "      <td>0.000000e+00</td>\n",
       "      <td>0.000000</td>\n",
       "    </tr>\n",
       "    <tr>\n",
       "      <th>25%</th>\n",
       "      <td>1000.000000</td>\n",
       "      <td>1000.000000</td>\n",
       "      <td>-1280.160000</td>\n",
       "      <td>0.000000</td>\n",
       "      <td>0.000000e+00</td>\n",
       "      <td>0.000000e+00</td>\n",
       "      <td>0.000000e+00</td>\n",
       "      <td>0.000000</td>\n",
       "    </tr>\n",
       "    <tr>\n",
       "      <th>50%</th>\n",
       "      <td>2000.000000</td>\n",
       "      <td>2000.000000</td>\n",
       "      <td>-340.155000</td>\n",
       "      <td>0.008049</td>\n",
       "      <td>5.430000e-17</td>\n",
       "      <td>5.380000e-17</td>\n",
       "      <td>6.380000e-17</td>\n",
       "      <td>1.000000</td>\n",
       "    </tr>\n",
       "    <tr>\n",
       "      <th>75%</th>\n",
       "      <td>3000.000000</td>\n",
       "      <td>3000.000000</td>\n",
       "      <td>599.840000</td>\n",
       "      <td>0.009834</td>\n",
       "      <td>9.800000e-17</td>\n",
       "      <td>9.760000e-17</td>\n",
       "      <td>1.120000e-16</td>\n",
       "      <td>1.000000</td>\n",
       "    </tr>\n",
       "    <tr>\n",
       "      <th>max</th>\n",
       "      <td>3960.000000</td>\n",
       "      <td>3960.000000</td>\n",
       "      <td>1539.840000</td>\n",
       "      <td>0.028371</td>\n",
       "      <td>8.020000e-16</td>\n",
       "      <td>8.620000e-16</td>\n",
       "      <td>7.280000e-16</td>\n",
       "      <td>1.000000</td>\n",
       "    </tr>\n",
       "  </tbody>\n",
       "</table>\n",
       "</div>"
      ],
      "text/plain": [
       "                   X              Y              Z       porosity  \\\n",
       "count  120000.000000  120000.000000  120000.000000  120000.000000   \n",
       "mean     2000.000000    2000.000000    -340.159583       0.007056   \n",
       "std      1154.474385    1154.474385    1108.276666       0.004688   \n",
       "min        40.000000      40.000000   -2220.160000       0.000000   \n",
       "25%      1000.000000    1000.000000   -1280.160000       0.000000   \n",
       "50%      2000.000000    2000.000000    -340.155000       0.008049   \n",
       "75%      3000.000000    3000.000000     599.840000       0.009834   \n",
       "max      3960.000000    3960.000000    1539.840000       0.028371   \n",
       "\n",
       "                 ki            kj            kk   Is_Granitoid  \n",
       "count  1.200000e+05  1.200000e+05  1.200000e+05  120000.000000  \n",
       "mean   7.012375e-17  7.101414e-17  7.697362e-17       0.744800  \n",
       "std    7.264913e-17  7.571059e-17  7.296439e-17       0.435975  \n",
       "min    0.000000e+00  0.000000e+00  0.000000e+00       0.000000  \n",
       "25%    0.000000e+00  0.000000e+00  0.000000e+00       0.000000  \n",
       "50%    5.430000e-17  5.380000e-17  6.380000e-17       1.000000  \n",
       "75%    9.800000e-17  9.760000e-17  1.120000e-16       1.000000  \n",
       "max    8.020000e-16  8.620000e-16  7.280000e-16       1.000000  "
      ]
     },
     "execution_count": 68,
     "metadata": {},
     "output_type": "execute_result"
    }
   ],
   "source": [
    "df.describe()"
   ]
  },
  {
   "cell_type": "markdown",
   "metadata": {},
   "source": [
    "Optional depending on mesh size, can do in excel for small meshes:  need to add column (1) for Id, columns 5, 6, and 7 for dX, dY, and dZ"
   ]
  },
  {
   "cell_type": "markdown",
   "metadata": {},
   "source": [
    "first add the \"Id\""
   ]
  },
  {
   "cell_type": "code",
   "execution_count": 69,
   "metadata": {},
   "outputs": [],
   "source": [
    "df.insert(loc=0, column='Id', value=0) #need a value"
   ]
  },
  {
   "cell_type": "markdown",
   "metadata": {},
   "source": [
    "now add the dX, dY, and dZ"
   ]
  },
  {
   "cell_type": "code",
   "execution_count": 70,
   "metadata": {},
   "outputs": [],
   "source": [
    "mesh_size = 80"
   ]
  },
  {
   "cell_type": "code",
   "execution_count": 71,
   "metadata": {},
   "outputs": [],
   "source": [
    "df.insert(loc=4, column='dX', value= mesh_size)"
   ]
  },
  {
   "cell_type": "code",
   "execution_count": 72,
   "metadata": {},
   "outputs": [],
   "source": [
    "df.insert(loc=5, column='dY', value= mesh_size)"
   ]
  },
  {
   "cell_type": "code",
   "execution_count": 73,
   "metadata": {},
   "outputs": [],
   "source": [
    "df.insert(loc=6, column='dZ', value= mesh_size)"
   ]
  },
  {
   "cell_type": "markdown",
   "metadata": {},
   "source": [
    "now check the file"
   ]
  },
  {
   "cell_type": "code",
   "execution_count": 46,
   "metadata": {},
   "outputs": [],
   "source": [
    "del df['Compressibility']"
   ]
  },
  {
   "cell_type": "code",
   "execution_count": 74,
   "metadata": {},
   "outputs": [
    {
     "data": {
      "text/html": [
       "<div>\n",
       "<style scoped>\n",
       "    .dataframe tbody tr th:only-of-type {\n",
       "        vertical-align: middle;\n",
       "    }\n",
       "\n",
       "    .dataframe tbody tr th {\n",
       "        vertical-align: top;\n",
       "    }\n",
       "\n",
       "    .dataframe thead th {\n",
       "        text-align: right;\n",
       "    }\n",
       "</style>\n",
       "<table border=\"1\" class=\"dataframe\">\n",
       "  <thead>\n",
       "    <tr style=\"text-align: right;\">\n",
       "      <th></th>\n",
       "      <th>Id</th>\n",
       "      <th>X</th>\n",
       "      <th>Y</th>\n",
       "      <th>Z</th>\n",
       "      <th>dX</th>\n",
       "      <th>dY</th>\n",
       "      <th>dZ</th>\n",
       "      <th>porosity</th>\n",
       "      <th>ki</th>\n",
       "      <th>kj</th>\n",
       "      <th>kk</th>\n",
       "      <th>Is_Granitoid</th>\n",
       "    </tr>\n",
       "  </thead>\n",
       "  <tbody>\n",
       "    <tr>\n",
       "      <th>0</th>\n",
       "      <td>0</td>\n",
       "      <td>40.0</td>\n",
       "      <td>3960.0</td>\n",
       "      <td>1539.84</td>\n",
       "      <td>80</td>\n",
       "      <td>80</td>\n",
       "      <td>80</td>\n",
       "      <td>0.0</td>\n",
       "      <td>0.0</td>\n",
       "      <td>0.0</td>\n",
       "      <td>0.0</td>\n",
       "      <td>0</td>\n",
       "    </tr>\n",
       "    <tr>\n",
       "      <th>1</th>\n",
       "      <td>0</td>\n",
       "      <td>40.0</td>\n",
       "      <td>3960.0</td>\n",
       "      <td>1459.84</td>\n",
       "      <td>80</td>\n",
       "      <td>80</td>\n",
       "      <td>80</td>\n",
       "      <td>0.0</td>\n",
       "      <td>0.0</td>\n",
       "      <td>0.0</td>\n",
       "      <td>0.0</td>\n",
       "      <td>0</td>\n",
       "    </tr>\n",
       "    <tr>\n",
       "      <th>2</th>\n",
       "      <td>0</td>\n",
       "      <td>40.0</td>\n",
       "      <td>3960.0</td>\n",
       "      <td>1379.84</td>\n",
       "      <td>80</td>\n",
       "      <td>80</td>\n",
       "      <td>80</td>\n",
       "      <td>0.0</td>\n",
       "      <td>0.0</td>\n",
       "      <td>0.0</td>\n",
       "      <td>0.0</td>\n",
       "      <td>0</td>\n",
       "    </tr>\n",
       "    <tr>\n",
       "      <th>3</th>\n",
       "      <td>0</td>\n",
       "      <td>40.0</td>\n",
       "      <td>3960.0</td>\n",
       "      <td>1299.84</td>\n",
       "      <td>80</td>\n",
       "      <td>80</td>\n",
       "      <td>80</td>\n",
       "      <td>0.0</td>\n",
       "      <td>0.0</td>\n",
       "      <td>0.0</td>\n",
       "      <td>0.0</td>\n",
       "      <td>0</td>\n",
       "    </tr>\n",
       "    <tr>\n",
       "      <th>4</th>\n",
       "      <td>0</td>\n",
       "      <td>40.0</td>\n",
       "      <td>3960.0</td>\n",
       "      <td>1219.84</td>\n",
       "      <td>80</td>\n",
       "      <td>80</td>\n",
       "      <td>80</td>\n",
       "      <td>0.0</td>\n",
       "      <td>0.0</td>\n",
       "      <td>0.0</td>\n",
       "      <td>0.0</td>\n",
       "      <td>0</td>\n",
       "    </tr>\n",
       "  </tbody>\n",
       "</table>\n",
       "</div>"
      ],
      "text/plain": [
       "   Id     X       Y        Z  dX  dY  dZ  porosity   ki   kj   kk  \\\n",
       "0   0  40.0  3960.0  1539.84  80  80  80       0.0  0.0  0.0  0.0   \n",
       "1   0  40.0  3960.0  1459.84  80  80  80       0.0  0.0  0.0  0.0   \n",
       "2   0  40.0  3960.0  1379.84  80  80  80       0.0  0.0  0.0  0.0   \n",
       "3   0  40.0  3960.0  1299.84  80  80  80       0.0  0.0  0.0  0.0   \n",
       "4   0  40.0  3960.0  1219.84  80  80  80       0.0  0.0  0.0  0.0   \n",
       "\n",
       "   Is_Granitoid  \n",
       "0             0  \n",
       "1             0  \n",
       "2             0  \n",
       "3             0  \n",
       "4             0  "
      ]
     },
     "execution_count": 74,
     "metadata": {},
     "output_type": "execute_result"
    }
   ],
   "source": [
    "df.head()"
   ]
  },
  {
   "cell_type": "markdown",
   "metadata": {},
   "source": [
    "now sort so values are in correct order for em2ex"
   ]
  },
  {
   "cell_type": "code",
   "execution_count": 75,
   "metadata": {},
   "outputs": [],
   "source": [
    "a = df.sort_values([\"Z\",\"Y\",\"X\"], ascending = [True, True, True])"
   ]
  },
  {
   "cell_type": "code",
   "execution_count": 76,
   "metadata": {},
   "outputs": [
    {
     "data": {
      "text/html": [
       "<div>\n",
       "<style scoped>\n",
       "    .dataframe tbody tr th:only-of-type {\n",
       "        vertical-align: middle;\n",
       "    }\n",
       "\n",
       "    .dataframe tbody tr th {\n",
       "        vertical-align: top;\n",
       "    }\n",
       "\n",
       "    .dataframe thead th {\n",
       "        text-align: right;\n",
       "    }\n",
       "</style>\n",
       "<table border=\"1\" class=\"dataframe\">\n",
       "  <thead>\n",
       "    <tr style=\"text-align: right;\">\n",
       "      <th></th>\n",
       "      <th>Id</th>\n",
       "      <th>X</th>\n",
       "      <th>Y</th>\n",
       "      <th>Z</th>\n",
       "      <th>dX</th>\n",
       "      <th>dY</th>\n",
       "      <th>dZ</th>\n",
       "      <th>porosity</th>\n",
       "      <th>ki</th>\n",
       "      <th>kj</th>\n",
       "      <th>kk</th>\n",
       "      <th>Is_Granitoid</th>\n",
       "    </tr>\n",
       "  </thead>\n",
       "  <tbody>\n",
       "    <tr>\n",
       "      <th>2399</th>\n",
       "      <td>0</td>\n",
       "      <td>40.0</td>\n",
       "      <td>40.0</td>\n",
       "      <td>-2220.16</td>\n",
       "      <td>80</td>\n",
       "      <td>80</td>\n",
       "      <td>80</td>\n",
       "      <td>0.008336</td>\n",
       "      <td>5.580000e-17</td>\n",
       "      <td>7.700000e-17</td>\n",
       "      <td>9.090000e-17</td>\n",
       "      <td>1</td>\n",
       "    </tr>\n",
       "    <tr>\n",
       "      <th>4799</th>\n",
       "      <td>0</td>\n",
       "      <td>120.0</td>\n",
       "      <td>40.0</td>\n",
       "      <td>-2220.16</td>\n",
       "      <td>80</td>\n",
       "      <td>80</td>\n",
       "      <td>80</td>\n",
       "      <td>0.010032</td>\n",
       "      <td>1.070000e-16</td>\n",
       "      <td>1.050000e-16</td>\n",
       "      <td>9.120000e-17</td>\n",
       "      <td>1</td>\n",
       "    </tr>\n",
       "    <tr>\n",
       "      <th>7199</th>\n",
       "      <td>0</td>\n",
       "      <td>200.0</td>\n",
       "      <td>40.0</td>\n",
       "      <td>-2220.16</td>\n",
       "      <td>80</td>\n",
       "      <td>80</td>\n",
       "      <td>80</td>\n",
       "      <td>0.008001</td>\n",
       "      <td>4.430000e-17</td>\n",
       "      <td>6.220000e-17</td>\n",
       "      <td>6.430000e-17</td>\n",
       "      <td>1</td>\n",
       "    </tr>\n",
       "    <tr>\n",
       "      <th>9599</th>\n",
       "      <td>0</td>\n",
       "      <td>280.0</td>\n",
       "      <td>40.0</td>\n",
       "      <td>-2220.16</td>\n",
       "      <td>80</td>\n",
       "      <td>80</td>\n",
       "      <td>80</td>\n",
       "      <td>0.006586</td>\n",
       "      <td>1.990000e-17</td>\n",
       "      <td>3.300000e-17</td>\n",
       "      <td>3.440000e-17</td>\n",
       "      <td>1</td>\n",
       "    </tr>\n",
       "    <tr>\n",
       "      <th>11999</th>\n",
       "      <td>0</td>\n",
       "      <td>360.0</td>\n",
       "      <td>40.0</td>\n",
       "      <td>-2220.16</td>\n",
       "      <td>80</td>\n",
       "      <td>80</td>\n",
       "      <td>80</td>\n",
       "      <td>0.007728</td>\n",
       "      <td>6.030000e-17</td>\n",
       "      <td>4.600000e-17</td>\n",
       "      <td>8.050000e-17</td>\n",
       "      <td>1</td>\n",
       "    </tr>\n",
       "  </tbody>\n",
       "</table>\n",
       "</div>"
      ],
      "text/plain": [
       "       Id      X     Y        Z  dX  dY  dZ  porosity            ki  \\\n",
       "2399    0   40.0  40.0 -2220.16  80  80  80  0.008336  5.580000e-17   \n",
       "4799    0  120.0  40.0 -2220.16  80  80  80  0.010032  1.070000e-16   \n",
       "7199    0  200.0  40.0 -2220.16  80  80  80  0.008001  4.430000e-17   \n",
       "9599    0  280.0  40.0 -2220.16  80  80  80  0.006586  1.990000e-17   \n",
       "11999   0  360.0  40.0 -2220.16  80  80  80  0.007728  6.030000e-17   \n",
       "\n",
       "                 kj            kk  Is_Granitoid  \n",
       "2399   7.700000e-17  9.090000e-17             1  \n",
       "4799   1.050000e-16  9.120000e-17             1  \n",
       "7199   6.220000e-17  6.430000e-17             1  \n",
       "9599   3.300000e-17  3.440000e-17             1  \n",
       "11999  4.600000e-17  8.050000e-17             1  "
      ]
     },
     "execution_count": 76,
     "metadata": {},
     "output_type": "execute_result"
    }
   ],
   "source": [
    "a.head()"
   ]
  },
  {
   "cell_type": "markdown",
   "metadata": {},
   "source": [
    "now we have the perm and proposity all set up, but if the mesh has both granite and sediment, we need to all a column for the block number, and re-assign the perm and porosity for the sediments"
   ]
  },
  {
   "cell_type": "markdown",
   "metadata": {},
   "source": [
    "this may not exist, depending on mesh size and whether it come from LF or Fracman\n",
    "\n",
    "\n",
    "sediments = block 1, granite = block 2"
   ]
  },
  {
   "cell_type": "code",
   "execution_count": 77,
   "metadata": {},
   "outputs": [],
   "source": [
    "a = a.rename(columns={'Is_Granitoid': 'block', 'ki': 'kii','kj':'kjj','kk':'kkk'})"
   ]
  },
  {
   "cell_type": "code",
   "execution_count": 78,
   "metadata": {},
   "outputs": [],
   "source": [
    "a.block = a.block + 1"
   ]
  },
  {
   "cell_type": "code",
   "execution_count": 39,
   "metadata": {},
   "outputs": [],
   "source": [
    "a = a.rename(columns={'Is_Granitoid': 'block'})"
   ]
  },
  {
   "cell_type": "code",
   "execution_count": 33,
   "metadata": {},
   "outputs": [],
   "source": [
    "a.loc[a.GM == 'Granitiod', 'block'] = 2"
   ]
  },
  {
   "cell_type": "code",
   "execution_count": 34,
   "metadata": {},
   "outputs": [
    {
     "data": {
      "text/plain": [
       "array(['Granitiod', 'Valley Fill'], dtype=object)"
      ]
     },
     "execution_count": 34,
     "metadata": {},
     "output_type": "execute_result"
    }
   ],
   "source": [
    "a.GM.unique()"
   ]
  },
  {
   "cell_type": "code",
   "execution_count": 35,
   "metadata": {},
   "outputs": [],
   "source": [
    "a.loc[a.GM == 'Valley Fill', 'block'] = 1"
   ]
  },
  {
   "cell_type": "code",
   "execution_count": 36,
   "metadata": {},
   "outputs": [
    {
     "data": {
      "text/plain": [
       "array([2, 1])"
      ]
     },
     "execution_count": 36,
     "metadata": {},
     "output_type": "execute_result"
    }
   ],
   "source": [
    "a.block.unique()"
   ]
  },
  {
   "cell_type": "markdown",
   "metadata": {},
   "source": [
    "If needed\n",
    "\n",
    "\n",
    "assign sediment properties"
   ]
  },
  {
   "cell_type": "code",
   "execution_count": 79,
   "metadata": {},
   "outputs": [],
   "source": [
    "a.loc[a.block == 1, 'kii'] = 1.7e-14"
   ]
  },
  {
   "cell_type": "code",
   "execution_count": 80,
   "metadata": {},
   "outputs": [],
   "source": [
    "a.loc[a.block == 1, 'kjj'] = 1.7e-14"
   ]
  },
  {
   "cell_type": "code",
   "execution_count": 81,
   "metadata": {},
   "outputs": [],
   "source": [
    "a.loc[a.block == 1, 'kkk'] = 1.7e-14"
   ]
  },
  {
   "cell_type": "code",
   "execution_count": 82,
   "metadata": {},
   "outputs": [],
   "source": [
    "a.loc[a.block == 1, 'porosity'] = 0.12"
   ]
  },
  {
   "cell_type": "code",
   "execution_count": 47,
   "metadata": {},
   "outputs": [],
   "source": []
  },
  {
   "cell_type": "markdown",
   "metadata": {},
   "source": [
    "now can write the data to a CSV file."
   ]
  },
  {
   "cell_type": "code",
   "execution_count": 83,
   "metadata": {},
   "outputs": [],
   "source": [
    "a.to_csv(\"processed_local_3_40_cell.csv\", encoding='utf-8', index=False)"
   ]
  },
  {
   "cell_type": "code",
   "execution_count": 13,
   "metadata": {},
   "outputs": [],
   "source": [
    "a.describe().to_csv(\"processed_local_3_10_cell_Summary.csv\")"
   ]
  },
  {
   "cell_type": "markdown",
   "metadata": {},
   "source": [
    "now need to read into leapfrog and verify all the mpaaings"
   ]
  }
 ],
 "metadata": {
  "kernelspec": {
   "display_name": "Python 3",
   "language": "python",
   "name": "python3"
  },
  "language_info": {
   "codemirror_mode": {
    "name": "ipython",
    "version": 3
   },
   "file_extension": ".py",
   "mimetype": "text/x-python",
   "name": "python",
   "nbconvert_exporter": "python",
   "pygments_lexer": "ipython3",
   "version": "3.8.3"
  }
 },
 "nbformat": 4,
 "nbformat_minor": 2
}
