{
 "cells": [
  {
   "cell_type": "code",
   "execution_count": 10,
   "metadata": {},
   "outputs": [],
   "source": [
    "import plotly.plotly as py\n",
    "import plotly.graph_objs as go\n",
    "import pandas as pd\n",
    "import numpy as np\n",
    "import scipy.stats as st\n",
    "import seaborn as sns\n",
    "import matplotlib.pyplot as plt\n",
    "import scipy.interpolate"
   ]
  },
  {
   "cell_type": "code",
   "execution_count": 46,
   "metadata": {},
   "outputs": [],
   "source": [
    "data=pd.read_csv('./data for figs/3-1b_inj_2.csv')"
   ]
  },
  {
   "cell_type": "code",
   "execution_count": 34,
   "metadata": {},
   "outputs": [
    {
     "data": {
      "text/html": [
       "<div>\n",
       "<style scoped>\n",
       "    .dataframe tbody tr th:only-of-type {\n",
       "        vertical-align: middle;\n",
       "    }\n",
       "\n",
       "    .dataframe tbody tr th {\n",
       "        vertical-align: top;\n",
       "    }\n",
       "\n",
       "    .dataframe thead th {\n",
       "        text-align: right;\n",
       "    }\n",
       "</style>\n",
       "<table border=\"1\" class=\"dataframe\">\n",
       "  <thead>\n",
       "    <tr style=\"text-align: right;\">\n",
       "      <th></th>\n",
       "      <th>time</th>\n",
       "      <th>years</th>\n",
       "      <th>energy_prod</th>\n",
       "      <th>inj_dP</th>\n",
       "      <th>inj_dP_Mpa</th>\n",
       "      <th>inj_point_V</th>\n",
       "      <th>inj_point_hmax</th>\n",
       "      <th>inj_point_hmin</th>\n",
       "      <th>inj_point_pres</th>\n",
       "      <th>inj_point_temp</th>\n",
       "      <th>V</th>\n",
       "      <th>h_max</th>\n",
       "      <th>h_min</th>\n",
       "    </tr>\n",
       "  </thead>\n",
       "  <tbody>\n",
       "    <tr>\n",
       "      <th>count</th>\n",
       "      <td>4.450000e+02</td>\n",
       "      <td>4.450000e+02</td>\n",
       "      <td>4.450000e+02</td>\n",
       "      <td>445.000000</td>\n",
       "      <td>445.000000</td>\n",
       "      <td>4.450000e+02</td>\n",
       "      <td>4.450000e+02</td>\n",
       "      <td>4.450000e+02</td>\n",
       "      <td>4.450000e+02</td>\n",
       "      <td>445.000000</td>\n",
       "      <td>445.000000</td>\n",
       "      <td>445.000000</td>\n",
       "      <td>445.000000</td>\n",
       "    </tr>\n",
       "    <tr>\n",
       "      <th>mean</th>\n",
       "      <td>1.030866e+08</td>\n",
       "      <td>3.268854e+00</td>\n",
       "      <td>3.157564e+12</td>\n",
       "      <td>1886.193174</td>\n",
       "      <td>13.004849</td>\n",
       "      <td>5.181364e+07</td>\n",
       "      <td>3.046539e+07</td>\n",
       "      <td>2.308445e+07</td>\n",
       "      <td>3.659164e+07</td>\n",
       "      <td>123.086084</td>\n",
       "      <td>73.768630</td>\n",
       "      <td>52.420371</td>\n",
       "      <td>45.039439</td>\n",
       "    </tr>\n",
       "    <tr>\n",
       "      <th>std</th>\n",
       "      <td>1.011093e+08</td>\n",
       "      <td>3.206155e+00</td>\n",
       "      <td>2.231880e+12</td>\n",
       "      <td>452.077539</td>\n",
       "      <td>3.116966</td>\n",
       "      <td>7.054055e+05</td>\n",
       "      <td>6.940785e+05</td>\n",
       "      <td>6.578617e+05</td>\n",
       "      <td>3.116965e+06</td>\n",
       "      <td>47.006786</td>\n",
       "      <td>1.196503</td>\n",
       "      <td>1.207430</td>\n",
       "      <td>1.244484</td>\n",
       "    </tr>\n",
       "    <tr>\n",
       "      <th>min</th>\n",
       "      <td>1.000000e+01</td>\n",
       "      <td>3.170980e-07</td>\n",
       "      <td>2.783540e+08</td>\n",
       "      <td>-201.725227</td>\n",
       "      <td>-1.390847</td>\n",
       "      <td>5.106886e+07</td>\n",
       "      <td>2.972966e+07</td>\n",
       "      <td>2.237112e+07</td>\n",
       "      <td>2.219595e+07</td>\n",
       "      <td>100.000000</td>\n",
       "      <td>67.827547</td>\n",
       "      <td>46.434439</td>\n",
       "      <td>38.872215</td>\n",
       "    </tr>\n",
       "    <tr>\n",
       "      <th>25%</th>\n",
       "      <td>1.627329e+06</td>\n",
       "      <td>5.160227e-02</td>\n",
       "      <td>3.300000e+11</td>\n",
       "      <td>1860.573670</td>\n",
       "      <td>12.828209</td>\n",
       "      <td>5.126082e+07</td>\n",
       "      <td>2.992044e+07</td>\n",
       "      <td>2.256252e+07</td>\n",
       "      <td>3.641500e+07</td>\n",
       "      <td>100.000000</td>\n",
       "      <td>74.069213</td>\n",
       "      <td>52.715262</td>\n",
       "      <td>45.328846</td>\n",
       "    </tr>\n",
       "    <tr>\n",
       "      <th>50%</th>\n",
       "      <td>7.938396e+07</td>\n",
       "      <td>2.517249e+00</td>\n",
       "      <td>3.750000e+12</td>\n",
       "      <td>2095.136299</td>\n",
       "      <td>14.445462</td>\n",
       "      <td>5.153171e+07</td>\n",
       "      <td>3.018963e+07</td>\n",
       "      <td>2.283032e+07</td>\n",
       "      <td>3.803226e+07</td>\n",
       "      <td>100.000000</td>\n",
       "      <td>74.351063</td>\n",
       "      <td>53.008984</td>\n",
       "      <td>45.649675</td>\n",
       "    </tr>\n",
       "    <tr>\n",
       "      <th>75%</th>\n",
       "      <td>1.880045e+08</td>\n",
       "      <td>5.961582e+00</td>\n",
       "      <td>4.930000e+12</td>\n",
       "      <td>2184.252971</td>\n",
       "      <td>15.059900</td>\n",
       "      <td>5.222021e+07</td>\n",
       "      <td>3.086626e+07</td>\n",
       "      <td>2.347984e+07</td>\n",
       "      <td>3.864669e+07</td>\n",
       "      <td>100.000000</td>\n",
       "      <td>74.448840</td>\n",
       "      <td>53.108453</td>\n",
       "      <td>45.750537</td>\n",
       "    </tr>\n",
       "    <tr>\n",
       "      <th>max</th>\n",
       "      <td>3.153600e+08</td>\n",
       "      <td>1.000000e+01</td>\n",
       "      <td>7.400000e+12</td>\n",
       "      <td>2245.569527</td>\n",
       "      <td>15.482663</td>\n",
       "      <td>5.450998e+07</td>\n",
       "      <td>3.311687e+07</td>\n",
       "      <td>2.555464e+07</td>\n",
       "      <td>3.906946e+07</td>\n",
       "      <td>226.847064</td>\n",
       "      <td>74.510534</td>\n",
       "      <td>53.171330</td>\n",
       "      <td>45.812793</td>\n",
       "    </tr>\n",
       "  </tbody>\n",
       "</table>\n",
       "</div>"
      ],
      "text/plain": [
       "               time         years   energy_prod       inj_dP  inj_dP_Mpa  \\\n",
       "count  4.450000e+02  4.450000e+02  4.450000e+02   445.000000  445.000000   \n",
       "mean   1.030866e+08  3.268854e+00  3.157564e+12  1886.193174   13.004849   \n",
       "std    1.011093e+08  3.206155e+00  2.231880e+12   452.077539    3.116966   \n",
       "min    1.000000e+01  3.170980e-07  2.783540e+08  -201.725227   -1.390847   \n",
       "25%    1.627329e+06  5.160227e-02  3.300000e+11  1860.573670   12.828209   \n",
       "50%    7.938396e+07  2.517249e+00  3.750000e+12  2095.136299   14.445462   \n",
       "75%    1.880045e+08  5.961582e+00  4.930000e+12  2184.252971   15.059900   \n",
       "max    3.153600e+08  1.000000e+01  7.400000e+12  2245.569527   15.482663   \n",
       "\n",
       "        inj_point_V  inj_point_hmax  inj_point_hmin  inj_point_pres  \\\n",
       "count  4.450000e+02    4.450000e+02    4.450000e+02    4.450000e+02   \n",
       "mean   5.181364e+07    3.046539e+07    2.308445e+07    3.659164e+07   \n",
       "std    7.054055e+05    6.940785e+05    6.578617e+05    3.116965e+06   \n",
       "min    5.106886e+07    2.972966e+07    2.237112e+07    2.219595e+07   \n",
       "25%    5.126082e+07    2.992044e+07    2.256252e+07    3.641500e+07   \n",
       "50%    5.153171e+07    3.018963e+07    2.283032e+07    3.803226e+07   \n",
       "75%    5.222021e+07    3.086626e+07    2.347984e+07    3.864669e+07   \n",
       "max    5.450998e+07    3.311687e+07    2.555464e+07    3.906946e+07   \n",
       "\n",
       "       inj_point_temp           V       h_max       h_min  \n",
       "count      445.000000  445.000000  445.000000  445.000000  \n",
       "mean       123.086084   73.768630   52.420371   45.039439  \n",
       "std         47.006786    1.196503    1.207430    1.244484  \n",
       "min        100.000000   67.827547   46.434439   38.872215  \n",
       "25%        100.000000   74.069213   52.715262   45.328846  \n",
       "50%        100.000000   74.351063   53.008984   45.649675  \n",
       "75%        100.000000   74.448840   53.108453   45.750537  \n",
       "max        226.847064   74.510534   53.171330   45.812793  "
      ]
     },
     "execution_count": 34,
     "metadata": {},
     "output_type": "execute_result"
    }
   ],
   "source": [
    "data.describe()"
   ]
  },
  {
   "cell_type": "code",
   "execution_count": null,
   "metadata": {},
   "outputs": [],
   "source": []
  },
  {
   "cell_type": "code",
   "execution_count": 13,
   "metadata": {},
   "outputs": [],
   "source": [
    "sns.set()"
   ]
  },
  {
   "cell_type": "code",
   "execution_count": 14,
   "metadata": {},
   "outputs": [],
   "source": [
    "sns.set_style(\"whitegrid\")"
   ]
  },
  {
   "cell_type": "code",
   "execution_count": 15,
   "metadata": {},
   "outputs": [],
   "source": [
    "sns.set_context(\"paper\")"
   ]
  },
  {
   "cell_type": "code",
   "execution_count": 47,
   "metadata": {},
   "outputs": [],
   "source": [
    "data.inj_point_pres = data.inj_point_pres/1e6"
   ]
  },
  {
   "cell_type": "code",
   "execution_count": 21,
   "metadata": {},
   "outputs": [
    {
     "data": {
      "text/plain": [
       "Text(0, 0.5, 'Injection Rate\\n(kg/s)')"
      ]
     },
     "execution_count": 21,
     "metadata": {},
     "output_type": "execute_result"
    }
   ],
   "source": []
  },
  {
   "cell_type": "code",
   "execution_count": 48,
   "metadata": {},
   "outputs": [
    {
     "data": {
      "text/plain": [
       "Text(0, 0.5, 'Pressure Change\\n(MPa)')"
      ]
     },
     "execution_count": 48,
     "metadata": {},
     "output_type": "execute_result"
    }
   ],
   "source": [
    "ax1 = plt.subplot(211)\n",
    "sns.lineplot('years', 'inj_dP_Mpa', data = data)\n",
    "#sns.lineplot('model_time', 'delta P', data = data, label = 'Modeled')\n",
    "# make these tick labels invisible\n",
    "plt.setp(ax1.get_xticklabels(), visible=False)\n",
    "ax1.set_xlim(0, 10) \n",
    "ax1.set_xlabel('')\n",
    "ax1.set_ylabel('Pressure Change\\n(MPa)')"
   ]
  },
  {
   "cell_type": "code",
   "execution_count": 49,
   "metadata": {},
   "outputs": [
    {
     "data": {
      "text/plain": [
       "Text(0.5, 0, 'Time (years)')"
      ]
     },
     "execution_count": 49,
     "metadata": {},
     "output_type": "execute_result"
    }
   ],
   "source": [
    "ax2 = plt.subplot(212, sharex=ax1)\n",
    "sns.lineplot('years', 'inj_point_pres', data = data, label = 'Pore Pressure')\n",
    "sns.lineplot('years', 'V', data = data, label = 'Vertical')\n",
    "sns.lineplot('years', 'h_max', data = data, label = 'H max')\n",
    "sns.lineplot('years', 'h_min', data = data, label = 'H min')\n",
    "\n",
    "\n",
    "ax2.set_ylabel('Total Stress or Pressure\\n(MPa)')\n",
    "ax2.set_xlabel('Time (years)')"
   ]
  },
  {
   "cell_type": "code",
   "execution_count": 50,
   "metadata": {},
   "outputs": [
    {
     "data": {
      "text/plain": [
       "Text(0.5, 0.98, '3-1b Injection')"
      ]
     },
     "execution_count": 50,
     "metadata": {},
     "output_type": "execute_result"
    }
   ],
   "source": [
    "plt.suptitle('3-1b Injection', fontsize=16)"
   ]
  },
  {
   "cell_type": "code",
   "execution_count": null,
   "metadata": {},
   "outputs": [],
   "source": []
  },
  {
   "cell_type": "code",
   "execution_count": 57,
   "metadata": {},
   "outputs": [],
   "source": []
  },
  {
   "cell_type": "code",
   "execution_count": 28,
   "metadata": {},
   "outputs": [
    {
     "data": {
      "text/plain": [
       "(2, 10)"
      ]
     },
     "execution_count": 28,
     "metadata": {},
     "output_type": "execute_result"
    }
   ],
   "source": []
  },
  {
   "cell_type": "code",
   "execution_count": 54,
   "metadata": {},
   "outputs": [],
   "source": []
  },
  {
   "cell_type": "code",
   "execution_count": null,
   "metadata": {},
   "outputs": [],
   "source": []
  }
 ],
 "metadata": {
  "kernelspec": {
   "display_name": "Python 3",
   "language": "python",
   "name": "python3"
  },
  "language_info": {
   "codemirror_mode": {
    "name": "ipython",
    "version": 3
   },
   "file_extension": ".py",
   "mimetype": "text/x-python",
   "name": "python",
   "nbconvert_exporter": "python",
   "pygments_lexer": "ipython3",
   "version": "3.7.3"
  }
 },
 "nbformat": 4,
 "nbformat_minor": 2
}
