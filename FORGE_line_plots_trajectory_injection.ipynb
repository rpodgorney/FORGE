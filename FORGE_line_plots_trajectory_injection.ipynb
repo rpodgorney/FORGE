{
 "cells": [
  {
   "cell_type": "code",
   "execution_count": 2,
   "metadata": {},
   "outputs": [],
   "source": [
    "import plotly as py\n",
    "import plotly.graph_objs as go\n",
    "import pandas as pd\n",
    "import numpy as np\n",
    "import scipy.stats as st\n",
    "import seaborn as sns\n",
    "import matplotlib.pyplot as plt\n",
    "import scipy.interpolate"
   ]
  },
  {
   "cell_type": "code",
   "execution_count": null,
   "metadata": {},
   "outputs": [],
   "source": []
  },
  {
   "cell_type": "code",
   "execution_count": null,
   "metadata": {},
   "outputs": [],
   "source": []
  },
  {
   "cell_type": "code",
   "execution_count": 10,
   "metadata": {},
   "outputs": [],
   "source": [
    "data=pd.read_csv('./simple_kestrel_trans1_CSV_standalone.csv')"
   ]
  },
  {
   "cell_type": "code",
   "execution_count": null,
   "metadata": {},
   "outputs": [],
   "source": []
  },
  {
   "cell_type": "code",
   "execution_count": null,
   "metadata": {},
   "outputs": [],
   "source": []
  },
  {
   "cell_type": "code",
   "execution_count": 11,
   "metadata": {},
   "outputs": [
    {
     "data": {
      "text/html": [
       "<div>\n",
       "<style scoped>\n",
       "    .dataframe tbody tr th:only-of-type {\n",
       "        vertical-align: middle;\n",
       "    }\n",
       "\n",
       "    .dataframe tbody tr th {\n",
       "        vertical-align: top;\n",
       "    }\n",
       "\n",
       "    .dataframe thead th {\n",
       "        text-align: right;\n",
       "    }\n",
       "</style>\n",
       "<table border=\"1\" class=\"dataframe\">\n",
       "  <thead>\n",
       "    <tr style=\"text-align: right;\">\n",
       "      <th></th>\n",
       "      <th>time</th>\n",
       "      <th>T_pps</th>\n",
       "      <th>dt</th>\n",
       "      <th>energy_prod</th>\n",
       "      <th>flowing_temp_out</th>\n",
       "      <th>m_dot_pps</th>\n",
       "      <th>mass_prod</th>\n",
       "      <th>mass_rate</th>\n",
       "      <th>prod_point_pres</th>\n",
       "      <th>prod_point_temp</th>\n",
       "    </tr>\n",
       "  </thead>\n",
       "  <tbody>\n",
       "    <tr>\n",
       "      <th>count</th>\n",
       "      <td>1.160000e+02</td>\n",
       "      <td>116.0</td>\n",
       "      <td>1.160000e+02</td>\n",
       "      <td>1.160000e+02</td>\n",
       "      <td>116.000000</td>\n",
       "      <td>116.000000</td>\n",
       "      <td>1.160000e+02</td>\n",
       "      <td>116.000000</td>\n",
       "      <td>1.160000e+02</td>\n",
       "      <td>116.000000</td>\n",
       "    </tr>\n",
       "    <tr>\n",
       "      <th>mean</th>\n",
       "      <td>8.789647e+06</td>\n",
       "      <td>323.0</td>\n",
       "      <td>5.440849e+05</td>\n",
       "      <td>6.846671e+12</td>\n",
       "      <td>156.921013</td>\n",
       "      <td>6.939655</td>\n",
       "      <td>1.046918e+07</td>\n",
       "      <td>19.313459</td>\n",
       "      <td>2.265850e+07</td>\n",
       "      <td>436.222793</td>\n",
       "    </tr>\n",
       "    <tr>\n",
       "      <th>std</th>\n",
       "      <td>1.636086e+07</td>\n",
       "      <td>0.0</td>\n",
       "      <td>8.720755e+05</td>\n",
       "      <td>1.088794e+13</td>\n",
       "      <td>14.806324</td>\n",
       "      <td>0.649934</td>\n",
       "      <td>1.674086e+07</td>\n",
       "      <td>2.211729</td>\n",
       "      <td>4.603065e+04</td>\n",
       "      <td>6.986389</td>\n",
       "    </tr>\n",
       "    <tr>\n",
       "      <th>min</th>\n",
       "      <td>0.000000e+00</td>\n",
       "      <td>323.0</td>\n",
       "      <td>0.000000e+00</td>\n",
       "      <td>0.000000e+00</td>\n",
       "      <td>0.000000</td>\n",
       "      <td>0.000000</td>\n",
       "      <td>0.000000e+00</td>\n",
       "      <td>0.000000</td>\n",
       "      <td>2.250376e+07</td>\n",
       "      <td>410.044831</td>\n",
       "    </tr>\n",
       "    <tr>\n",
       "      <th>25%</th>\n",
       "      <td>8.097290e+04</td>\n",
       "      <td>323.0</td>\n",
       "      <td>4.879948e+03</td>\n",
       "      <td>6.188066e+10</td>\n",
       "      <td>158.789293</td>\n",
       "      <td>7.000000</td>\n",
       "      <td>9.298194e+04</td>\n",
       "      <td>19.055130</td>\n",
       "      <td>2.265193e+07</td>\n",
       "      <td>438.976693</td>\n",
       "    </tr>\n",
       "    <tr>\n",
       "      <th>50%</th>\n",
       "      <td>5.380163e+05</td>\n",
       "      <td>323.0</td>\n",
       "      <td>4.385087e+04</td>\n",
       "      <td>5.595000e+11</td>\n",
       "      <td>158.953051</td>\n",
       "      <td>7.000000</td>\n",
       "      <td>8.404755e+05</td>\n",
       "      <td>19.244106</td>\n",
       "      <td>2.267510e+07</td>\n",
       "      <td>438.984603</td>\n",
       "    </tr>\n",
       "    <tr>\n",
       "      <th>75%</th>\n",
       "      <td>7.525189e+06</td>\n",
       "      <td>323.0</td>\n",
       "      <td>6.790483e+05</td>\n",
       "      <td>8.795000e+12</td>\n",
       "      <td>159.007518</td>\n",
       "      <td>7.000000</td>\n",
       "      <td>1.319515e+07</td>\n",
       "      <td>19.403634</td>\n",
       "      <td>2.268214e+07</td>\n",
       "      <td>439.019635</td>\n",
       "    </tr>\n",
       "    <tr>\n",
       "      <th>max</th>\n",
       "      <td>6.311385e+07</td>\n",
       "      <td>323.0</td>\n",
       "      <td>2.592000e+06</td>\n",
       "      <td>3.290000e+13</td>\n",
       "      <td>159.203796</td>\n",
       "      <td>7.000000</td>\n",
       "      <td>5.005220e+07</td>\n",
       "      <td>30.525562</td>\n",
       "      <td>2.272218e+07</td>\n",
       "      <td>439.246334</td>\n",
       "    </tr>\n",
       "  </tbody>\n",
       "</table>\n",
       "</div>"
      ],
      "text/plain": [
       "               time  T_pps            dt   energy_prod  flowing_temp_out  \\\n",
       "count  1.160000e+02  116.0  1.160000e+02  1.160000e+02        116.000000   \n",
       "mean   8.789647e+06  323.0  5.440849e+05  6.846671e+12        156.921013   \n",
       "std    1.636086e+07    0.0  8.720755e+05  1.088794e+13         14.806324   \n",
       "min    0.000000e+00  323.0  0.000000e+00  0.000000e+00          0.000000   \n",
       "25%    8.097290e+04  323.0  4.879948e+03  6.188066e+10        158.789293   \n",
       "50%    5.380163e+05  323.0  4.385087e+04  5.595000e+11        158.953051   \n",
       "75%    7.525189e+06  323.0  6.790483e+05  8.795000e+12        159.007518   \n",
       "max    6.311385e+07  323.0  2.592000e+06  3.290000e+13        159.203796   \n",
       "\n",
       "        m_dot_pps     mass_prod   mass_rate  prod_point_pres  prod_point_temp  \n",
       "count  116.000000  1.160000e+02  116.000000     1.160000e+02       116.000000  \n",
       "mean     6.939655  1.046918e+07   19.313459     2.265850e+07       436.222793  \n",
       "std      0.649934  1.674086e+07    2.211729     4.603065e+04         6.986389  \n",
       "min      0.000000  0.000000e+00    0.000000     2.250376e+07       410.044831  \n",
       "25%      7.000000  9.298194e+04   19.055130     2.265193e+07       438.976693  \n",
       "50%      7.000000  8.404755e+05   19.244106     2.267510e+07       438.984603  \n",
       "75%      7.000000  1.319515e+07   19.403634     2.268214e+07       439.019635  \n",
       "max      7.000000  5.005220e+07   30.525562     2.272218e+07       439.246334  "
      ]
     },
     "execution_count": 11,
     "metadata": {},
     "output_type": "execute_result"
    }
   ],
   "source": [
    "data.describe()"
   ]
  },
  {
   "cell_type": "code",
   "execution_count": null,
   "metadata": {},
   "outputs": [],
   "source": []
  },
  {
   "cell_type": "code",
   "execution_count": null,
   "metadata": {},
   "outputs": [],
   "source": []
  },
  {
   "cell_type": "code",
   "execution_count": null,
   "metadata": {},
   "outputs": [],
   "source": []
  },
  {
   "cell_type": "code",
   "execution_count": 5,
   "metadata": {},
   "outputs": [],
   "source": [
    "sns.set()"
   ]
  },
  {
   "cell_type": "code",
   "execution_count": null,
   "metadata": {},
   "outputs": [],
   "source": []
  },
  {
   "cell_type": "code",
   "execution_count": 6,
   "metadata": {},
   "outputs": [],
   "source": [
    "sns.set_style(\"whitegrid\")"
   ]
  },
  {
   "cell_type": "code",
   "execution_count": null,
   "metadata": {},
   "outputs": [],
   "source": []
  },
  {
   "cell_type": "code",
   "execution_count": 7,
   "metadata": {},
   "outputs": [],
   "source": [
    "sns.set_context(\"paper\")"
   ]
  },
  {
   "cell_type": "code",
   "execution_count": null,
   "metadata": {},
   "outputs": [],
   "source": []
  },
  {
   "cell_type": "code",
   "execution_count": 8,
   "metadata": {},
   "outputs": [
    {
     "ename": "AttributeError",
     "evalue": "'DataFrame' object has no attribute 'inj_point_pres'",
     "output_type": "error",
     "traceback": [
      "\u001b[0;31m---------------------------------------------------------------------------\u001b[0m",
      "\u001b[0;31mAttributeError\u001b[0m                            Traceback (most recent call last)",
      "\u001b[0;32m<ipython-input-8-0443e86581ee>\u001b[0m in \u001b[0;36m<module>\u001b[0;34m\u001b[0m\n\u001b[0;32m----> 1\u001b[0;31m \u001b[0mdata\u001b[0m\u001b[0;34m.\u001b[0m\u001b[0minj_point_pres\u001b[0m \u001b[0;34m=\u001b[0m \u001b[0mdata\u001b[0m\u001b[0;34m.\u001b[0m\u001b[0minj_point_pres\u001b[0m\u001b[0;34m/\u001b[0m\u001b[0;36m1e6\u001b[0m\u001b[0;34m\u001b[0m\u001b[0;34m\u001b[0m\u001b[0m\n\u001b[0m",
      "\u001b[0;32m~/miniconda3/envs/py3/lib/python3.8/site-packages/pandas/core/generic.py\u001b[0m in \u001b[0;36m__getattr__\u001b[0;34m(self, name)\u001b[0m\n\u001b[1;32m   5272\u001b[0m             \u001b[0;32mif\u001b[0m \u001b[0mself\u001b[0m\u001b[0;34m.\u001b[0m\u001b[0m_info_axis\u001b[0m\u001b[0;34m.\u001b[0m\u001b[0m_can_hold_identifiers_and_holds_name\u001b[0m\u001b[0;34m(\u001b[0m\u001b[0mname\u001b[0m\u001b[0;34m)\u001b[0m\u001b[0;34m:\u001b[0m\u001b[0;34m\u001b[0m\u001b[0;34m\u001b[0m\u001b[0m\n\u001b[1;32m   5273\u001b[0m                 \u001b[0;32mreturn\u001b[0m \u001b[0mself\u001b[0m\u001b[0;34m[\u001b[0m\u001b[0mname\u001b[0m\u001b[0;34m]\u001b[0m\u001b[0;34m\u001b[0m\u001b[0;34m\u001b[0m\u001b[0m\n\u001b[0;32m-> 5274\u001b[0;31m             \u001b[0;32mreturn\u001b[0m \u001b[0mobject\u001b[0m\u001b[0;34m.\u001b[0m\u001b[0m__getattribute__\u001b[0m\u001b[0;34m(\u001b[0m\u001b[0mself\u001b[0m\u001b[0;34m,\u001b[0m \u001b[0mname\u001b[0m\u001b[0;34m)\u001b[0m\u001b[0;34m\u001b[0m\u001b[0;34m\u001b[0m\u001b[0m\n\u001b[0m\u001b[1;32m   5275\u001b[0m \u001b[0;34m\u001b[0m\u001b[0m\n\u001b[1;32m   5276\u001b[0m     \u001b[0;32mdef\u001b[0m \u001b[0m__setattr__\u001b[0m\u001b[0;34m(\u001b[0m\u001b[0mself\u001b[0m\u001b[0;34m,\u001b[0m \u001b[0mname\u001b[0m\u001b[0;34m:\u001b[0m \u001b[0mstr\u001b[0m\u001b[0;34m,\u001b[0m \u001b[0mvalue\u001b[0m\u001b[0;34m)\u001b[0m \u001b[0;34m->\u001b[0m \u001b[0;32mNone\u001b[0m\u001b[0;34m:\u001b[0m\u001b[0;34m\u001b[0m\u001b[0;34m\u001b[0m\u001b[0m\n",
      "\u001b[0;31mAttributeError\u001b[0m: 'DataFrame' object has no attribute 'inj_point_pres'"
     ]
    }
   ],
   "source": [
    "data.inj_point_pres = data.inj_point_pres/1e6"
   ]
  },
  {
   "cell_type": "code",
   "execution_count": null,
   "metadata": {},
   "outputs": [],
   "source": []
  },
  {
   "cell_type": "code",
   "execution_count": 21,
   "metadata": {},
   "outputs": [
    {
     "data": {
      "text/plain": [
       "Text(0, 0.5, 'Injection Rate\\n(kg/s)')"
      ]
     },
     "execution_count": 21,
     "metadata": {},
     "output_type": "execute_result"
    }
   ],
   "source": []
  },
  {
   "cell_type": "code",
   "execution_count": 14,
   "metadata": {},
   "outputs": [
    {
     "data": {
      "text/plain": [
       "Text(0, 0.5, 'Pressure Change\\n(MPa)')"
      ]
     },
     "execution_count": 14,
     "metadata": {},
     "output_type": "execute_result"
    },
    {
     "data": {
      "image/png": "[encoded data removed]",
      "text/plain": [
       "<Figure size 432x288 with 1 Axes>"
      ]
     },
     "metadata": {},
     "output_type": "display_data"
    }
   ],
   "source": [
    "ax1 = plt.subplot(211)\n",
    "sns.lineplot('time', 'flowing_temp_out', data = data)\n",
    "#sns.lineplot('model_time', 'delta P', data = data, label = 'Modeled')\n",
    "# make these tick labels invisible\n",
    "plt.setp(ax1.get_xticklabels(), visible=False)\n",
    "ax1.set_xlim(0, 10) \n",
    "ax1.set_xlabel('')\n",
    "ax1.set_ylabel('Pressure Change\\n(MPa)')"
   ]
  },
  {
   "cell_type": "code",
   "execution_count": null,
   "metadata": {},
   "outputs": [],
   "source": []
  },
  {
   "cell_type": "code",
   "execution_count": null,
   "metadata": {},
   "outputs": [],
   "source": []
  },
  {
   "cell_type": "code",
   "execution_count": null,
   "metadata": {},
   "outputs": [],
   "source": []
  },
  {
   "cell_type": "code",
   "execution_count": null,
   "metadata": {},
   "outputs": [],
   "source": []
  },
  {
   "cell_type": "code",
   "execution_count": 49,
   "metadata": {},
   "outputs": [
    {
     "data": {
      "text/plain": [
       "Text(0.5, 0, 'Time (years)')"
      ]
     },
     "execution_count": 49,
     "metadata": {},
     "output_type": "execute_result"
    }
   ],
   "source": [
    "ax2 = plt.subplot(212, sharex=ax1)\n",
    "sns.lineplot('years', 'inj_point_pres', data = data, label = 'Pore Pressure')\n",
    "sns.lineplot('years', 'V', data = data, label = 'Vertical')\n",
    "sns.lineplot('years', 'h_max', data = data, label = 'H max')\n",
    "sns.lineplot('years', 'h_min', data = data, label = 'H min')\n",
    "\n",
    "\n",
    "ax2.set_ylabel('Total Stress or Pressure\\n(MPa)')\n",
    "ax2.set_xlabel('Time (years)')"
   ]
  },
  {
   "cell_type": "code",
   "execution_count": 50,
   "metadata": {},
   "outputs": [
    {
     "data": {
      "text/plain": [
       "Text(0.5, 0.98, '3-1b Injection')"
      ]
     },
     "execution_count": 50,
     "metadata": {},
     "output_type": "execute_result"
    }
   ],
   "source": [
    "plt.suptitle('3-1b Injection', fontsize=16)"
   ]
  },
  {
   "cell_type": "code",
   "execution_count": null,
   "metadata": {},
   "outputs": [],
   "source": []
  },
  {
   "cell_type": "code",
   "execution_count": 57,
   "metadata": {},
   "outputs": [],
   "source": []
  },
  {
   "cell_type": "code",
   "execution_count": 28,
   "metadata": {},
   "outputs": [
    {
     "data": {
      "text/plain": [
       "(2, 10)"
      ]
     },
     "execution_count": 28,
     "metadata": {},
     "output_type": "execute_result"
    }
   ],
   "source": []
  },
  {
   "cell_type": "code",
   "execution_count": 54,
   "metadata": {},
   "outputs": [],
   "source": []
  },
  {
   "cell_type": "code",
   "execution_count": null,
   "metadata": {},
   "outputs": [],
   "source": []
  }
 ],
 "metadata": {
  "kernelspec": {
   "display_name": "Python 3",
   "language": "python",
   "name": "python3"
  },
  "language_info": {
   "codemirror_mode": {
    "name": "ipython",
    "version": 3
   },
   "file_extension": ".py",
   "mimetype": "text/x-python",
   "name": "python",
   "nbconvert_exporter": "python",
   "pygments_lexer": "ipython3",
   "version": "3.8.3"
  }
 },
 "nbformat": 4,
 "nbformat_minor": 2
}
