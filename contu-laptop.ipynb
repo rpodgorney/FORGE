{
 "cells": [
  {
   "cell_type": "code",
   "execution_count": 1,
   "metadata": {},
   "outputs": [],
   "source": [
    "import plotly.plotly as py\n",
    "import plotly.graph_objs as go\n",
    "import pandas as pd\n",
    "import numpy as np\n",
    "import scipy.stats as st\n",
    "import seaborn as sns\n",
    "import matplotlib.pyplot as plt\n",
    "import scipy.interpolate"
   ]
  },
  {
   "cell_type": "code",
   "execution_count": 2,
   "metadata": {},
   "outputs": [],
   "source": [
    "data=pd.read_csv('./data for figs/3-1a2_10yr_PTM_2019_09_08_CSV.csv')"
   ]
  },
  {
   "cell_type": "code",
   "execution_count": 3,
   "metadata": {},
   "outputs": [
    {
     "data": {
      "text/html": [
       "<div>\n",
       "<style scoped>\n",
       "    .dataframe tbody tr th:only-of-type {\n",
       "        vertical-align: middle;\n",
       "    }\n",
       "\n",
       "    .dataframe tbody tr th {\n",
       "        vertical-align: top;\n",
       "    }\n",
       "\n",
       "    .dataframe thead th {\n",
       "        text-align: right;\n",
       "    }\n",
       "</style>\n",
       "<table border=\"1\" class=\"dataframe\">\n",
       "  <thead>\n",
       "    <tr style=\"text-align: right;\">\n",
       "      <th></th>\n",
       "      <th>time</th>\n",
       "      <th>dt</th>\n",
       "      <th>energy_prod</th>\n",
       "      <th>inj_dP</th>\n",
       "      <th>inj_point_pres</th>\n",
       "      <th>inj_point_temp</th>\n",
       "      <th>mass_prod</th>\n",
       "      <th>mass_rate</th>\n",
       "      <th>near_inj_point_temp</th>\n",
       "      <th>prod_point_pres</th>\n",
       "      <th>prod_point_temp</th>\n",
       "    </tr>\n",
       "  </thead>\n",
       "  <tbody>\n",
       "    <tr>\n",
       "      <th>count</th>\n",
       "      <td>7.900000e+02</td>\n",
       "      <td>7.900000e+02</td>\n",
       "      <td>7.900000e+02</td>\n",
       "      <td>790.000000</td>\n",
       "      <td>7.900000e+02</td>\n",
       "      <td>790.000000</td>\n",
       "      <td>7.900000e+02</td>\n",
       "      <td>790.000000</td>\n",
       "      <td>790.000000</td>\n",
       "      <td>7.900000e+02</td>\n",
       "      <td>790.000000</td>\n",
       "    </tr>\n",
       "    <tr>\n",
       "      <th>mean</th>\n",
       "      <td>1.340962e+08</td>\n",
       "      <td>3.991899e+05</td>\n",
       "      <td>1.778898e+12</td>\n",
       "      <td>2001.639747</td>\n",
       "      <td>3.738762e+07</td>\n",
       "      <td>386.319910</td>\n",
       "      <td>1.926691e+06</td>\n",
       "      <td>5.239552</td>\n",
       "      <td>398.865556</td>\n",
       "      <td>1.969934e+07</td>\n",
       "      <td>500.501031</td>\n",
       "    </tr>\n",
       "    <tr>\n",
       "      <th>std</th>\n",
       "      <td>1.033106e+08</td>\n",
       "      <td>3.416608e+05</td>\n",
       "      <td>1.531554e+12</td>\n",
       "      <td>375.568710</td>\n",
       "      <td>2.589455e+06</td>\n",
       "      <td>37.310863</td>\n",
       "      <td>1.649999e+06</td>\n",
       "      <td>2.816263</td>\n",
       "      <td>46.247876</td>\n",
       "      <td>2.178472e+05</td>\n",
       "      <td>0.731126</td>\n",
       "    </tr>\n",
       "    <tr>\n",
       "      <th>min</th>\n",
       "      <td>0.000000e+00</td>\n",
       "      <td>0.000000e+00</td>\n",
       "      <td>0.000000e+00</td>\n",
       "      <td>-201.725227</td>\n",
       "      <td>2.219595e+07</td>\n",
       "      <td>373.150000</td>\n",
       "      <td>0.000000e+00</td>\n",
       "      <td>0.000000</td>\n",
       "      <td>374.886041</td>\n",
       "      <td>1.963331e+07</td>\n",
       "      <td>498.561090</td>\n",
       "    </tr>\n",
       "    <tr>\n",
       "      <th>25%</th>\n",
       "      <td>3.521368e+07</td>\n",
       "      <td>7.731286e+04</td>\n",
       "      <td>3.559704e+11</td>\n",
       "      <td>2031.478323</td>\n",
       "      <td>3.759335e+07</td>\n",
       "      <td>373.150000</td>\n",
       "      <td>3.780084e+05</td>\n",
       "      <td>4.762063</td>\n",
       "      <td>374.937639</td>\n",
       "      <td>1.964228e+07</td>\n",
       "      <td>500.026685</td>\n",
       "    </tr>\n",
       "    <tr>\n",
       "      <th>50%</th>\n",
       "      <td>1.218107e+08</td>\n",
       "      <td>3.322569e+05</td>\n",
       "      <td>1.489937e+12</td>\n",
       "      <td>2136.587358</td>\n",
       "      <td>3.831805e+07</td>\n",
       "      <td>373.150000</td>\n",
       "      <td>1.604387e+06</td>\n",
       "      <td>4.855762</td>\n",
       "      <td>375.137782</td>\n",
       "      <td>1.966030e+07</td>\n",
       "      <td>500.710064</td>\n",
       "    </tr>\n",
       "    <tr>\n",
       "      <th>75%</th>\n",
       "      <td>2.209785e+08</td>\n",
       "      <td>6.579899e+05</td>\n",
       "      <td>2.925402e+12</td>\n",
       "      <td>2203.283722</td>\n",
       "      <td>3.877791e+07</td>\n",
       "      <td>373.150000</td>\n",
       "      <td>3.159151e+06</td>\n",
       "      <td>4.946500</td>\n",
       "      <td>378.637777</td>\n",
       "      <td>1.968723e+07</td>\n",
       "      <td>501.164335</td>\n",
       "    </tr>\n",
       "    <tr>\n",
       "      <th>max</th>\n",
       "      <td>3.153600e+08</td>\n",
       "      <td>1.422657e+06</td>\n",
       "      <td>6.500974e+12</td>\n",
       "      <td>2245.681324</td>\n",
       "      <td>3.907023e+07</td>\n",
       "      <td>504.071080</td>\n",
       "      <td>6.848016e+06</td>\n",
       "      <td>59.006723</td>\n",
       "      <td>503.561480</td>\n",
       "      <td>2.287653e+07</td>\n",
       "      <td>501.339658</td>\n",
       "    </tr>\n",
       "  </tbody>\n",
       "</table>\n",
       "</div>"
      ],
      "text/plain": [
       "               time            dt   energy_prod       inj_dP  inj_point_pres  \\\n",
       "count  7.900000e+02  7.900000e+02  7.900000e+02   790.000000    7.900000e+02   \n",
       "mean   1.340962e+08  3.991899e+05  1.778898e+12  2001.639747    3.738762e+07   \n",
       "std    1.033106e+08  3.416608e+05  1.531554e+12   375.568710    2.589455e+06   \n",
       "min    0.000000e+00  0.000000e+00  0.000000e+00  -201.725227    2.219595e+07   \n",
       "25%    3.521368e+07  7.731286e+04  3.559704e+11  2031.478323    3.759335e+07   \n",
       "50%    1.218107e+08  3.322569e+05  1.489937e+12  2136.587358    3.831805e+07   \n",
       "75%    2.209785e+08  6.579899e+05  2.925402e+12  2203.283722    3.877791e+07   \n",
       "max    3.153600e+08  1.422657e+06  6.500974e+12  2245.681324    3.907023e+07   \n",
       "\n",
       "       inj_point_temp     mass_prod   mass_rate  near_inj_point_temp  \\\n",
       "count      790.000000  7.900000e+02  790.000000           790.000000   \n",
       "mean       386.319910  1.926691e+06    5.239552           398.865556   \n",
       "std         37.310863  1.649999e+06    2.816263            46.247876   \n",
       "min        373.150000  0.000000e+00    0.000000           374.886041   \n",
       "25%        373.150000  3.780084e+05    4.762063           374.937639   \n",
       "50%        373.150000  1.604387e+06    4.855762           375.137782   \n",
       "75%        373.150000  3.159151e+06    4.946500           378.637777   \n",
       "max        504.071080  6.848016e+06   59.006723           503.561480   \n",
       "\n",
       "       prod_point_pres  prod_point_temp  \n",
       "count     7.900000e+02       790.000000  \n",
       "mean      1.969934e+07       500.501031  \n",
       "std       2.178472e+05         0.731126  \n",
       "min       1.963331e+07       498.561090  \n",
       "25%       1.964228e+07       500.026685  \n",
       "50%       1.966030e+07       500.710064  \n",
       "75%       1.968723e+07       501.164335  \n",
       "max       2.287653e+07       501.339658  "
      ]
     },
     "execution_count": 3,
     "metadata": {},
     "output_type": "execute_result"
    }
   ],
   "source": [
    "data.describe()"
   ]
  },
  {
   "cell_type": "code",
   "execution_count": null,
   "metadata": {},
   "outputs": [],
   "source": []
  },
  {
   "cell_type": "code",
   "execution_count": 3,
   "metadata": {},
   "outputs": [],
   "source": [
    "plt.style.use('classic')"
   ]
  },
  {
   "cell_type": "code",
   "execution_count": 4,
   "metadata": {},
   "outputs": [],
   "source": [
    "x = np.asarray(data['X'].tolist())"
   ]
  },
  {
   "cell_type": "code",
   "execution_count": 5,
   "metadata": {},
   "outputs": [],
   "source": [
    "y = np.asarray(data['Y'].tolist())"
   ]
  },
  {
   "cell_type": "code",
   "execution_count": 6,
   "metadata": {},
   "outputs": [],
   "source": [
    "depth = np.asarray(data['depth'].tolist())"
   ]
  },
  {
   "cell_type": "code",
   "execution_count": 55,
   "metadata": {},
   "outputs": [],
   "source": [
    "pres = np.asarray(data['pressure'].tolist())"
   ]
  },
  {
   "cell_type": "code",
   "execution_count": 7,
   "metadata": {},
   "outputs": [],
   "source": [
    "X, Y = np.meshgrid(x, y)"
   ]
  },
  {
   "cell_type": "code",
   "execution_count": 8,
   "metadata": {},
   "outputs": [],
   "source": [
    "xi, yi = np.linspace(x.min(), x.max(), 50), np.linspace(y.min(), y.max(), 50)\n",
    "xi, yi = np.meshgrid(xi, yi)"
   ]
  },
  {
   "cell_type": "code",
   "execution_count": null,
   "metadata": {},
   "outputs": [],
   "source": []
  },
  {
   "cell_type": "raw",
   "metadata": {},
   "source": [
    "zi = scipy.interpolate.griddata((x, y), depth, (xi, yi), method='linear')"
   ]
  },
  {
   "cell_type": "code",
   "execution_count": 9,
   "metadata": {},
   "outputs": [
    {
     "ename": "NameError",
     "evalue": "name 'zi' is not defined",
     "output_type": "error",
     "traceback": [
      "\u001b[0;31m---------------------------------------------------------------------------\u001b[0m",
      "\u001b[0;31mNameError\u001b[0m                                 Traceback (most recent call last)",
      "\u001b[0;32m<ipython-input-9-3c22a915e041>\u001b[0m in \u001b[0;36m<module>\u001b[0;34m\u001b[0m\n\u001b[0;32m----> 1\u001b[0;31m plt.imshow(zi, vmin=depth.min(), vmax=depth.max(), origin='lower',\n\u001b[0m\u001b[1;32m      2\u001b[0m            extent=[x.min(), x.max(), y.min(), y.max()])\n\u001b[1;32m      3\u001b[0m \u001b[0mplt\u001b[0m\u001b[0;34m.\u001b[0m\u001b[0mcolorbar\u001b[0m\u001b[0;34m(\u001b[0m\u001b[0;34m)\u001b[0m\u001b[0;34m\u001b[0m\u001b[0;34m\u001b[0m\u001b[0m\n\u001b[1;32m      4\u001b[0m \u001b[0mplt\u001b[0m\u001b[0;34m.\u001b[0m\u001b[0mshow\u001b[0m\u001b[0;34m(\u001b[0m\u001b[0;34m)\u001b[0m\u001b[0;34m\u001b[0m\u001b[0;34m\u001b[0m\u001b[0m\n",
      "\u001b[0;31mNameError\u001b[0m: name 'zi' is not defined"
     ]
    }
   ],
   "source": [
    "plt.imshow(zi, vmin=depth.min(), vmax=depth.max(), origin='lower',\n",
    "           extent=[x.min(), x.max(), y.min(), y.max()])\n",
    "plt.colorbar()\n",
    "plt.show()"
   ]
  },
  {
   "cell_type": "code",
   "execution_count": null,
   "metadata": {},
   "outputs": [],
   "source": []
  }
 ],
 "metadata": {
  "kernelspec": {
   "display_name": "Python 3",
   "language": "python",
   "name": "python3"
  },
  "language_info": {
   "codemirror_mode": {
    "name": "ipython",
    "version": 3
   },
   "file_extension": ".py",
   "mimetype": "text/x-python",
   "name": "python",
   "nbconvert_exporter": "python",
   "pygments_lexer": "ipython3",
   "version": "3.7.3"
  }
 },
 "nbformat": 4,
 "nbformat_minor": 2
}
