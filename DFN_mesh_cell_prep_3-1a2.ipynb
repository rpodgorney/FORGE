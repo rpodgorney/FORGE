{
 "cells": [
  {
   "cell_type": "code",
   "execution_count": 1,
   "metadata": {},
   "outputs": [],
   "source": [
    "import pandas as pd"
   ]
  },
  {
   "cell_type": "code",
   "execution_count": 2,
   "metadata": {},
   "outputs": [],
   "source": [
    "data=pd.read_csv('local_After_Stim_2hr_50m_Upscaled_3_1A2_10m_Sept_3_2019.csv', float_precision='round_trip')"
   ]
  },
  {
   "cell_type": "code",
   "execution_count": 3,
   "metadata": {},
   "outputs": [
    {
     "data": {
      "text/html": [
       "<div>\n",
       "<style scoped>\n",
       "    .dataframe tbody tr th:only-of-type {\n",
       "        vertical-align: middle;\n",
       "    }\n",
       "\n",
       "    .dataframe tbody tr th {\n",
       "        vertical-align: top;\n",
       "    }\n",
       "\n",
       "    .dataframe thead th {\n",
       "        text-align: right;\n",
       "    }\n",
       "</style>\n",
       "<table border=\"1\" class=\"dataframe\">\n",
       "  <thead>\n",
       "    <tr style=\"text-align: right;\">\n",
       "      <th></th>\n",
       "      <th>X</th>\n",
       "      <th>Y</th>\n",
       "      <th>Z</th>\n",
       "      <th>Porosity</th>\n",
       "      <th>Compressibility</th>\n",
       "      <th>kii</th>\n",
       "      <th>kjj</th>\n",
       "      <th>kkk</th>\n",
       "    </tr>\n",
       "  </thead>\n",
       "  <tbody>\n",
       "    <tr>\n",
       "      <th>count</th>\n",
       "      <td>3.920000e+06</td>\n",
       "      <td>3.920000e+06</td>\n",
       "      <td>3.920000e+06</td>\n",
       "      <td>3.920000e+06</td>\n",
       "      <td>3.920000e+06</td>\n",
       "      <td>3.920000e+06</td>\n",
       "      <td>3.920000e+06</td>\n",
       "      <td>3.920000e+06</td>\n",
       "    </tr>\n",
       "    <tr>\n",
       "      <th>mean</th>\n",
       "      <td>1.763700e+03</td>\n",
       "      <td>1.228970e+03</td>\n",
       "      <td>-4.750000e+02</td>\n",
       "      <td>4.787198e-03</td>\n",
       "      <td>3.289419e-08</td>\n",
       "      <td>4.438337e-17</td>\n",
       "      <td>4.376131e-17</td>\n",
       "      <td>4.823200e-17</td>\n",
       "    </tr>\n",
       "    <tr>\n",
       "      <th>std</th>\n",
       "      <td>4.041349e+02</td>\n",
       "      <td>4.041349e+02</td>\n",
       "      <td>5.773431e+02</td>\n",
       "      <td>1.420842e-03</td>\n",
       "      <td>1.004701e-08</td>\n",
       "      <td>6.347587e-17</td>\n",
       "      <td>5.793786e-17</td>\n",
       "      <td>6.324474e-17</td>\n",
       "    </tr>\n",
       "    <tr>\n",
       "      <th>min</th>\n",
       "      <td>1.068700e+03</td>\n",
       "      <td>5.339700e+02</td>\n",
       "      <td>-1.470000e+03</td>\n",
       "      <td>0.000000e+00</td>\n",
       "      <td>0.000000e+00</td>\n",
       "      <td>0.000000e+00</td>\n",
       "      <td>0.000000e+00</td>\n",
       "      <td>0.000000e+00</td>\n",
       "    </tr>\n",
       "    <tr>\n",
       "      <th>25%</th>\n",
       "      <td>1.416200e+03</td>\n",
       "      <td>8.814700e+02</td>\n",
       "      <td>-9.725000e+02</td>\n",
       "      <td>3.930036e-03</td>\n",
       "      <td>2.676525e-08</td>\n",
       "      <td>2.981192e-17</td>\n",
       "      <td>2.911270e-17</td>\n",
       "      <td>3.270114e-17</td>\n",
       "    </tr>\n",
       "    <tr>\n",
       "      <th>50%</th>\n",
       "      <td>1.763700e+03</td>\n",
       "      <td>1.228970e+03</td>\n",
       "      <td>-4.750000e+02</td>\n",
       "      <td>4.779813e-03</td>\n",
       "      <td>3.281697e-08</td>\n",
       "      <td>4.046770e-17</td>\n",
       "      <td>3.991846e-17</td>\n",
       "      <td>4.424984e-17</td>\n",
       "    </tr>\n",
       "    <tr>\n",
       "      <th>75%</th>\n",
       "      <td>2.111200e+03</td>\n",
       "      <td>1.576470e+03</td>\n",
       "      <td>2.250000e+01</td>\n",
       "      <td>5.676811e-03</td>\n",
       "      <td>3.920963e-08</td>\n",
       "      <td>5.302238e-17</td>\n",
       "      <td>5.278309e-17</td>\n",
       "      <td>5.780128e-17</td>\n",
       "    </tr>\n",
       "    <tr>\n",
       "      <th>max</th>\n",
       "      <td>2.458700e+03</td>\n",
       "      <td>1.923970e+03</td>\n",
       "      <td>5.200000e+02</td>\n",
       "      <td>1.267748e-02</td>\n",
       "      <td>8.955147e-08</td>\n",
       "      <td>6.953506e-15</td>\n",
       "      <td>5.369247e-15</td>\n",
       "      <td>6.139129e-15</td>\n",
       "    </tr>\n",
       "  </tbody>\n",
       "</table>\n",
       "</div>"
      ],
      "text/plain": [
       "                  X             Y             Z      Porosity  \\\n",
       "count  3.920000e+06  3.920000e+06  3.920000e+06  3.920000e+06   \n",
       "mean   1.763700e+03  1.228970e+03 -4.750000e+02  4.787198e-03   \n",
       "std    4.041349e+02  4.041349e+02  5.773431e+02  1.420842e-03   \n",
       "min    1.068700e+03  5.339700e+02 -1.470000e+03  0.000000e+00   \n",
       "25%    1.416200e+03  8.814700e+02 -9.725000e+02  3.930036e-03   \n",
       "50%    1.763700e+03  1.228970e+03 -4.750000e+02  4.779813e-03   \n",
       "75%    2.111200e+03  1.576470e+03  2.250000e+01  5.676811e-03   \n",
       "max    2.458700e+03  1.923970e+03  5.200000e+02  1.267748e-02   \n",
       "\n",
       "       Compressibility           kii           kjj           kkk  \n",
       "count     3.920000e+06  3.920000e+06  3.920000e+06  3.920000e+06  \n",
       "mean      3.289419e-08  4.438337e-17  4.376131e-17  4.823200e-17  \n",
       "std       1.004701e-08  6.347587e-17  5.793786e-17  6.324474e-17  \n",
       "min       0.000000e+00  0.000000e+00  0.000000e+00  0.000000e+00  \n",
       "25%       2.676525e-08  2.981192e-17  2.911270e-17  3.270114e-17  \n",
       "50%       3.281697e-08  4.046770e-17  3.991846e-17  4.424984e-17  \n",
       "75%       3.920963e-08  5.302238e-17  5.278309e-17  5.780128e-17  \n",
       "max       8.955147e-08  6.953506e-15  5.369247e-15  6.139129e-15  "
      ]
     },
     "execution_count": 3,
     "metadata": {},
     "output_type": "execute_result"
    }
   ],
   "source": [
    "data.describe()"
   ]
  },
  {
   "cell_type": "code",
   "execution_count": 4,
   "metadata": {},
   "outputs": [
    {
     "data": {
      "text/plain": [
       "(1068.7, 2458.7, 1763.7)"
      ]
     },
     "execution_count": 4,
     "metadata": {},
     "output_type": "execute_result"
    }
   ],
   "source": [
    "min (data.X), max (data.X), data['X'].median()"
   ]
  },
  {
   "cell_type": "code",
   "execution_count": 5,
   "metadata": {},
   "outputs": [
    {
     "data": {
      "text/plain": [
       "(533.97, 1923.97, 1228.97)"
      ]
     },
     "execution_count": 5,
     "metadata": {},
     "output_type": "execute_result"
    }
   ],
   "source": [
    "min (data.Y), max (data.Y), data['Y'].median()"
   ]
  },
  {
   "cell_type": "code",
   "execution_count": 6,
   "metadata": {},
   "outputs": [
    {
     "data": {
      "text/plain": [
       "(-1470, 520, -475.0)"
      ]
     },
     "execution_count": 6,
     "metadata": {},
     "output_type": "execute_result"
    }
   ],
   "source": [
    "min (data.Z), max (data.Z), data['Z'].median()"
   ]
  },
  {
   "cell_type": "markdown",
   "metadata": {},
   "source": [
    "now make a copy for each simulation case, and translate the mesh"
   ]
  },
  {
   "cell_type": "markdown",
   "metadata": {},
   "source": [
    "start with the 3-1a2 trajectory case"
   ]
  },
  {
   "cell_type": "code",
   "execution_count": 15,
   "metadata": {},
   "outputs": [],
   "source": [
    "large_well_3_1a2 = data.copy(deep=True)"
   ]
  },
  {
   "cell_type": "markdown",
   "metadata": {},
   "source": [
    "need to manually calculate the translation distance based on injection location and bounds of the new/refine mesh versus the full domain mesh"
   ]
  },
  {
   "cell_type": "code",
   "execution_count": 16,
   "metadata": {},
   "outputs": [],
   "source": [
    "large_well_3_1a2.X = large_well_3_1a2.X+36.3"
   ]
  },
  {
   "cell_type": "code",
   "execution_count": 17,
   "metadata": {},
   "outputs": [],
   "source": [
    "large_well_3_1a2.Y = large_well_3_1a2.Y+56.03"
   ]
  },
  {
   "cell_type": "code",
   "execution_count": 11,
   "metadata": {},
   "outputs": [],
   "source": [
    "large_well_3_1a2.Z = large_well_3_1a2.Z-620"
   ]
  },
  {
   "cell_type": "markdown",
   "metadata": {},
   "source": [
    "now verify translation was correct, and also chck the bounds to make sure still within the full domain"
   ]
  },
  {
   "cell_type": "code",
   "execution_count": 18,
   "metadata": {},
   "outputs": [
    {
     "data": {
      "text/plain": [
       "(1105.0, 2495.0, 1800.0)"
      ]
     },
     "execution_count": 18,
     "metadata": {},
     "output_type": "execute_result"
    }
   ],
   "source": [
    "min (large_well_3_1a2.X), max (large_well_3_1a2.X), large_well_3_1a2['X'].median()"
   ]
  },
  {
   "cell_type": "code",
   "execution_count": 19,
   "metadata": {},
   "outputs": [
    {
     "data": {
      "text/plain": [
       "(590.0, 1980.0, 1285.0)"
      ]
     },
     "execution_count": 19,
     "metadata": {},
     "output_type": "execute_result"
    }
   ],
   "source": [
    "min (large_well_3_1a2.Y), max (large_well_3_1a2.Y), large_well_3_1a2['Y'].median()"
   ]
  },
  {
   "cell_type": "code",
   "execution_count": 20,
   "metadata": {},
   "outputs": [
    {
     "data": {
      "text/plain": [
       "(-1470, 520, -475.0)"
      ]
     },
     "execution_count": 20,
     "metadata": {},
     "output_type": "execute_result"
    }
   ],
   "source": [
    "min (large_well_3_1a2.Z), max (large_well_3_1a2.Z), large_well_3_1a2['Z'].median()"
   ]
  },
  {
   "cell_type": "markdown",
   "metadata": {},
   "source": [
    "need to add column (1) for Id, columns 5, 6, and 7 for dX, dY, and dZ"
   ]
  },
  {
   "cell_type": "markdown",
   "metadata": {},
   "source": [
    "first add the \"Id\""
   ]
  },
  {
   "cell_type": "code",
   "execution_count": 22,
   "metadata": {},
   "outputs": [],
   "source": [
    "large_well_3_1a2.insert(loc=0, column='Id', value=large_well_3_1a2.index)"
   ]
  },
  {
   "cell_type": "markdown",
   "metadata": {},
   "source": [
    "now add the dX, dY, and dZ"
   ]
  },
  {
   "cell_type": "code",
   "execution_count": 23,
   "metadata": {},
   "outputs": [],
   "source": [
    "large_well_3_1a2.insert(loc=4, column='dX', value=10)"
   ]
  },
  {
   "cell_type": "code",
   "execution_count": 24,
   "metadata": {},
   "outputs": [],
   "source": [
    "large_well_3_1a2.insert(loc=5, column='dY', value=10)"
   ]
  },
  {
   "cell_type": "code",
   "execution_count": 25,
   "metadata": {},
   "outputs": [],
   "source": [
    "large_well_3_1a2.insert(loc=6, column='dZ', value=10)"
   ]
  },
  {
   "cell_type": "markdown",
   "metadata": {},
   "source": [
    "now check the file"
   ]
  },
  {
   "cell_type": "code",
   "execution_count": 26,
   "metadata": {},
   "outputs": [
    {
     "data": {
      "text/html": [
       "<div>\n",
       "<style scoped>\n",
       "    .dataframe tbody tr th:only-of-type {\n",
       "        vertical-align: middle;\n",
       "    }\n",
       "\n",
       "    .dataframe tbody tr th {\n",
       "        vertical-align: top;\n",
       "    }\n",
       "\n",
       "    .dataframe thead th {\n",
       "        text-align: right;\n",
       "    }\n",
       "</style>\n",
       "<table border=\"1\" class=\"dataframe\">\n",
       "  <thead>\n",
       "    <tr style=\"text-align: right;\">\n",
       "      <th></th>\n",
       "      <th>Id</th>\n",
       "      <th>X</th>\n",
       "      <th>Y</th>\n",
       "      <th>Z</th>\n",
       "      <th>dX</th>\n",
       "      <th>dY</th>\n",
       "      <th>dZ</th>\n",
       "      <th>Porosity</th>\n",
       "      <th>Compressibility</th>\n",
       "      <th>kii</th>\n",
       "      <th>kjj</th>\n",
       "      <th>kkk</th>\n",
       "    </tr>\n",
       "  </thead>\n",
       "  <tbody>\n",
       "    <tr>\n",
       "      <th>0</th>\n",
       "      <td>0</td>\n",
       "      <td>1105.0</td>\n",
       "      <td>1980.0</td>\n",
       "      <td>520</td>\n",
       "      <td>10</td>\n",
       "      <td>10</td>\n",
       "      <td>10</td>\n",
       "      <td>0.001836</td>\n",
       "      <td>1.176111e-08</td>\n",
       "      <td>8.296096e-18</td>\n",
       "      <td>1.454657e-17</td>\n",
       "      <td>1.643608e-17</td>\n",
       "    </tr>\n",
       "    <tr>\n",
       "      <th>1</th>\n",
       "      <td>1</td>\n",
       "      <td>1105.0</td>\n",
       "      <td>1980.0</td>\n",
       "      <td>510</td>\n",
       "      <td>10</td>\n",
       "      <td>10</td>\n",
       "      <td>10</td>\n",
       "      <td>0.001661</td>\n",
       "      <td>1.122519e-08</td>\n",
       "      <td>5.336351e-18</td>\n",
       "      <td>1.292858e-17</td>\n",
       "      <td>1.789974e-17</td>\n",
       "    </tr>\n",
       "    <tr>\n",
       "      <th>2</th>\n",
       "      <td>2</td>\n",
       "      <td>1105.0</td>\n",
       "      <td>1980.0</td>\n",
       "      <td>500</td>\n",
       "      <td>10</td>\n",
       "      <td>10</td>\n",
       "      <td>10</td>\n",
       "      <td>0.001703</td>\n",
       "      <td>1.089720e-08</td>\n",
       "      <td>4.304728e-18</td>\n",
       "      <td>1.992727e-17</td>\n",
       "      <td>2.258996e-17</td>\n",
       "    </tr>\n",
       "    <tr>\n",
       "      <th>3</th>\n",
       "      <td>3</td>\n",
       "      <td>1105.0</td>\n",
       "      <td>1980.0</td>\n",
       "      <td>490</td>\n",
       "      <td>10</td>\n",
       "      <td>10</td>\n",
       "      <td>10</td>\n",
       "      <td>0.001489</td>\n",
       "      <td>1.010419e-08</td>\n",
       "      <td>9.033887e-18</td>\n",
       "      <td>1.493932e-17</td>\n",
       "      <td>1.425128e-17</td>\n",
       "    </tr>\n",
       "    <tr>\n",
       "      <th>4</th>\n",
       "      <td>4</td>\n",
       "      <td>1105.0</td>\n",
       "      <td>1980.0</td>\n",
       "      <td>480</td>\n",
       "      <td>10</td>\n",
       "      <td>10</td>\n",
       "      <td>10</td>\n",
       "      <td>0.002365</td>\n",
       "      <td>1.572026e-08</td>\n",
       "      <td>1.105784e-17</td>\n",
       "      <td>1.891407e-17</td>\n",
       "      <td>1.917711e-17</td>\n",
       "    </tr>\n",
       "  </tbody>\n",
       "</table>\n",
       "</div>"
      ],
      "text/plain": [
       "   Id       X       Y    Z  dX  dY  dZ  Porosity  Compressibility  \\\n",
       "0   0  1105.0  1980.0  520  10  10  10  0.001836     1.176111e-08   \n",
       "1   1  1105.0  1980.0  510  10  10  10  0.001661     1.122519e-08   \n",
       "2   2  1105.0  1980.0  500  10  10  10  0.001703     1.089720e-08   \n",
       "3   3  1105.0  1980.0  490  10  10  10  0.001489     1.010419e-08   \n",
       "4   4  1105.0  1980.0  480  10  10  10  0.002365     1.572026e-08   \n",
       "\n",
       "            kii           kjj           kkk  \n",
       "0  8.296096e-18  1.454657e-17  1.643608e-17  \n",
       "1  5.336351e-18  1.292858e-17  1.789974e-17  \n",
       "2  4.304728e-18  1.992727e-17  2.258996e-17  \n",
       "3  9.033887e-18  1.493932e-17  1.425128e-17  \n",
       "4  1.105784e-17  1.891407e-17  1.917711e-17  "
      ]
     },
     "execution_count": 26,
     "metadata": {},
     "output_type": "execute_result"
    }
   ],
   "source": [
    "large_well_3_1a2.head()"
   ]
  },
  {
   "cell_type": "markdown",
   "metadata": {},
   "source": [
    "now sort so values are in correct order for em2ex"
   ]
  },
  {
   "cell_type": "code",
   "execution_count": 27,
   "metadata": {},
   "outputs": [],
   "source": [
    "a = large_well_3_1a2.sort_values([\"Z\",\"Y\",\"X\"], ascending = [True, True, True])"
   ]
  },
  {
   "cell_type": "code",
   "execution_count": 28,
   "metadata": {},
   "outputs": [
    {
     "data": {
      "text/html": [
       "<div>\n",
       "<style scoped>\n",
       "    .dataframe tbody tr th:only-of-type {\n",
       "        vertical-align: middle;\n",
       "    }\n",
       "\n",
       "    .dataframe tbody tr th {\n",
       "        vertical-align: top;\n",
       "    }\n",
       "\n",
       "    .dataframe thead th {\n",
       "        text-align: right;\n",
       "    }\n",
       "</style>\n",
       "<table border=\"1\" class=\"dataframe\">\n",
       "  <thead>\n",
       "    <tr style=\"text-align: right;\">\n",
       "      <th></th>\n",
       "      <th>Id</th>\n",
       "      <th>X</th>\n",
       "      <th>Y</th>\n",
       "      <th>Z</th>\n",
       "      <th>dX</th>\n",
       "      <th>dY</th>\n",
       "      <th>dZ</th>\n",
       "      <th>Porosity</th>\n",
       "      <th>Compressibility</th>\n",
       "      <th>kii</th>\n",
       "      <th>kjj</th>\n",
       "      <th>kkk</th>\n",
       "    </tr>\n",
       "  </thead>\n",
       "  <tbody>\n",
       "    <tr>\n",
       "      <th>27999</th>\n",
       "      <td>27999</td>\n",
       "      <td>1105.0</td>\n",
       "      <td>590.0</td>\n",
       "      <td>-1470</td>\n",
       "      <td>10</td>\n",
       "      <td>10</td>\n",
       "      <td>10</td>\n",
       "      <td>0.001921</td>\n",
       "      <td>1.095691e-08</td>\n",
       "      <td>8.004419e-18</td>\n",
       "      <td>1.272226e-17</td>\n",
       "      <td>1.039621e-17</td>\n",
       "    </tr>\n",
       "    <tr>\n",
       "      <th>55999</th>\n",
       "      <td>55999</td>\n",
       "      <td>1115.0</td>\n",
       "      <td>590.0</td>\n",
       "      <td>-1470</td>\n",
       "      <td>10</td>\n",
       "      <td>10</td>\n",
       "      <td>10</td>\n",
       "      <td>0.001408</td>\n",
       "      <td>9.427024e-09</td>\n",
       "      <td>1.363619e-17</td>\n",
       "      <td>1.328845e-17</td>\n",
       "      <td>8.272244e-18</td>\n",
       "    </tr>\n",
       "    <tr>\n",
       "      <th>83999</th>\n",
       "      <td>83999</td>\n",
       "      <td>1125.0</td>\n",
       "      <td>590.0</td>\n",
       "      <td>-1470</td>\n",
       "      <td>10</td>\n",
       "      <td>10</td>\n",
       "      <td>10</td>\n",
       "      <td>0.001895</td>\n",
       "      <td>1.090580e-08</td>\n",
       "      <td>9.412358e-18</td>\n",
       "      <td>1.801207e-17</td>\n",
       "      <td>6.617931e-18</td>\n",
       "    </tr>\n",
       "    <tr>\n",
       "      <th>111999</th>\n",
       "      <td>111999</td>\n",
       "      <td>1135.0</td>\n",
       "      <td>590.0</td>\n",
       "      <td>-1470</td>\n",
       "      <td>10</td>\n",
       "      <td>10</td>\n",
       "      <td>10</td>\n",
       "      <td>0.002060</td>\n",
       "      <td>1.269264e-08</td>\n",
       "      <td>1.722060e-17</td>\n",
       "      <td>1.749362e-17</td>\n",
       "      <td>2.737495e-17</td>\n",
       "    </tr>\n",
       "    <tr>\n",
       "      <th>139999</th>\n",
       "      <td>139999</td>\n",
       "      <td>1145.0</td>\n",
       "      <td>590.0</td>\n",
       "      <td>-1470</td>\n",
       "      <td>10</td>\n",
       "      <td>10</td>\n",
       "      <td>10</td>\n",
       "      <td>0.002268</td>\n",
       "      <td>1.545065e-08</td>\n",
       "      <td>2.306947e-17</td>\n",
       "      <td>2.791417e-17</td>\n",
       "      <td>6.828935e-17</td>\n",
       "    </tr>\n",
       "  </tbody>\n",
       "</table>\n",
       "</div>"
      ],
      "text/plain": [
       "            Id       X      Y     Z  dX  dY  dZ  Porosity  Compressibility  \\\n",
       "27999    27999  1105.0  590.0 -1470  10  10  10  0.001921     1.095691e-08   \n",
       "55999    55999  1115.0  590.0 -1470  10  10  10  0.001408     9.427024e-09   \n",
       "83999    83999  1125.0  590.0 -1470  10  10  10  0.001895     1.090580e-08   \n",
       "111999  111999  1135.0  590.0 -1470  10  10  10  0.002060     1.269264e-08   \n",
       "139999  139999  1145.0  590.0 -1470  10  10  10  0.002268     1.545065e-08   \n",
       "\n",
       "                 kii           kjj           kkk  \n",
       "27999   8.004419e-18  1.272226e-17  1.039621e-17  \n",
       "55999   1.363619e-17  1.328845e-17  8.272244e-18  \n",
       "83999   9.412358e-18  1.801207e-17  6.617931e-18  \n",
       "111999  1.722060e-17  1.749362e-17  2.737495e-17  \n",
       "139999  2.306947e-17  2.791417e-17  6.828935e-17  "
      ]
     },
     "execution_count": 28,
     "metadata": {},
     "output_type": "execute_result"
    }
   ],
   "source": [
    "a.head()"
   ]
  },
  {
   "cell_type": "markdown",
   "metadata": {},
   "source": [
    "now we have the perm and proposity all set up, but if the mesh has both granite and sediment, we need to all a column for the block number, and re-assign the perm and porosity for the sediments"
   ]
  },
  {
   "cell_type": "markdown",
   "metadata": {},
   "source": [
    "first export the block model from Leapfrog, then run global2local.py to get it into local coords, then read it in here"
   ]
  },
  {
   "cell_type": "code",
   "execution_count": 29,
   "metadata": {},
   "outputs": [],
   "source": [
    "GMdata=pd.read_csv('local_large_3-1c_Block Model_cell.csv', float_precision='round_trip')"
   ]
  },
  {
   "cell_type": "code",
   "execution_count": 30,
   "metadata": {},
   "outputs": [],
   "source": [
    "b = GMdata.sort_values([\"Z\",\"Y\",\"X\"], ascending = [True, True, True])"
   ]
  },
  {
   "cell_type": "code",
   "execution_count": 31,
   "metadata": {},
   "outputs": [
    {
     "data": {
      "text/html": [
       "<div>\n",
       "<style scoped>\n",
       "    .dataframe tbody tr th:only-of-type {\n",
       "        vertical-align: middle;\n",
       "    }\n",
       "\n",
       "    .dataframe tbody tr th {\n",
       "        vertical-align: top;\n",
       "    }\n",
       "\n",
       "    .dataframe thead th {\n",
       "        text-align: right;\n",
       "    }\n",
       "</style>\n",
       "<table border=\"1\" class=\"dataframe\">\n",
       "  <thead>\n",
       "    <tr style=\"text-align: right;\">\n",
       "      <th></th>\n",
       "      <th>Id</th>\n",
       "      <th>X</th>\n",
       "      <th>Y</th>\n",
       "      <th>Z</th>\n",
       "      <th>dX</th>\n",
       "      <th>dY</th>\n",
       "      <th>dZ</th>\n",
       "      <th>GM</th>\n",
       "      <th>pressure_MPa</th>\n",
       "      <th>sigma_h_max_MPa</th>\n",
       "      <th>sigma_h_min_MPa</th>\n",
       "      <th>Sigma_V_MPa</th>\n",
       "      <th>temperature_C</th>\n",
       "    </tr>\n",
       "  </thead>\n",
       "  <tbody>\n",
       "    <tr>\n",
       "      <th>0</th>\n",
       "      <td>0</td>\n",
       "      <td>1067.91</td>\n",
       "      <td>531.78</td>\n",
       "      <td>-1470</td>\n",
       "      <td>10</td>\n",
       "      <td>10</td>\n",
       "      <td>10</td>\n",
       "      <td>Granitiod</td>\n",
       "      <td>27.538509</td>\n",
       "      <td>54.871706</td>\n",
       "      <td>46.978296</td>\n",
       "      <td>79.795385</td>\n",
       "      <td>245.434904</td>\n",
       "    </tr>\n",
       "    <tr>\n",
       "      <th>1</th>\n",
       "      <td>1</td>\n",
       "      <td>1077.91</td>\n",
       "      <td>531.78</td>\n",
       "      <td>-1470</td>\n",
       "      <td>10</td>\n",
       "      <td>10</td>\n",
       "      <td>10</td>\n",
       "      <td>Granitiod</td>\n",
       "      <td>27.537451</td>\n",
       "      <td>54.876142</td>\n",
       "      <td>46.973138</td>\n",
       "      <td>79.806631</td>\n",
       "      <td>245.681018</td>\n",
       "    </tr>\n",
       "    <tr>\n",
       "      <th>2</th>\n",
       "      <td>2</td>\n",
       "      <td>1087.91</td>\n",
       "      <td>531.78</td>\n",
       "      <td>-1470</td>\n",
       "      <td>10</td>\n",
       "      <td>10</td>\n",
       "      <td>10</td>\n",
       "      <td>Granitiod</td>\n",
       "      <td>27.536406</td>\n",
       "      <td>54.880795</td>\n",
       "      <td>46.968362</td>\n",
       "      <td>79.818372</td>\n",
       "      <td>245.928550</td>\n",
       "    </tr>\n",
       "    <tr>\n",
       "      <th>3</th>\n",
       "      <td>3</td>\n",
       "      <td>1097.91</td>\n",
       "      <td>531.78</td>\n",
       "      <td>-1470</td>\n",
       "      <td>10</td>\n",
       "      <td>10</td>\n",
       "      <td>10</td>\n",
       "      <td>Granitiod</td>\n",
       "      <td>27.535365</td>\n",
       "      <td>54.885422</td>\n",
       "      <td>46.963590</td>\n",
       "      <td>79.830094</td>\n",
       "      <td>246.177700</td>\n",
       "    </tr>\n",
       "    <tr>\n",
       "      <th>4</th>\n",
       "      <td>4</td>\n",
       "      <td>1107.91</td>\n",
       "      <td>531.78</td>\n",
       "      <td>-1470</td>\n",
       "      <td>10</td>\n",
       "      <td>10</td>\n",
       "      <td>10</td>\n",
       "      <td>Granitiod</td>\n",
       "      <td>27.534316</td>\n",
       "      <td>54.889690</td>\n",
       "      <td>46.958394</td>\n",
       "      <td>79.841148</td>\n",
       "      <td>246.428922</td>\n",
       "    </tr>\n",
       "  </tbody>\n",
       "</table>\n",
       "</div>"
      ],
      "text/plain": [
       "   Id        X       Y     Z  dX  dY  dZ         GM  pressure_MPa  \\\n",
       "0   0  1067.91  531.78 -1470  10  10  10  Granitiod     27.538509   \n",
       "1   1  1077.91  531.78 -1470  10  10  10  Granitiod     27.537451   \n",
       "2   2  1087.91  531.78 -1470  10  10  10  Granitiod     27.536406   \n",
       "3   3  1097.91  531.78 -1470  10  10  10  Granitiod     27.535365   \n",
       "4   4  1107.91  531.78 -1470  10  10  10  Granitiod     27.534316   \n",
       "\n",
       "   sigma_h_max_MPa  sigma_h_min_MPa  Sigma_V_MPa  temperature_C  \n",
       "0        54.871706        46.978296    79.795385     245.434904  \n",
       "1        54.876142        46.973138    79.806631     245.681018  \n",
       "2        54.880795        46.968362    79.818372     245.928550  \n",
       "3        54.885422        46.963590    79.830094     246.177700  \n",
       "4        54.889690        46.958394    79.841148     246.428922  "
      ]
     },
     "execution_count": 31,
     "metadata": {},
     "output_type": "execute_result"
    }
   ],
   "source": [
    "b.head()"
   ]
  },
  {
   "cell_type": "markdown",
   "metadata": {},
   "source": [
    "sediments = block 1, grnit = block 2"
   ]
  },
  {
   "cell_type": "code",
   "execution_count": 32,
   "metadata": {},
   "outputs": [],
   "source": [
    "b['block'] = 0"
   ]
  },
  {
   "cell_type": "code",
   "execution_count": 33,
   "metadata": {},
   "outputs": [],
   "source": [
    "b.loc[b.GM == 'Granitiod', 'block'] = 2"
   ]
  },
  {
   "cell_type": "code",
   "execution_count": 34,
   "metadata": {},
   "outputs": [
    {
     "data": {
      "text/plain": [
       "array(['Granitiod', 'Valley Fill'], dtype=object)"
      ]
     },
     "execution_count": 34,
     "metadata": {},
     "output_type": "execute_result"
    }
   ],
   "source": [
    "b.GM.unique()"
   ]
  },
  {
   "cell_type": "code",
   "execution_count": 35,
   "metadata": {},
   "outputs": [],
   "source": [
    "b.loc[b.GM == 'Valley Fill', 'block'] = 1"
   ]
  },
  {
   "cell_type": "code",
   "execution_count": 36,
   "metadata": {},
   "outputs": [
    {
     "data": {
      "text/plain": [
       "array([2, 1])"
      ]
     },
     "execution_count": 36,
     "metadata": {},
     "output_type": "execute_result"
    }
   ],
   "source": [
    "b.block.unique()"
   ]
  },
  {
   "cell_type": "code",
   "execution_count": 37,
   "metadata": {},
   "outputs": [
    {
     "data": {
      "text/html": [
       "<div>\n",
       "<style scoped>\n",
       "    .dataframe tbody tr th:only-of-type {\n",
       "        vertical-align: middle;\n",
       "    }\n",
       "\n",
       "    .dataframe tbody tr th {\n",
       "        vertical-align: top;\n",
       "    }\n",
       "\n",
       "    .dataframe thead th {\n",
       "        text-align: right;\n",
       "    }\n",
       "</style>\n",
       "<table border=\"1\" class=\"dataframe\">\n",
       "  <thead>\n",
       "    <tr style=\"text-align: right;\">\n",
       "      <th></th>\n",
       "      <th>Id</th>\n",
       "      <th>X</th>\n",
       "      <th>Y</th>\n",
       "      <th>Z</th>\n",
       "      <th>dX</th>\n",
       "      <th>dY</th>\n",
       "      <th>dZ</th>\n",
       "      <th>GM</th>\n",
       "      <th>pressure_MPa</th>\n",
       "      <th>sigma_h_max_MPa</th>\n",
       "      <th>sigma_h_min_MPa</th>\n",
       "      <th>Sigma_V_MPa</th>\n",
       "      <th>temperature_C</th>\n",
       "      <th>block</th>\n",
       "    </tr>\n",
       "  </thead>\n",
       "  <tbody>\n",
       "    <tr>\n",
       "      <th>0</th>\n",
       "      <td>0</td>\n",
       "      <td>1067.91</td>\n",
       "      <td>531.78</td>\n",
       "      <td>-1470</td>\n",
       "      <td>10</td>\n",
       "      <td>10</td>\n",
       "      <td>10</td>\n",
       "      <td>Granitiod</td>\n",
       "      <td>27.538509</td>\n",
       "      <td>54.871706</td>\n",
       "      <td>46.978296</td>\n",
       "      <td>79.795385</td>\n",
       "      <td>245.434904</td>\n",
       "      <td>2</td>\n",
       "    </tr>\n",
       "    <tr>\n",
       "      <th>1</th>\n",
       "      <td>1</td>\n",
       "      <td>1077.91</td>\n",
       "      <td>531.78</td>\n",
       "      <td>-1470</td>\n",
       "      <td>10</td>\n",
       "      <td>10</td>\n",
       "      <td>10</td>\n",
       "      <td>Granitiod</td>\n",
       "      <td>27.537451</td>\n",
       "      <td>54.876142</td>\n",
       "      <td>46.973138</td>\n",
       "      <td>79.806631</td>\n",
       "      <td>245.681018</td>\n",
       "      <td>2</td>\n",
       "    </tr>\n",
       "    <tr>\n",
       "      <th>2</th>\n",
       "      <td>2</td>\n",
       "      <td>1087.91</td>\n",
       "      <td>531.78</td>\n",
       "      <td>-1470</td>\n",
       "      <td>10</td>\n",
       "      <td>10</td>\n",
       "      <td>10</td>\n",
       "      <td>Granitiod</td>\n",
       "      <td>27.536406</td>\n",
       "      <td>54.880795</td>\n",
       "      <td>46.968362</td>\n",
       "      <td>79.818372</td>\n",
       "      <td>245.928550</td>\n",
       "      <td>2</td>\n",
       "    </tr>\n",
       "    <tr>\n",
       "      <th>3</th>\n",
       "      <td>3</td>\n",
       "      <td>1097.91</td>\n",
       "      <td>531.78</td>\n",
       "      <td>-1470</td>\n",
       "      <td>10</td>\n",
       "      <td>10</td>\n",
       "      <td>10</td>\n",
       "      <td>Granitiod</td>\n",
       "      <td>27.535365</td>\n",
       "      <td>54.885422</td>\n",
       "      <td>46.963590</td>\n",
       "      <td>79.830094</td>\n",
       "      <td>246.177700</td>\n",
       "      <td>2</td>\n",
       "    </tr>\n",
       "    <tr>\n",
       "      <th>4</th>\n",
       "      <td>4</td>\n",
       "      <td>1107.91</td>\n",
       "      <td>531.78</td>\n",
       "      <td>-1470</td>\n",
       "      <td>10</td>\n",
       "      <td>10</td>\n",
       "      <td>10</td>\n",
       "      <td>Granitiod</td>\n",
       "      <td>27.534316</td>\n",
       "      <td>54.889690</td>\n",
       "      <td>46.958394</td>\n",
       "      <td>79.841148</td>\n",
       "      <td>246.428922</td>\n",
       "      <td>2</td>\n",
       "    </tr>\n",
       "  </tbody>\n",
       "</table>\n",
       "</div>"
      ],
      "text/plain": [
       "   Id        X       Y     Z  dX  dY  dZ         GM  pressure_MPa  \\\n",
       "0   0  1067.91  531.78 -1470  10  10  10  Granitiod     27.538509   \n",
       "1   1  1077.91  531.78 -1470  10  10  10  Granitiod     27.537451   \n",
       "2   2  1087.91  531.78 -1470  10  10  10  Granitiod     27.536406   \n",
       "3   3  1097.91  531.78 -1470  10  10  10  Granitiod     27.535365   \n",
       "4   4  1107.91  531.78 -1470  10  10  10  Granitiod     27.534316   \n",
       "\n",
       "   sigma_h_max_MPa  sigma_h_min_MPa  Sigma_V_MPa  temperature_C  block  \n",
       "0        54.871706        46.978296    79.795385     245.434904      2  \n",
       "1        54.876142        46.973138    79.806631     245.681018      2  \n",
       "2        54.880795        46.968362    79.818372     245.928550      2  \n",
       "3        54.885422        46.963590    79.830094     246.177700      2  \n",
       "4        54.889690        46.958394    79.841148     246.428922      2  "
      ]
     },
     "execution_count": 37,
     "metadata": {},
     "output_type": "execute_result"
    }
   ],
   "source": [
    "b.head()"
   ]
  },
  {
   "cell_type": "markdown",
   "metadata": {},
   "source": [
    "now we have a sorted column that has block numbers, need to add it to the dataframe with the permeability and porosity"
   ]
  },
  {
   "cell_type": "code",
   "execution_count": 38,
   "metadata": {},
   "outputs": [],
   "source": [
    "b.index = a.index"
   ]
  },
  {
   "cell_type": "code",
   "execution_count": 39,
   "metadata": {},
   "outputs": [],
   "source": [
    "a['block'] = 0"
   ]
  },
  {
   "cell_type": "code",
   "execution_count": 40,
   "metadata": {},
   "outputs": [],
   "source": [
    "a['block'] = b['block'].values"
   ]
  },
  {
   "cell_type": "code",
   "execution_count": 41,
   "metadata": {},
   "outputs": [
    {
     "data": {
      "text/html": [
       "<div>\n",
       "<style scoped>\n",
       "    .dataframe tbody tr th:only-of-type {\n",
       "        vertical-align: middle;\n",
       "    }\n",
       "\n",
       "    .dataframe tbody tr th {\n",
       "        vertical-align: top;\n",
       "    }\n",
       "\n",
       "    .dataframe thead th {\n",
       "        text-align: right;\n",
       "    }\n",
       "</style>\n",
       "<table border=\"1\" class=\"dataframe\">\n",
       "  <thead>\n",
       "    <tr style=\"text-align: right;\">\n",
       "      <th></th>\n",
       "      <th>Id</th>\n",
       "      <th>X</th>\n",
       "      <th>Y</th>\n",
       "      <th>Z</th>\n",
       "      <th>dX</th>\n",
       "      <th>dY</th>\n",
       "      <th>dZ</th>\n",
       "      <th>Porosity</th>\n",
       "      <th>Compressibility</th>\n",
       "      <th>kii</th>\n",
       "      <th>kjj</th>\n",
       "      <th>kkk</th>\n",
       "      <th>block</th>\n",
       "    </tr>\n",
       "  </thead>\n",
       "  <tbody>\n",
       "    <tr>\n",
       "      <th>27999</th>\n",
       "      <td>27999</td>\n",
       "      <td>1105.0</td>\n",
       "      <td>590.0</td>\n",
       "      <td>-1470</td>\n",
       "      <td>10</td>\n",
       "      <td>10</td>\n",
       "      <td>10</td>\n",
       "      <td>0.001921</td>\n",
       "      <td>1.095691e-08</td>\n",
       "      <td>8.004419e-18</td>\n",
       "      <td>1.272226e-17</td>\n",
       "      <td>1.039621e-17</td>\n",
       "      <td>2</td>\n",
       "    </tr>\n",
       "    <tr>\n",
       "      <th>55999</th>\n",
       "      <td>55999</td>\n",
       "      <td>1115.0</td>\n",
       "      <td>590.0</td>\n",
       "      <td>-1470</td>\n",
       "      <td>10</td>\n",
       "      <td>10</td>\n",
       "      <td>10</td>\n",
       "      <td>0.001408</td>\n",
       "      <td>9.427024e-09</td>\n",
       "      <td>1.363619e-17</td>\n",
       "      <td>1.328845e-17</td>\n",
       "      <td>8.272244e-18</td>\n",
       "      <td>2</td>\n",
       "    </tr>\n",
       "    <tr>\n",
       "      <th>83999</th>\n",
       "      <td>83999</td>\n",
       "      <td>1125.0</td>\n",
       "      <td>590.0</td>\n",
       "      <td>-1470</td>\n",
       "      <td>10</td>\n",
       "      <td>10</td>\n",
       "      <td>10</td>\n",
       "      <td>0.001895</td>\n",
       "      <td>1.090580e-08</td>\n",
       "      <td>9.412358e-18</td>\n",
       "      <td>1.801207e-17</td>\n",
       "      <td>6.617931e-18</td>\n",
       "      <td>2</td>\n",
       "    </tr>\n",
       "    <tr>\n",
       "      <th>111999</th>\n",
       "      <td>111999</td>\n",
       "      <td>1135.0</td>\n",
       "      <td>590.0</td>\n",
       "      <td>-1470</td>\n",
       "      <td>10</td>\n",
       "      <td>10</td>\n",
       "      <td>10</td>\n",
       "      <td>0.002060</td>\n",
       "      <td>1.269264e-08</td>\n",
       "      <td>1.722060e-17</td>\n",
       "      <td>1.749362e-17</td>\n",
       "      <td>2.737495e-17</td>\n",
       "      <td>2</td>\n",
       "    </tr>\n",
       "    <tr>\n",
       "      <th>139999</th>\n",
       "      <td>139999</td>\n",
       "      <td>1145.0</td>\n",
       "      <td>590.0</td>\n",
       "      <td>-1470</td>\n",
       "      <td>10</td>\n",
       "      <td>10</td>\n",
       "      <td>10</td>\n",
       "      <td>0.002268</td>\n",
       "      <td>1.545065e-08</td>\n",
       "      <td>2.306947e-17</td>\n",
       "      <td>2.791417e-17</td>\n",
       "      <td>6.828935e-17</td>\n",
       "      <td>2</td>\n",
       "    </tr>\n",
       "  </tbody>\n",
       "</table>\n",
       "</div>"
      ],
      "text/plain": [
       "            Id       X      Y     Z  dX  dY  dZ  Porosity  Compressibility  \\\n",
       "27999    27999  1105.0  590.0 -1470  10  10  10  0.001921     1.095691e-08   \n",
       "55999    55999  1115.0  590.0 -1470  10  10  10  0.001408     9.427024e-09   \n",
       "83999    83999  1125.0  590.0 -1470  10  10  10  0.001895     1.090580e-08   \n",
       "111999  111999  1135.0  590.0 -1470  10  10  10  0.002060     1.269264e-08   \n",
       "139999  139999  1145.0  590.0 -1470  10  10  10  0.002268     1.545065e-08   \n",
       "\n",
       "                 kii           kjj           kkk  block  \n",
       "27999   8.004419e-18  1.272226e-17  1.039621e-17      2  \n",
       "55999   1.363619e-17  1.328845e-17  8.272244e-18      2  \n",
       "83999   9.412358e-18  1.801207e-17  6.617931e-18      2  \n",
       "111999  1.722060e-17  1.749362e-17  2.737495e-17      2  \n",
       "139999  2.306947e-17  2.791417e-17  6.828935e-17      2  "
      ]
     },
     "execution_count": 41,
     "metadata": {},
     "output_type": "execute_result"
    }
   ],
   "source": [
    "a.head()"
   ]
  },
  {
   "cell_type": "code",
   "execution_count": 42,
   "metadata": {},
   "outputs": [],
   "source": [
    "a.loc[a.block == 1, 'kii'] = 1.7e-14"
   ]
  },
  {
   "cell_type": "code",
   "execution_count": 43,
   "metadata": {},
   "outputs": [],
   "source": [
    "a.loc[a.block == 1, 'kjj'] = 1.7e-14"
   ]
  },
  {
   "cell_type": "code",
   "execution_count": 44,
   "metadata": {},
   "outputs": [],
   "source": [
    "a.loc[a.block == 1, 'kkk'] = 1.7e-14"
   ]
  },
  {
   "cell_type": "code",
   "execution_count": 45,
   "metadata": {},
   "outputs": [],
   "source": [
    "a.loc[a.block == 1, 'Porosity'] = 0.12"
   ]
  },
  {
   "cell_type": "code",
   "execution_count": 46,
   "metadata": {},
   "outputs": [],
   "source": [
    "del a['Compressibility']"
   ]
  },
  {
   "cell_type": "code",
   "execution_count": 47,
   "metadata": {
    "scrolled": true
   },
   "outputs": [
    {
     "data": {
      "text/html": [
       "<div>\n",
       "<style scoped>\n",
       "    .dataframe tbody tr th:only-of-type {\n",
       "        vertical-align: middle;\n",
       "    }\n",
       "\n",
       "    .dataframe tbody tr th {\n",
       "        vertical-align: top;\n",
       "    }\n",
       "\n",
       "    .dataframe thead th {\n",
       "        text-align: right;\n",
       "    }\n",
       "</style>\n",
       "<table border=\"1\" class=\"dataframe\">\n",
       "  <thead>\n",
       "    <tr style=\"text-align: right;\">\n",
       "      <th></th>\n",
       "      <th>Id</th>\n",
       "      <th>X</th>\n",
       "      <th>Y</th>\n",
       "      <th>Z</th>\n",
       "      <th>dX</th>\n",
       "      <th>dY</th>\n",
       "      <th>dZ</th>\n",
       "      <th>Porosity</th>\n",
       "      <th>kii</th>\n",
       "      <th>kjj</th>\n",
       "      <th>kkk</th>\n",
       "      <th>block</th>\n",
       "    </tr>\n",
       "  </thead>\n",
       "  <tbody>\n",
       "    <tr>\n",
       "      <th>count</th>\n",
       "      <td>3.920000e+06</td>\n",
       "      <td>3.920000e+06</td>\n",
       "      <td>3.920000e+06</td>\n",
       "      <td>3.920000e+06</td>\n",
       "      <td>3920000.0</td>\n",
       "      <td>3920000.0</td>\n",
       "      <td>3920000.0</td>\n",
       "      <td>3.920000e+06</td>\n",
       "      <td>3.920000e+06</td>\n",
       "      <td>3.920000e+06</td>\n",
       "      <td>3.920000e+06</td>\n",
       "      <td>3.920000e+06</td>\n",
       "    </tr>\n",
       "    <tr>\n",
       "      <th>mean</th>\n",
       "      <td>1.960000e+06</td>\n",
       "      <td>1.800000e+03</td>\n",
       "      <td>1.285000e+03</td>\n",
       "      <td>-4.750000e+02</td>\n",
       "      <td>10.0</td>\n",
       "      <td>10.0</td>\n",
       "      <td>10.0</td>\n",
       "      <td>7.011580e-03</td>\n",
       "      <td>3.596258e-16</td>\n",
       "      <td>3.590037e-16</td>\n",
       "      <td>3.634740e-16</td>\n",
       "      <td>1.981456e+00</td>\n",
       "    </tr>\n",
       "    <tr>\n",
       "      <th>std</th>\n",
       "      <td>1.131607e+06</td>\n",
       "      <td>4.041349e+02</td>\n",
       "      <td>4.041349e+02</td>\n",
       "      <td>5.773431e+02</td>\n",
       "      <td>0.0</td>\n",
       "      <td>0.0</td>\n",
       "      <td>0.0</td>\n",
       "      <td>1.558228e-02</td>\n",
       "      <td>2.288214e-15</td>\n",
       "      <td>2.288153e-15</td>\n",
       "      <td>2.287678e-15</td>\n",
       "      <td>1.349083e-01</td>\n",
       "    </tr>\n",
       "    <tr>\n",
       "      <th>min</th>\n",
       "      <td>0.000000e+00</td>\n",
       "      <td>1.105000e+03</td>\n",
       "      <td>5.900000e+02</td>\n",
       "      <td>-1.470000e+03</td>\n",
       "      <td>10.0</td>\n",
       "      <td>10.0</td>\n",
       "      <td>10.0</td>\n",
       "      <td>3.316340e-04</td>\n",
       "      <td>1.023090e-18</td>\n",
       "      <td>1.159695e-18</td>\n",
       "      <td>1.248545e-18</td>\n",
       "      <td>1.000000e+00</td>\n",
       "    </tr>\n",
       "    <tr>\n",
       "      <th>25%</th>\n",
       "      <td>9.799998e+05</td>\n",
       "      <td>1.452500e+03</td>\n",
       "      <td>9.375000e+02</td>\n",
       "      <td>-9.725000e+02</td>\n",
       "      <td>10.0</td>\n",
       "      <td>10.0</td>\n",
       "      <td>10.0</td>\n",
       "      <td>4.000989e-03</td>\n",
       "      <td>3.064653e-17</td>\n",
       "      <td>2.995086e-17</td>\n",
       "      <td>3.361155e-17</td>\n",
       "      <td>2.000000e+00</td>\n",
       "    </tr>\n",
       "    <tr>\n",
       "      <th>50%</th>\n",
       "      <td>1.960000e+06</td>\n",
       "      <td>1.800000e+03</td>\n",
       "      <td>1.285000e+03</td>\n",
       "      <td>-4.750000e+02</td>\n",
       "      <td>10.0</td>\n",
       "      <td>10.0</td>\n",
       "      <td>10.0</td>\n",
       "      <td>4.839924e-03</td>\n",
       "      <td>4.127464e-17</td>\n",
       "      <td>4.073920e-17</td>\n",
       "      <td>4.511994e-17</td>\n",
       "      <td>2.000000e+00</td>\n",
       "    </tr>\n",
       "    <tr>\n",
       "      <th>75%</th>\n",
       "      <td>2.939999e+06</td>\n",
       "      <td>2.147500e+03</td>\n",
       "      <td>1.632500e+03</td>\n",
       "      <td>2.250000e+01</td>\n",
       "      <td>10.0</td>\n",
       "      <td>10.0</td>\n",
       "      <td>10.0</td>\n",
       "      <td>5.758125e-03</td>\n",
       "      <td>5.422001e-17</td>\n",
       "      <td>5.401583e-17</td>\n",
       "      <td>5.909164e-17</td>\n",
       "      <td>2.000000e+00</td>\n",
       "    </tr>\n",
       "    <tr>\n",
       "      <th>max</th>\n",
       "      <td>3.919999e+06</td>\n",
       "      <td>2.495000e+03</td>\n",
       "      <td>1.980000e+03</td>\n",
       "      <td>5.200000e+02</td>\n",
       "      <td>10.0</td>\n",
       "      <td>10.0</td>\n",
       "      <td>10.0</td>\n",
       "      <td>1.200000e-01</td>\n",
       "      <td>1.700000e-14</td>\n",
       "      <td>1.700000e-14</td>\n",
       "      <td>1.700000e-14</td>\n",
       "      <td>2.000000e+00</td>\n",
       "    </tr>\n",
       "  </tbody>\n",
       "</table>\n",
       "</div>"
      ],
      "text/plain": [
       "                 Id             X             Y             Z         dX  \\\n",
       "count  3.920000e+06  3.920000e+06  3.920000e+06  3.920000e+06  3920000.0   \n",
       "mean   1.960000e+06  1.800000e+03  1.285000e+03 -4.750000e+02       10.0   \n",
       "std    1.131607e+06  4.041349e+02  4.041349e+02  5.773431e+02        0.0   \n",
       "min    0.000000e+00  1.105000e+03  5.900000e+02 -1.470000e+03       10.0   \n",
       "25%    9.799998e+05  1.452500e+03  9.375000e+02 -9.725000e+02       10.0   \n",
       "50%    1.960000e+06  1.800000e+03  1.285000e+03 -4.750000e+02       10.0   \n",
       "75%    2.939999e+06  2.147500e+03  1.632500e+03  2.250000e+01       10.0   \n",
       "max    3.919999e+06  2.495000e+03  1.980000e+03  5.200000e+02       10.0   \n",
       "\n",
       "              dY         dZ      Porosity           kii           kjj  \\\n",
       "count  3920000.0  3920000.0  3.920000e+06  3.920000e+06  3.920000e+06   \n",
       "mean        10.0       10.0  7.011580e-03  3.596258e-16  3.590037e-16   \n",
       "std          0.0        0.0  1.558228e-02  2.288214e-15  2.288153e-15   \n",
       "min         10.0       10.0  3.316340e-04  1.023090e-18  1.159695e-18   \n",
       "25%         10.0       10.0  4.000989e-03  3.064653e-17  2.995086e-17   \n",
       "50%         10.0       10.0  4.839924e-03  4.127464e-17  4.073920e-17   \n",
       "75%         10.0       10.0  5.758125e-03  5.422001e-17  5.401583e-17   \n",
       "max         10.0       10.0  1.200000e-01  1.700000e-14  1.700000e-14   \n",
       "\n",
       "                kkk         block  \n",
       "count  3.920000e+06  3.920000e+06  \n",
       "mean   3.634740e-16  1.981456e+00  \n",
       "std    2.287678e-15  1.349083e-01  \n",
       "min    1.248545e-18  1.000000e+00  \n",
       "25%    3.361155e-17  2.000000e+00  \n",
       "50%    4.511994e-17  2.000000e+00  \n",
       "75%    5.909164e-17  2.000000e+00  \n",
       "max    1.700000e-14  2.000000e+00  "
      ]
     },
     "execution_count": 47,
     "metadata": {},
     "output_type": "execute_result"
    }
   ],
   "source": [
    "a.describe()"
   ]
  },
  {
   "cell_type": "code",
   "execution_count": 47,
   "metadata": {},
   "outputs": [],
   "source": []
  },
  {
   "cell_type": "markdown",
   "metadata": {},
   "source": [
    "now can write the data to a CSV file."
   ]
  },
  {
   "cell_type": "code",
   "execution_count": 48,
   "metadata": {},
   "outputs": [],
   "source": [
    "a.to_csv(\"processed_local_large_well_3_1c_dfn_corrected_locations.csv\", encoding='utf-8', index=False)"
   ]
  },
  {
   "cell_type": "code",
   "execution_count": 49,
   "metadata": {},
   "outputs": [],
   "source": [
    "a.describe().to_csv(\"processed_local_large_well_3_1c_dfn_corrected_locations_Summary.csv\")"
   ]
  },
  {
   "cell_type": "markdown",
   "metadata": {},
   "source": [
    "now need to read into leapfrog and verify all the mpaaings"
   ]
  }
 ],
 "metadata": {
  "kernelspec": {
   "display_name": "Python 3",
   "language": "python",
   "name": "python3"
  },
  "language_info": {
   "codemirror_mode": {
    "name": "ipython",
    "version": 3
   },
   "file_extension": ".py",
   "mimetype": "text/x-python",
   "name": "python",
   "nbconvert_exporter": "python",
   "pygments_lexer": "ipython3",
   "version": "3.7.3"
  }
 },
 "nbformat": 4,
 "nbformat_minor": 2
}
