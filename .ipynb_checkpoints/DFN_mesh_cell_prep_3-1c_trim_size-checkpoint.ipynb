{
 "cells": [
  {
   "cell_type": "code",
   "execution_count": 38,
   "metadata": {},
   "outputs": [],
   "source": [
    "import pandas as pd"
   ]
  },
  {
   "cell_type": "code",
   "execution_count": 39,
   "metadata": {},
   "outputs": [],
   "source": [
    "data=pd.read_csv('processed_local_large_well_3_1c_dfn_corrected_locations.csv', float_precision='round_trip')"
   ]
  },
  {
   "cell_type": "code",
   "execution_count": 40,
   "metadata": {},
   "outputs": [
    {
     "data": {
      "text/html": [
       "<div>\n",
       "<style scoped>\n",
       "    .dataframe tbody tr th:only-of-type {\n",
       "        vertical-align: middle;\n",
       "    }\n",
       "\n",
       "    .dataframe tbody tr th {\n",
       "        vertical-align: top;\n",
       "    }\n",
       "\n",
       "    .dataframe thead th {\n",
       "        text-align: right;\n",
       "    }\n",
       "</style>\n",
       "<table border=\"1\" class=\"dataframe\">\n",
       "  <thead>\n",
       "    <tr style=\"text-align: right;\">\n",
       "      <th></th>\n",
       "      <th>Id</th>\n",
       "      <th>X</th>\n",
       "      <th>Y</th>\n",
       "      <th>Z</th>\n",
       "      <th>dX</th>\n",
       "      <th>dY</th>\n",
       "      <th>dZ</th>\n",
       "      <th>Porosity</th>\n",
       "      <th>kii</th>\n",
       "      <th>kjj</th>\n",
       "      <th>kkk</th>\n",
       "      <th>block</th>\n",
       "    </tr>\n",
       "  </thead>\n",
       "  <tbody>\n",
       "    <tr>\n",
       "      <th>count</th>\n",
       "      <td>3.920000e+06</td>\n",
       "      <td>3.920000e+06</td>\n",
       "      <td>3.920000e+06</td>\n",
       "      <td>3.920000e+06</td>\n",
       "      <td>3920000.0</td>\n",
       "      <td>3920000.0</td>\n",
       "      <td>3920000.0</td>\n",
       "      <td>3.920000e+06</td>\n",
       "      <td>3.920000e+06</td>\n",
       "      <td>3.920000e+06</td>\n",
       "      <td>3.920000e+06</td>\n",
       "      <td>3.920000e+06</td>\n",
       "    </tr>\n",
       "    <tr>\n",
       "      <th>mean</th>\n",
       "      <td>1.960000e+06</td>\n",
       "      <td>1.800000e+03</td>\n",
       "      <td>1.285000e+03</td>\n",
       "      <td>-4.750000e+02</td>\n",
       "      <td>10.0</td>\n",
       "      <td>10.0</td>\n",
       "      <td>10.0</td>\n",
       "      <td>7.011576e-03</td>\n",
       "      <td>3.595809e-16</td>\n",
       "      <td>3.589851e-16</td>\n",
       "      <td>3.639264e-16</td>\n",
       "      <td>1.981456e+00</td>\n",
       "    </tr>\n",
       "    <tr>\n",
       "      <th>std</th>\n",
       "      <td>1.131607e+06</td>\n",
       "      <td>4.041349e+02</td>\n",
       "      <td>4.041349e+02</td>\n",
       "      <td>5.773431e+02</td>\n",
       "      <td>0.0</td>\n",
       "      <td>0.0</td>\n",
       "      <td>0.0</td>\n",
       "      <td>1.558229e-02</td>\n",
       "      <td>2.288301e-15</td>\n",
       "      <td>2.288239e-15</td>\n",
       "      <td>2.288104e-15</td>\n",
       "      <td>1.349083e-01</td>\n",
       "    </tr>\n",
       "    <tr>\n",
       "      <th>min</th>\n",
       "      <td>0.000000e+00</td>\n",
       "      <td>1.105000e+03</td>\n",
       "      <td>5.900000e+02</td>\n",
       "      <td>-1.470000e+03</td>\n",
       "      <td>10.0</td>\n",
       "      <td>10.0</td>\n",
       "      <td>10.0</td>\n",
       "      <td>3.316340e-04</td>\n",
       "      <td>1.023090e-18</td>\n",
       "      <td>1.159695e-18</td>\n",
       "      <td>1.248545e-18</td>\n",
       "      <td>1.000000e+00</td>\n",
       "    </tr>\n",
       "    <tr>\n",
       "      <th>25%</th>\n",
       "      <td>9.799998e+05</td>\n",
       "      <td>1.452500e+03</td>\n",
       "      <td>9.375000e+02</td>\n",
       "      <td>-9.725000e+02</td>\n",
       "      <td>10.0</td>\n",
       "      <td>10.0</td>\n",
       "      <td>10.0</td>\n",
       "      <td>4.000981e-03</td>\n",
       "      <td>3.064824e-17</td>\n",
       "      <td>2.994944e-17</td>\n",
       "      <td>3.360730e-17</td>\n",
       "      <td>2.000000e+00</td>\n",
       "    </tr>\n",
       "    <tr>\n",
       "      <th>50%</th>\n",
       "      <td>1.960000e+06</td>\n",
       "      <td>1.800000e+03</td>\n",
       "      <td>1.285000e+03</td>\n",
       "      <td>-4.750000e+02</td>\n",
       "      <td>10.0</td>\n",
       "      <td>10.0</td>\n",
       "      <td>10.0</td>\n",
       "      <td>4.839916e-03</td>\n",
       "      <td>4.127572e-17</td>\n",
       "      <td>4.073644e-17</td>\n",
       "      <td>4.511092e-17</td>\n",
       "      <td>2.000000e+00</td>\n",
       "    </tr>\n",
       "    <tr>\n",
       "      <th>75%</th>\n",
       "      <td>2.939999e+06</td>\n",
       "      <td>2.147500e+03</td>\n",
       "      <td>1.632500e+03</td>\n",
       "      <td>2.250000e+01</td>\n",
       "      <td>10.0</td>\n",
       "      <td>10.0</td>\n",
       "      <td>10.0</td>\n",
       "      <td>5.758113e-03</td>\n",
       "      <td>5.421798e-17</td>\n",
       "      <td>5.400832e-17</td>\n",
       "      <td>5.907400e-17</td>\n",
       "      <td>2.000000e+00</td>\n",
       "    </tr>\n",
       "    <tr>\n",
       "      <th>max</th>\n",
       "      <td>3.919999e+06</td>\n",
       "      <td>2.495000e+03</td>\n",
       "      <td>1.980000e+03</td>\n",
       "      <td>5.200000e+02</td>\n",
       "      <td>10.0</td>\n",
       "      <td>10.0</td>\n",
       "      <td>10.0</td>\n",
       "      <td>1.200000e-01</td>\n",
       "      <td>1.700000e-14</td>\n",
       "      <td>1.700000e-14</td>\n",
       "      <td>1.700000e-14</td>\n",
       "      <td>2.000000e+00</td>\n",
       "    </tr>\n",
       "  </tbody>\n",
       "</table>\n",
       "</div>"
      ],
      "text/plain": [
       "                 Id             X             Y             Z         dX  \\\n",
       "count  3.920000e+06  3.920000e+06  3.920000e+06  3.920000e+06  3920000.0   \n",
       "mean   1.960000e+06  1.800000e+03  1.285000e+03 -4.750000e+02       10.0   \n",
       "std    1.131607e+06  4.041349e+02  4.041349e+02  5.773431e+02        0.0   \n",
       "min    0.000000e+00  1.105000e+03  5.900000e+02 -1.470000e+03       10.0   \n",
       "25%    9.799998e+05  1.452500e+03  9.375000e+02 -9.725000e+02       10.0   \n",
       "50%    1.960000e+06  1.800000e+03  1.285000e+03 -4.750000e+02       10.0   \n",
       "75%    2.939999e+06  2.147500e+03  1.632500e+03  2.250000e+01       10.0   \n",
       "max    3.919999e+06  2.495000e+03  1.980000e+03  5.200000e+02       10.0   \n",
       "\n",
       "              dY         dZ      Porosity           kii           kjj  \\\n",
       "count  3920000.0  3920000.0  3.920000e+06  3.920000e+06  3.920000e+06   \n",
       "mean        10.0       10.0  7.011576e-03  3.595809e-16  3.589851e-16   \n",
       "std          0.0        0.0  1.558229e-02  2.288301e-15  2.288239e-15   \n",
       "min         10.0       10.0  3.316340e-04  1.023090e-18  1.159695e-18   \n",
       "25%         10.0       10.0  4.000981e-03  3.064824e-17  2.994944e-17   \n",
       "50%         10.0       10.0  4.839916e-03  4.127572e-17  4.073644e-17   \n",
       "75%         10.0       10.0  5.758113e-03  5.421798e-17  5.400832e-17   \n",
       "max         10.0       10.0  1.200000e-01  1.700000e-14  1.700000e-14   \n",
       "\n",
       "                kkk         block  \n",
       "count  3.920000e+06  3.920000e+06  \n",
       "mean   3.639264e-16  1.981456e+00  \n",
       "std    2.288104e-15  1.349083e-01  \n",
       "min    1.248545e-18  1.000000e+00  \n",
       "25%    3.360730e-17  2.000000e+00  \n",
       "50%    4.511092e-17  2.000000e+00  \n",
       "75%    5.907400e-17  2.000000e+00  \n",
       "max    1.700000e-14  2.000000e+00  "
      ]
     },
     "execution_count": 40,
     "metadata": {},
     "output_type": "execute_result"
    }
   ],
   "source": [
    "data.describe()"
   ]
  },
  {
   "cell_type": "code",
   "execution_count": 41,
   "metadata": {},
   "outputs": [
    {
     "data": {
      "text/plain": [
       "(1105.0, 2495.0, 1800.0)"
      ]
     },
     "execution_count": 41,
     "metadata": {},
     "output_type": "execute_result"
    }
   ],
   "source": [
    "min (data.X), max (data.X), data['X'].median()"
   ]
  },
  {
   "cell_type": "code",
   "execution_count": 42,
   "metadata": {},
   "outputs": [
    {
     "data": {
      "text/plain": [
       "(590.0, 1980.0, 1285.0)"
      ]
     },
     "execution_count": 42,
     "metadata": {},
     "output_type": "execute_result"
    }
   ],
   "source": [
    "min (data.Y), max (data.Y), data['Y'].median()"
   ]
  },
  {
   "cell_type": "code",
   "execution_count": 43,
   "metadata": {},
   "outputs": [
    {
     "data": {
      "text/plain": [
       "(-1470, 520, -475.0)"
      ]
     },
     "execution_count": 43,
     "metadata": {},
     "output_type": "execute_result"
    }
   ],
   "source": [
    "min (data.Z), max (data.Z), data['Z'].median()"
   ]
  },
  {
   "cell_type": "markdown",
   "metadata": {},
   "source": [
    "need to manually calculate the translation distance based on injection location and bounds of the new/refine mesh versus the full domain mesh"
   ]
  },
  {
   "cell_type": "code",
   "execution_count": 44,
   "metadata": {},
   "outputs": [],
   "source": [
    "data2 = data.query('1440 <= X <= 2370 and 825 <= Y <= 1805 and -1185 <= Z <= -215')"
   ]
  },
  {
   "cell_type": "code",
   "execution_count": 45,
   "metadata": {},
   "outputs": [
    {
     "data": {
      "text/html": [
       "<div>\n",
       "<style scoped>\n",
       "    .dataframe tbody tr th:only-of-type {\n",
       "        vertical-align: middle;\n",
       "    }\n",
       "\n",
       "    .dataframe tbody tr th {\n",
       "        vertical-align: top;\n",
       "    }\n",
       "\n",
       "    .dataframe thead th {\n",
       "        text-align: right;\n",
       "    }\n",
       "</style>\n",
       "<table border=\"1\" class=\"dataframe\">\n",
       "  <thead>\n",
       "    <tr style=\"text-align: right;\">\n",
       "      <th></th>\n",
       "      <th>Id</th>\n",
       "      <th>X</th>\n",
       "      <th>Y</th>\n",
       "      <th>Z</th>\n",
       "      <th>dX</th>\n",
       "      <th>dY</th>\n",
       "      <th>dZ</th>\n",
       "      <th>Porosity</th>\n",
       "      <th>kii</th>\n",
       "      <th>kjj</th>\n",
       "      <th>kkk</th>\n",
       "      <th>block</th>\n",
       "    </tr>\n",
       "  </thead>\n",
       "  <tbody>\n",
       "    <tr>\n",
       "      <th>count</th>\n",
       "      <td>8.840580e+05</td>\n",
       "      <td>884058.000000</td>\n",
       "      <td>884058.000000</td>\n",
       "      <td>884058.000000</td>\n",
       "      <td>884058.0</td>\n",
       "      <td>884058.0</td>\n",
       "      <td>884058.0</td>\n",
       "      <td>884058.000000</td>\n",
       "      <td>8.840580e+05</td>\n",
       "      <td>8.840580e+05</td>\n",
       "      <td>8.840580e+05</td>\n",
       "      <td>884058.0</td>\n",
       "    </tr>\n",
       "    <tr>\n",
       "      <th>mean</th>\n",
       "      <td>2.253422e+06</td>\n",
       "      <td>1905.000000</td>\n",
       "      <td>1315.000000</td>\n",
       "      <td>-700.000000</td>\n",
       "      <td>10.0</td>\n",
       "      <td>10.0</td>\n",
       "      <td>10.0</td>\n",
       "      <td>0.005063</td>\n",
       "      <td>5.487724e-17</td>\n",
       "      <td>5.351871e-17</td>\n",
       "      <td>6.127178e-17</td>\n",
       "      <td>2.0</td>\n",
       "    </tr>\n",
       "    <tr>\n",
       "      <th>std</th>\n",
       "      <td>7.516883e+05</td>\n",
       "      <td>268.452506</td>\n",
       "      <td>282.887063</td>\n",
       "      <td>280.000158</td>\n",
       "      <td>0.0</td>\n",
       "      <td>0.0</td>\n",
       "      <td>0.0</td>\n",
       "      <td>0.001240</td>\n",
       "      <td>1.350510e-16</td>\n",
       "      <td>1.237347e-16</td>\n",
       "      <td>1.617044e-16</td>\n",
       "      <td>0.0</td>\n",
       "    </tr>\n",
       "    <tr>\n",
       "      <th>min</th>\n",
       "      <td>9.556740e+05</td>\n",
       "      <td>1445.000000</td>\n",
       "      <td>830.000000</td>\n",
       "      <td>-1180.000000</td>\n",
       "      <td>10.0</td>\n",
       "      <td>10.0</td>\n",
       "      <td>10.0</td>\n",
       "      <td>0.000868</td>\n",
       "      <td>4.164190e-18</td>\n",
       "      <td>3.663575e-18</td>\n",
       "      <td>4.465914e-18</td>\n",
       "      <td>2.0</td>\n",
       "    </tr>\n",
       "    <tr>\n",
       "      <th>25%</th>\n",
       "      <td>1.604522e+06</td>\n",
       "      <td>1675.000000</td>\n",
       "      <td>1070.000000</td>\n",
       "      <td>-940.000000</td>\n",
       "      <td>10.0</td>\n",
       "      <td>10.0</td>\n",
       "      <td>10.0</td>\n",
       "      <td>0.004187</td>\n",
       "      <td>3.278966e-17</td>\n",
       "      <td>3.206978e-17</td>\n",
       "      <td>3.597367e-17</td>\n",
       "      <td>2.0</td>\n",
       "    </tr>\n",
       "    <tr>\n",
       "      <th>50%</th>\n",
       "      <td>2.253422e+06</td>\n",
       "      <td>1905.000000</td>\n",
       "      <td>1315.000000</td>\n",
       "      <td>-700.000000</td>\n",
       "      <td>10.0</td>\n",
       "      <td>10.0</td>\n",
       "      <td>10.0</td>\n",
       "      <td>0.004988</td>\n",
       "      <td>4.340622e-17</td>\n",
       "      <td>4.292111e-17</td>\n",
       "      <td>4.747559e-17</td>\n",
       "      <td>2.0</td>\n",
       "    </tr>\n",
       "    <tr>\n",
       "      <th>75%</th>\n",
       "      <td>2.902322e+06</td>\n",
       "      <td>2135.000000</td>\n",
       "      <td>1560.000000</td>\n",
       "      <td>-460.000000</td>\n",
       "      <td>10.0</td>\n",
       "      <td>10.0</td>\n",
       "      <td>10.0</td>\n",
       "      <td>0.005857</td>\n",
       "      <td>5.611191e-17</td>\n",
       "      <td>5.599034e-17</td>\n",
       "      <td>6.125121e-17</td>\n",
       "      <td>2.0</td>\n",
       "    </tr>\n",
       "    <tr>\n",
       "      <th>max</th>\n",
       "      <td>3.551170e+06</td>\n",
       "      <td>2365.000000</td>\n",
       "      <td>1800.000000</td>\n",
       "      <td>-220.000000</td>\n",
       "      <td>10.0</td>\n",
       "      <td>10.0</td>\n",
       "      <td>10.0</td>\n",
       "      <td>0.011929</td>\n",
       "      <td>6.907504e-15</td>\n",
       "      <td>8.453655e-15</td>\n",
       "      <td>9.994956e-15</td>\n",
       "      <td>2.0</td>\n",
       "    </tr>\n",
       "  </tbody>\n",
       "</table>\n",
       "</div>"
      ],
      "text/plain": [
       "                 Id              X              Y              Z        dX  \\\n",
       "count  8.840580e+05  884058.000000  884058.000000  884058.000000  884058.0   \n",
       "mean   2.253422e+06    1905.000000    1315.000000    -700.000000      10.0   \n",
       "std    7.516883e+05     268.452506     282.887063     280.000158       0.0   \n",
       "min    9.556740e+05    1445.000000     830.000000   -1180.000000      10.0   \n",
       "25%    1.604522e+06    1675.000000    1070.000000    -940.000000      10.0   \n",
       "50%    2.253422e+06    1905.000000    1315.000000    -700.000000      10.0   \n",
       "75%    2.902322e+06    2135.000000    1560.000000    -460.000000      10.0   \n",
       "max    3.551170e+06    2365.000000    1800.000000    -220.000000      10.0   \n",
       "\n",
       "             dY        dZ       Porosity           kii           kjj  \\\n",
       "count  884058.0  884058.0  884058.000000  8.840580e+05  8.840580e+05   \n",
       "mean       10.0      10.0       0.005063  5.487724e-17  5.351871e-17   \n",
       "std         0.0       0.0       0.001240  1.350510e-16  1.237347e-16   \n",
       "min        10.0      10.0       0.000868  4.164190e-18  3.663575e-18   \n",
       "25%        10.0      10.0       0.004187  3.278966e-17  3.206978e-17   \n",
       "50%        10.0      10.0       0.004988  4.340622e-17  4.292111e-17   \n",
       "75%        10.0      10.0       0.005857  5.611191e-17  5.599034e-17   \n",
       "max        10.0      10.0       0.011929  6.907504e-15  8.453655e-15   \n",
       "\n",
       "                kkk     block  \n",
       "count  8.840580e+05  884058.0  \n",
       "mean   6.127178e-17       2.0  \n",
       "std    1.617044e-16       0.0  \n",
       "min    4.465914e-18       2.0  \n",
       "25%    3.597367e-17       2.0  \n",
       "50%    4.747559e-17       2.0  \n",
       "75%    6.125121e-17       2.0  \n",
       "max    9.994956e-15       2.0  "
      ]
     },
     "execution_count": 45,
     "metadata": {},
     "output_type": "execute_result"
    }
   ],
   "source": [
    "data2.describe()"
   ]
  },
  {
   "cell_type": "code",
   "execution_count": 144,
   "metadata": {},
   "outputs": [],
   "source": []
  },
  {
   "cell_type": "markdown",
   "metadata": {},
   "source": [
    "now verify translation was correct, and also chck the bounds to make sure still within the full domain"
   ]
  },
  {
   "cell_type": "code",
   "execution_count": 46,
   "metadata": {},
   "outputs": [
    {
     "data": {
      "text/plain": [
       "(1445.0, 2365.0, 1905.0)"
      ]
     },
     "execution_count": 46,
     "metadata": {},
     "output_type": "execute_result"
    }
   ],
   "source": [
    "min (data2.X), max (data2.X), data2['X'].median()"
   ]
  },
  {
   "cell_type": "code",
   "execution_count": 47,
   "metadata": {},
   "outputs": [
    {
     "data": {
      "text/plain": [
       "(830.0, 1800.0, -700.0)"
      ]
     },
     "execution_count": 47,
     "metadata": {},
     "output_type": "execute_result"
    }
   ],
   "source": [
    "min (data2.Y), max (data2.Y), data2['Z'].median()"
   ]
  },
  {
   "cell_type": "code",
   "execution_count": 48,
   "metadata": {},
   "outputs": [
    {
     "data": {
      "text/plain": [
       "(-1180, -220, -700.0)"
      ]
     },
     "execution_count": 48,
     "metadata": {},
     "output_type": "execute_result"
    }
   ],
   "source": [
    "min (data2.Z), max (data2.Z), data2['Z'].median()"
   ]
  },
  {
   "cell_type": "code",
   "execution_count": 49,
   "metadata": {},
   "outputs": [],
   "source": [
    "a = data2.sort_values([\"Z\",\"Y\",\"X\"], ascending = [True, True, True])"
   ]
  },
  {
   "cell_type": "code",
   "execution_count": null,
   "metadata": {},
   "outputs": [],
   "source": []
  },
  {
   "cell_type": "code",
   "execution_count": null,
   "metadata": {},
   "outputs": [],
   "source": []
  },
  {
   "cell_type": "markdown",
   "metadata": {},
   "source": [
    "now can write the data to a CSV file."
   ]
  },
  {
   "cell_type": "code",
   "execution_count": 50,
   "metadata": {},
   "outputs": [],
   "source": [
    "a.to_csv(\"2019_08_29_3_1c_cell.csv\", encoding='utf-8', index=False)"
   ]
  },
  {
   "cell_type": "code",
   "execution_count": 37,
   "metadata": {},
   "outputs": [],
   "source": [
    "data2.describe().to_csv(\"2019_08_29_3_1c_cell_summary.csv\")"
   ]
  }
 ],
 "metadata": {
  "kernelspec": {
   "display_name": "Python 3",
   "language": "python",
   "name": "python3"
  },
  "language_info": {
   "codemirror_mode": {
    "name": "ipython",
    "version": 3
   },
   "file_extension": ".py",
   "mimetype": "text/x-python",
   "name": "python",
   "nbconvert_exporter": "python",
   "pygments_lexer": "ipython3",
   "version": "3.8.3"
  }
 },
 "nbformat": 4,
 "nbformat_minor": 2
}
