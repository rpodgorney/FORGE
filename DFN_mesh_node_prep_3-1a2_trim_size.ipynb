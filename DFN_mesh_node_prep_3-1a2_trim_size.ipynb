{
 "cells": [
  {
   "cell_type": "code",
   "execution_count": 1,
   "metadata": {},
   "outputs": [],
   "source": [
    "import pandas as pd"
   ]
  },
  {
   "cell_type": "code",
   "execution_count": 8,
   "metadata": {},
   "outputs": [],
   "source": [
    "data=pd.read_csv('large_well_3-1c_node_correct_locations.csv', float_precision='round_trip')"
   ]
  },
  {
   "cell_type": "code",
   "execution_count": 9,
   "metadata": {},
   "outputs": [
    {
     "data": {
      "text/html": [
       "<div>\n",
       "<style scoped>\n",
       "    .dataframe tbody tr th:only-of-type {\n",
       "        vertical-align: middle;\n",
       "    }\n",
       "\n",
       "    .dataframe tbody tr th {\n",
       "        vertical-align: top;\n",
       "    }\n",
       "\n",
       "    .dataframe thead th {\n",
       "        text-align: right;\n",
       "    }\n",
       "</style>\n",
       "<table border=\"1\" class=\"dataframe\">\n",
       "  <thead>\n",
       "    <tr style=\"text-align: right;\">\n",
       "      <th></th>\n",
       "      <th>Id</th>\n",
       "      <th>X</th>\n",
       "      <th>Y</th>\n",
       "      <th>Z</th>\n",
       "      <th>dX</th>\n",
       "      <th>dY</th>\n",
       "      <th>dZ</th>\n",
       "      <th>pressure</th>\n",
       "      <th>disp_k_bc</th>\n",
       "      <th>disp_j_bc</th>\n",
       "      <th>disp_i_bc</th>\n",
       "      <th>vertical</th>\n",
       "      <th>h_max</th>\n",
       "      <th>h_min</th>\n",
       "      <th>temperature</th>\n",
       "    </tr>\n",
       "  </thead>\n",
       "  <tbody>\n",
       "    <tr>\n",
       "      <th>count</th>\n",
       "      <td>3.996081e+06</td>\n",
       "      <td>3.996081e+06</td>\n",
       "      <td>3.996081e+06</td>\n",
       "      <td>3.996081e+06</td>\n",
       "      <td>3996081.0</td>\n",
       "      <td>3996081.0</td>\n",
       "      <td>3996081.0</td>\n",
       "      <td>3.996081e+06</td>\n",
       "      <td>3.996081e+06</td>\n",
       "      <td>3.996081e+06</td>\n",
       "      <td>3.996081e+06</td>\n",
       "      <td>3.996081e+06</td>\n",
       "      <td>3.996081e+06</td>\n",
       "      <td>3.996081e+06</td>\n",
       "      <td>3.996081e+06</td>\n",
       "    </tr>\n",
       "    <tr>\n",
       "      <th>mean</th>\n",
       "      <td>1.998040e+06</td>\n",
       "      <td>1.800000e+03</td>\n",
       "      <td>1.285000e+03</td>\n",
       "      <td>-4.750000e+02</td>\n",
       "      <td>10.0</td>\n",
       "      <td>10.0</td>\n",
       "      <td>10.0</td>\n",
       "      <td>1.907139e+07</td>\n",
       "      <td>-5.420845e+07</td>\n",
       "      <td>-3.791012e+07</td>\n",
       "      <td>-3.208800e+07</td>\n",
       "      <td>-3.513706e+07</td>\n",
       "      <td>-1.883873e+07</td>\n",
       "      <td>-1.301661e+07</td>\n",
       "      <td>4.675622e+02</td>\n",
       "    </tr>\n",
       "    <tr>\n",
       "      <th>std</th>\n",
       "      <td>1.153569e+06</td>\n",
       "      <td>4.070218e+02</td>\n",
       "      <td>4.070218e+02</td>\n",
       "      <td>5.802299e+02</td>\n",
       "      <td>0.0</td>\n",
       "      <td>0.0</td>\n",
       "      <td>0.0</td>\n",
       "      <td>5.015264e+06</td>\n",
       "      <td>1.549828e+07</td>\n",
       "      <td>1.011846e+07</td>\n",
       "      <td>8.509904e+06</td>\n",
       "      <td>1.048665e+07</td>\n",
       "      <td>5.109407e+06</td>\n",
       "      <td>3.500167e+06</td>\n",
       "      <td>3.737505e+01</td>\n",
       "    </tr>\n",
       "    <tr>\n",
       "      <th>min</th>\n",
       "      <td>0.000000e+00</td>\n",
       "      <td>1.100000e+03</td>\n",
       "      <td>5.850000e+02</td>\n",
       "      <td>-1.475000e+03</td>\n",
       "      <td>10.0</td>\n",
       "      <td>10.0</td>\n",
       "      <td>10.0</td>\n",
       "      <td>1.009267e+07</td>\n",
       "      <td>-8.139590e+07</td>\n",
       "      <td>-5.584870e+07</td>\n",
       "      <td>-4.706967e+07</td>\n",
       "      <td>-5.391444e+07</td>\n",
       "      <td>-2.836785e+07</td>\n",
       "      <td>-1.951185e+07</td>\n",
       "      <td>3.848821e+02</td>\n",
       "    </tr>\n",
       "    <tr>\n",
       "      <th>25%</th>\n",
       "      <td>9.990200e+05</td>\n",
       "      <td>1.450000e+03</td>\n",
       "      <td>9.350000e+02</td>\n",
       "      <td>-9.750000e+02</td>\n",
       "      <td>10.0</td>\n",
       "      <td>10.0</td>\n",
       "      <td>10.0</td>\n",
       "      <td>1.473932e+07</td>\n",
       "      <td>-6.761500e+07</td>\n",
       "      <td>-4.664333e+07</td>\n",
       "      <td>-3.943993e+07</td>\n",
       "      <td>-4.417102e+07</td>\n",
       "      <td>-2.320151e+07</td>\n",
       "      <td>-1.599391e+07</td>\n",
       "      <td>4.365562e+02</td>\n",
       "    </tr>\n",
       "    <tr>\n",
       "      <th>50%</th>\n",
       "      <td>1.998040e+06</td>\n",
       "      <td>1.800000e+03</td>\n",
       "      <td>1.285000e+03</td>\n",
       "      <td>-4.750000e+02</td>\n",
       "      <td>10.0</td>\n",
       "      <td>10.0</td>\n",
       "      <td>10.0</td>\n",
       "      <td>1.917151e+07</td>\n",
       "      <td>-5.417420e+07</td>\n",
       "      <td>-3.787501e+07</td>\n",
       "      <td>-3.206138e+07</td>\n",
       "      <td>-3.500730e+07</td>\n",
       "      <td>-1.870522e+07</td>\n",
       "      <td>-1.289742e+07</td>\n",
       "      <td>4.688123e+02</td>\n",
       "    </tr>\n",
       "    <tr>\n",
       "      <th>75%</th>\n",
       "      <td>2.997060e+06</td>\n",
       "      <td>2.150000e+03</td>\n",
       "      <td>1.635000e+03</td>\n",
       "      <td>2.500000e+01</td>\n",
       "      <td>10.0</td>\n",
       "      <td>10.0</td>\n",
       "      <td>10.0</td>\n",
       "      <td>2.343143e+07</td>\n",
       "      <td>-4.080464e+07</td>\n",
       "      <td>-2.918667e+07</td>\n",
       "      <td>-2.475745e+07</td>\n",
       "      <td>-2.605590e+07</td>\n",
       "      <td>-1.443495e+07</td>\n",
       "      <td>-1.001722e+07</td>\n",
       "      <td>4.999404e+02</td>\n",
       "    </tr>\n",
       "    <tr>\n",
       "      <th>max</th>\n",
       "      <td>3.996080e+06</td>\n",
       "      <td>2.500000e+03</td>\n",
       "      <td>1.985000e+03</td>\n",
       "      <td>5.250000e+02</td>\n",
       "      <td>10.0</td>\n",
       "      <td>10.0</td>\n",
       "      <td>10.0</td>\n",
       "      <td>2.757207e+07</td>\n",
       "      <td>-2.613072e+07</td>\n",
       "      <td>-1.907780e+07</td>\n",
       "      <td>-1.617561e+07</td>\n",
       "      <td>-1.602479e+07</td>\n",
       "      <td>-8.958273e+06</td>\n",
       "      <td>-6.049752e+06</td>\n",
       "      <td>5.346950e+02</td>\n",
       "    </tr>\n",
       "  </tbody>\n",
       "</table>\n",
       "</div>"
      ],
      "text/plain": [
       "                 Id             X             Y             Z         dX  \\\n",
       "count  3.996081e+06  3.996081e+06  3.996081e+06  3.996081e+06  3996081.0   \n",
       "mean   1.998040e+06  1.800000e+03  1.285000e+03 -4.750000e+02       10.0   \n",
       "std    1.153569e+06  4.070218e+02  4.070218e+02  5.802299e+02        0.0   \n",
       "min    0.000000e+00  1.100000e+03  5.850000e+02 -1.475000e+03       10.0   \n",
       "25%    9.990200e+05  1.450000e+03  9.350000e+02 -9.750000e+02       10.0   \n",
       "50%    1.998040e+06  1.800000e+03  1.285000e+03 -4.750000e+02       10.0   \n",
       "75%    2.997060e+06  2.150000e+03  1.635000e+03  2.500000e+01       10.0   \n",
       "max    3.996080e+06  2.500000e+03  1.985000e+03  5.250000e+02       10.0   \n",
       "\n",
       "              dY         dZ      pressure     disp_k_bc     disp_j_bc  \\\n",
       "count  3996081.0  3996081.0  3.996081e+06  3.996081e+06  3.996081e+06   \n",
       "mean        10.0       10.0  1.907139e+07 -5.420845e+07 -3.791012e+07   \n",
       "std          0.0        0.0  5.015264e+06  1.549828e+07  1.011846e+07   \n",
       "min         10.0       10.0  1.009267e+07 -8.139590e+07 -5.584870e+07   \n",
       "25%         10.0       10.0  1.473932e+07 -6.761500e+07 -4.664333e+07   \n",
       "50%         10.0       10.0  1.917151e+07 -5.417420e+07 -3.787501e+07   \n",
       "75%         10.0       10.0  2.343143e+07 -4.080464e+07 -2.918667e+07   \n",
       "max         10.0       10.0  2.757207e+07 -2.613072e+07 -1.907780e+07   \n",
       "\n",
       "          disp_i_bc      vertical         h_max         h_min   temperature  \n",
       "count  3.996081e+06  3.996081e+06  3.996081e+06  3.996081e+06  3.996081e+06  \n",
       "mean  -3.208800e+07 -3.513706e+07 -1.883873e+07 -1.301661e+07  4.675622e+02  \n",
       "std    8.509904e+06  1.048665e+07  5.109407e+06  3.500167e+06  3.737505e+01  \n",
       "min   -4.706967e+07 -5.391444e+07 -2.836785e+07 -1.951185e+07  3.848821e+02  \n",
       "25%   -3.943993e+07 -4.417102e+07 -2.320151e+07 -1.599391e+07  4.365562e+02  \n",
       "50%   -3.206138e+07 -3.500730e+07 -1.870522e+07 -1.289742e+07  4.688123e+02  \n",
       "75%   -2.475745e+07 -2.605590e+07 -1.443495e+07 -1.001722e+07  4.999404e+02  \n",
       "max   -1.617561e+07 -1.602479e+07 -8.958273e+06 -6.049752e+06  5.346950e+02  "
      ]
     },
     "execution_count": 9,
     "metadata": {},
     "output_type": "execute_result"
    }
   ],
   "source": [
    "data.describe()"
   ]
  },
  {
   "cell_type": "code",
   "execution_count": 4,
   "metadata": {},
   "outputs": [
    {
     "data": {
      "text/plain": [
       "(1100, 2500, 1800.0)"
      ]
     },
     "execution_count": 4,
     "metadata": {},
     "output_type": "execute_result"
    }
   ],
   "source": [
    "min (data.X), max (data.X), data['X'].median()"
   ]
  },
  {
   "cell_type": "code",
   "execution_count": 5,
   "metadata": {},
   "outputs": [
    {
     "data": {
      "text/plain": [
       "(585, 1985, 1285.0)"
      ]
     },
     "execution_count": 5,
     "metadata": {},
     "output_type": "execute_result"
    }
   ],
   "source": [
    "min (data.Y), max (data.Y), data['Y'].median()"
   ]
  },
  {
   "cell_type": "code",
   "execution_count": 6,
   "metadata": {},
   "outputs": [
    {
     "data": {
      "text/plain": [
       "(-1475, 525, -475.0)"
      ]
     },
     "execution_count": 6,
     "metadata": {},
     "output_type": "execute_result"
    }
   ],
   "source": [
    "min (data.Z), max (data.Z), data['Z'].median()"
   ]
  },
  {
   "cell_type": "markdown",
   "metadata": {},
   "source": [
    "Trim mesh size based on size of stimulated volume"
   ]
  },
  {
   "cell_type": "code",
   "execution_count": 10,
   "metadata": {},
   "outputs": [],
   "source": [
    "data2 = data.query('1690 <= X and 865 <= Y <= 1845 and Z <= -545')"
   ]
  },
  {
   "cell_type": "code",
   "execution_count": 11,
   "metadata": {},
   "outputs": [
    {
     "data": {
      "text/html": [
       "<div>\n",
       "<style scoped>\n",
       "    .dataframe tbody tr th:only-of-type {\n",
       "        vertical-align: middle;\n",
       "    }\n",
       "\n",
       "    .dataframe tbody tr th {\n",
       "        vertical-align: top;\n",
       "    }\n",
       "\n",
       "    .dataframe thead th {\n",
       "        text-align: right;\n",
       "    }\n",
       "</style>\n",
       "<table border=\"1\" class=\"dataframe\">\n",
       "  <thead>\n",
       "    <tr style=\"text-align: right;\">\n",
       "      <th></th>\n",
       "      <th>Id</th>\n",
       "      <th>X</th>\n",
       "      <th>Y</th>\n",
       "      <th>Z</th>\n",
       "      <th>dX</th>\n",
       "      <th>dY</th>\n",
       "      <th>dZ</th>\n",
       "      <th>pressure</th>\n",
       "      <th>disp_k_bc</th>\n",
       "      <th>disp_j_bc</th>\n",
       "      <th>disp_i_bc</th>\n",
       "      <th>vertical</th>\n",
       "      <th>h_max</th>\n",
       "      <th>h_min</th>\n",
       "      <th>temperature</th>\n",
       "    </tr>\n",
       "  </thead>\n",
       "  <tbody>\n",
       "    <tr>\n",
       "      <th>count</th>\n",
       "      <td>7.630920e+05</td>\n",
       "      <td>763092.000000</td>\n",
       "      <td>763092.000000</td>\n",
       "      <td>763092.000000</td>\n",
       "      <td>763092.0</td>\n",
       "      <td>763092.0</td>\n",
       "      <td>763092.0</td>\n",
       "      <td>7.630920e+05</td>\n",
       "      <td>7.630920e+05</td>\n",
       "      <td>7.630920e+05</td>\n",
       "      <td>7.630920e+05</td>\n",
       "      <td>7.630920e+05</td>\n",
       "      <td>7.630920e+05</td>\n",
       "      <td>7.630920e+05</td>\n",
       "      <td>763092.000000</td>\n",
       "    </tr>\n",
       "    <tr>\n",
       "      <th>mean</th>\n",
       "      <td>9.354230e+05</td>\n",
       "      <td>2095.000000</td>\n",
       "      <td>1355.000000</td>\n",
       "      <td>-1010.000000</td>\n",
       "      <td>10.0</td>\n",
       "      <td>10.0</td>\n",
       "      <td>10.0</td>\n",
       "      <td>2.368692e+07</td>\n",
       "      <td>-6.875721e+07</td>\n",
       "      <td>-4.743661e+07</td>\n",
       "      <td>-3.984582e+07</td>\n",
       "      <td>-4.507030e+07</td>\n",
       "      <td>-2.374970e+07</td>\n",
       "      <td>-1.615890e+07</td>\n",
       "      <td>504.209736</td>\n",
       "    </tr>\n",
       "    <tr>\n",
       "      <th>std</th>\n",
       "      <td>5.394650e+05</td>\n",
       "      <td>236.696163</td>\n",
       "      <td>285.773991</td>\n",
       "      <td>271.339449</td>\n",
       "      <td>0.0</td>\n",
       "      <td>0.0</td>\n",
       "      <td>0.0</td>\n",
       "      <td>2.250617e+06</td>\n",
       "      <td>7.263971e+06</td>\n",
       "      <td>4.761884e+06</td>\n",
       "      <td>3.985023e+06</td>\n",
       "      <td>5.015118e+06</td>\n",
       "      <td>2.514890e+06</td>\n",
       "      <td>1.736023e+06</td>\n",
       "      <td>16.354923</td>\n",
       "    </tr>\n",
       "    <tr>\n",
       "      <th>min</th>\n",
       "      <td>4.007000e+03</td>\n",
       "      <td>1690.000000</td>\n",
       "      <td>865.000000</td>\n",
       "      <td>-1475.000000</td>\n",
       "      <td>10.0</td>\n",
       "      <td>10.0</td>\n",
       "      <td>10.0</td>\n",
       "      <td>1.975823e+07</td>\n",
       "      <td>-8.139590e+07</td>\n",
       "      <td>-5.584870e+07</td>\n",
       "      <td>-4.678326e+07</td>\n",
       "      <td>-5.391444e+07</td>\n",
       "      <td>-2.836785e+07</td>\n",
       "      <td>-1.927430e+07</td>\n",
       "      <td>468.874508</td>\n",
       "    </tr>\n",
       "    <tr>\n",
       "      <th>25%</th>\n",
       "      <td>4.682198e+05</td>\n",
       "      <td>1890.000000</td>\n",
       "      <td>1105.000000</td>\n",
       "      <td>-1245.000000</td>\n",
       "      <td>10.0</td>\n",
       "      <td>10.0</td>\n",
       "      <td>10.0</td>\n",
       "      <td>2.174369e+07</td>\n",
       "      <td>-7.505046e+07</td>\n",
       "      <td>-5.155330e+07</td>\n",
       "      <td>-4.330430e+07</td>\n",
       "      <td>-4.941024e+07</td>\n",
       "      <td>-2.591726e+07</td>\n",
       "      <td>-1.765329e+07</td>\n",
       "      <td>490.340770</td>\n",
       "    </tr>\n",
       "    <tr>\n",
       "      <th>50%</th>\n",
       "      <td>9.354230e+05</td>\n",
       "      <td>2095.000000</td>\n",
       "      <td>1355.000000</td>\n",
       "      <td>-1010.000000</td>\n",
       "      <td>10.0</td>\n",
       "      <td>10.0</td>\n",
       "      <td>10.0</td>\n",
       "      <td>2.371316e+07</td>\n",
       "      <td>-6.875493e+07</td>\n",
       "      <td>-4.742659e+07</td>\n",
       "      <td>-3.982906e+07</td>\n",
       "      <td>-4.504059e+07</td>\n",
       "      <td>-2.371269e+07</td>\n",
       "      <td>-1.612532e+07</td>\n",
       "      <td>504.463149</td>\n",
       "    </tr>\n",
       "    <tr>\n",
       "      <th>75%</th>\n",
       "      <td>1.402626e+06</td>\n",
       "      <td>2300.000000</td>\n",
       "      <td>1605.000000</td>\n",
       "      <td>-775.000000</td>\n",
       "      <td>10.0</td>\n",
       "      <td>10.0</td>\n",
       "      <td>10.0</td>\n",
       "      <td>2.564263e+07</td>\n",
       "      <td>-6.246671e+07</td>\n",
       "      <td>-4.331380e+07</td>\n",
       "      <td>-3.641092e+07</td>\n",
       "      <td>-4.072458e+07</td>\n",
       "      <td>-2.157236e+07</td>\n",
       "      <td>-1.465350e+07</td>\n",
       "      <td>518.237197</td>\n",
       "    </tr>\n",
       "    <tr>\n",
       "      <th>max</th>\n",
       "      <td>1.866839e+06</td>\n",
       "      <td>2500.000000</td>\n",
       "      <td>1845.000000</td>\n",
       "      <td>-545.000000</td>\n",
       "      <td>10.0</td>\n",
       "      <td>10.0</td>\n",
       "      <td>10.0</td>\n",
       "      <td>2.751620e+07</td>\n",
       "      <td>-5.580417e+07</td>\n",
       "      <td>-3.896471e+07</td>\n",
       "      <td>-3.266103e+07</td>\n",
       "      <td>-3.603627e+07</td>\n",
       "      <td>-1.919784e+07</td>\n",
       "      <td>-1.287884e+07</td>\n",
       "      <td>534.694979</td>\n",
       "    </tr>\n",
       "  </tbody>\n",
       "</table>\n",
       "</div>"
      ],
      "text/plain": [
       "                 Id              X              Y              Z        dX  \\\n",
       "count  7.630920e+05  763092.000000  763092.000000  763092.000000  763092.0   \n",
       "mean   9.354230e+05    2095.000000    1355.000000   -1010.000000      10.0   \n",
       "std    5.394650e+05     236.696163     285.773991     271.339449       0.0   \n",
       "min    4.007000e+03    1690.000000     865.000000   -1475.000000      10.0   \n",
       "25%    4.682198e+05    1890.000000    1105.000000   -1245.000000      10.0   \n",
       "50%    9.354230e+05    2095.000000    1355.000000   -1010.000000      10.0   \n",
       "75%    1.402626e+06    2300.000000    1605.000000    -775.000000      10.0   \n",
       "max    1.866839e+06    2500.000000    1845.000000    -545.000000      10.0   \n",
       "\n",
       "             dY        dZ      pressure     disp_k_bc     disp_j_bc  \\\n",
       "count  763092.0  763092.0  7.630920e+05  7.630920e+05  7.630920e+05   \n",
       "mean       10.0      10.0  2.368692e+07 -6.875721e+07 -4.743661e+07   \n",
       "std         0.0       0.0  2.250617e+06  7.263971e+06  4.761884e+06   \n",
       "min        10.0      10.0  1.975823e+07 -8.139590e+07 -5.584870e+07   \n",
       "25%        10.0      10.0  2.174369e+07 -7.505046e+07 -5.155330e+07   \n",
       "50%        10.0      10.0  2.371316e+07 -6.875493e+07 -4.742659e+07   \n",
       "75%        10.0      10.0  2.564263e+07 -6.246671e+07 -4.331380e+07   \n",
       "max        10.0      10.0  2.751620e+07 -5.580417e+07 -3.896471e+07   \n",
       "\n",
       "          disp_i_bc      vertical         h_max         h_min    temperature  \n",
       "count  7.630920e+05  7.630920e+05  7.630920e+05  7.630920e+05  763092.000000  \n",
       "mean  -3.984582e+07 -4.507030e+07 -2.374970e+07 -1.615890e+07     504.209736  \n",
       "std    3.985023e+06  5.015118e+06  2.514890e+06  1.736023e+06      16.354923  \n",
       "min   -4.678326e+07 -5.391444e+07 -2.836785e+07 -1.927430e+07     468.874508  \n",
       "25%   -4.330430e+07 -4.941024e+07 -2.591726e+07 -1.765329e+07     490.340770  \n",
       "50%   -3.982906e+07 -4.504059e+07 -2.371269e+07 -1.612532e+07     504.463149  \n",
       "75%   -3.641092e+07 -4.072458e+07 -2.157236e+07 -1.465350e+07     518.237197  \n",
       "max   -3.266103e+07 -3.603627e+07 -1.919784e+07 -1.287884e+07     534.694979  "
      ]
     },
     "execution_count": 11,
     "metadata": {},
     "output_type": "execute_result"
    }
   ],
   "source": [
    "data2.describe()"
   ]
  },
  {
   "cell_type": "code",
   "execution_count": 144,
   "metadata": {},
   "outputs": [],
   "source": []
  },
  {
   "cell_type": "markdown",
   "metadata": {},
   "source": [
    "now verify trim was correct"
   ]
  },
  {
   "cell_type": "code",
   "execution_count": 12,
   "metadata": {},
   "outputs": [
    {
     "data": {
      "text/plain": [
       "(1690, 2500, 2095.0)"
      ]
     },
     "execution_count": 12,
     "metadata": {},
     "output_type": "execute_result"
    }
   ],
   "source": [
    "min (data2.X), max (data2.X), data2['X'].median()"
   ]
  },
  {
   "cell_type": "code",
   "execution_count": 13,
   "metadata": {},
   "outputs": [
    {
     "data": {
      "text/plain": [
       "(865, 1845, -1010.0)"
      ]
     },
     "execution_count": 13,
     "metadata": {},
     "output_type": "execute_result"
    }
   ],
   "source": [
    "min (data2.Y), max (data2.Y), data2['Z'].median()"
   ]
  },
  {
   "cell_type": "code",
   "execution_count": 14,
   "metadata": {},
   "outputs": [
    {
     "data": {
      "text/plain": [
       "(-1475, -545, -1010.0)"
      ]
     },
     "execution_count": 14,
     "metadata": {},
     "output_type": "execute_result"
    }
   ],
   "source": [
    "min (data2.Z), max (data2.Z), data2['Z'].median()"
   ]
  },
  {
   "cell_type": "code",
   "execution_count": 15,
   "metadata": {},
   "outputs": [],
   "source": [
    "a = data2.sort_values([\"Z\",\"Y\",\"X\"], ascending = [True, True, True])"
   ]
  },
  {
   "cell_type": "code",
   "execution_count": null,
   "metadata": {},
   "outputs": [],
   "source": []
  },
  {
   "cell_type": "code",
   "execution_count": null,
   "metadata": {},
   "outputs": [],
   "source": []
  },
  {
   "cell_type": "markdown",
   "metadata": {},
   "source": [
    "now can write the data to a CSV file."
   ]
  },
  {
   "cell_type": "code",
   "execution_count": 16,
   "metadata": {},
   "outputs": [],
   "source": [
    "a.to_csv(\"2019_08_29_3_1a2_node.csv\", encoding='utf-8', index=False)"
   ]
  },
  {
   "cell_type": "code",
   "execution_count": 17,
   "metadata": {},
   "outputs": [],
   "source": [
    "data2.describe().to_csv(\"2019_08_29_3_1a2_node_summary.csv\")"
   ]
  }
 ],
 "metadata": {
  "kernelspec": {
   "display_name": "Python 3",
   "language": "python",
   "name": "python3"
  },
  "language_info": {
   "codemirror_mode": {
    "name": "ipython",
    "version": 3
   },
   "file_extension": ".py",
   "mimetype": "text/x-python",
   "name": "python",
   "nbconvert_exporter": "python",
   "pygments_lexer": "ipython3",
   "version": "3.7.3"
  }
 },
 "nbformat": 4,
 "nbformat_minor": 2
}
