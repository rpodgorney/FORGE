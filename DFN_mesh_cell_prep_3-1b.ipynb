{
 "cells": [
  {
   "cell_type": "code",
   "execution_count": 45,
   "metadata": {},
   "outputs": [],
   "source": [
    "import pandas as pd"
   ]
  },
  {
   "cell_type": "code",
   "execution_count": 46,
   "metadata": {},
   "outputs": [],
   "source": [
    "data=pd.read_csv('processed_local_large_well_3_1b_dfn.csv', float_precision='round_trip')"
   ]
  },
  {
   "cell_type": "code",
   "execution_count": 47,
   "metadata": {},
   "outputs": [
    {
     "data": {
      "text/html": [
       "<div>\n",
       "<style scoped>\n",
       "    .dataframe tbody tr th:only-of-type {\n",
       "        vertical-align: middle;\n",
       "    }\n",
       "\n",
       "    .dataframe tbody tr th {\n",
       "        vertical-align: top;\n",
       "    }\n",
       "\n",
       "    .dataframe thead th {\n",
       "        text-align: right;\n",
       "    }\n",
       "</style>\n",
       "<table border=\"1\" class=\"dataframe\">\n",
       "  <thead>\n",
       "    <tr style=\"text-align: right;\">\n",
       "      <th></th>\n",
       "      <th>Id</th>\n",
       "      <th>X</th>\n",
       "      <th>Y</th>\n",
       "      <th>Z</th>\n",
       "      <th>dX</th>\n",
       "      <th>dY</th>\n",
       "      <th>dZ</th>\n",
       "      <th>Porosity</th>\n",
       "      <th>kii</th>\n",
       "      <th>kjj</th>\n",
       "      <th>kkk</th>\n",
       "      <th>block</th>\n",
       "    </tr>\n",
       "  </thead>\n",
       "  <tbody>\n",
       "    <tr>\n",
       "      <th>count</th>\n",
       "      <td>3.920000e+06</td>\n",
       "      <td>3.920000e+06</td>\n",
       "      <td>3.920000e+06</td>\n",
       "      <td>3.920000e+06</td>\n",
       "      <td>3920000.0</td>\n",
       "      <td>3920000.0</td>\n",
       "      <td>3920000.0</td>\n",
       "      <td>3.920000e+06</td>\n",
       "      <td>3.920000e+06</td>\n",
       "      <td>3.920000e+06</td>\n",
       "      <td>3.920000e+06</td>\n",
       "      <td>3.920000e+06</td>\n",
       "    </tr>\n",
       "    <tr>\n",
       "      <th>mean</th>\n",
       "      <td>1.960000e+06</td>\n",
       "      <td>7.137100e+02</td>\n",
       "      <td>1.063970e+03</td>\n",
       "      <td>-4.750000e+02</td>\n",
       "      <td>10.0</td>\n",
       "      <td>10.0</td>\n",
       "      <td>10.0</td>\n",
       "      <td>2.577398e-02</td>\n",
       "      <td>3.122488e-15</td>\n",
       "      <td>3.122118e-15</td>\n",
       "      <td>3.126365e-15</td>\n",
       "      <td>1.818545e+00</td>\n",
       "    </tr>\n",
       "    <tr>\n",
       "      <th>std</th>\n",
       "      <td>1.131607e+06</td>\n",
       "      <td>4.041349e+02</td>\n",
       "      <td>4.041349e+02</td>\n",
       "      <td>5.773431e+02</td>\n",
       "      <td>0.0</td>\n",
       "      <td>0.0</td>\n",
       "      <td>0.0</td>\n",
       "      <td>4.437936e-02</td>\n",
       "      <td>6.534291e-15</td>\n",
       "      <td>6.534505e-15</td>\n",
       "      <td>6.532680e-15</td>\n",
       "      <td>3.853948e-01</td>\n",
       "    </tr>\n",
       "    <tr>\n",
       "      <th>min</th>\n",
       "      <td>0.000000e+00</td>\n",
       "      <td>1.871000e+01</td>\n",
       "      <td>3.689700e+02</td>\n",
       "      <td>-1.470000e+03</td>\n",
       "      <td>10.0</td>\n",
       "      <td>10.0</td>\n",
       "      <td>10.0</td>\n",
       "      <td>2.902800e-04</td>\n",
       "      <td>1.050371e-18</td>\n",
       "      <td>9.349565e-19</td>\n",
       "      <td>1.428325e-18</td>\n",
       "      <td>1.000000e+00</td>\n",
       "    </tr>\n",
       "    <tr>\n",
       "      <th>25%</th>\n",
       "      <td>9.799998e+05</td>\n",
       "      <td>3.662100e+02</td>\n",
       "      <td>7.164700e+02</td>\n",
       "      <td>-9.725000e+02</td>\n",
       "      <td>10.0</td>\n",
       "      <td>10.0</td>\n",
       "      <td>10.0</td>\n",
       "      <td>4.189503e-03</td>\n",
       "      <td>3.296985e-17</td>\n",
       "      <td>3.222510e-17</td>\n",
       "      <td>3.611656e-17</td>\n",
       "      <td>2.000000e+00</td>\n",
       "    </tr>\n",
       "    <tr>\n",
       "      <th>50%</th>\n",
       "      <td>1.960000e+06</td>\n",
       "      <td>7.137100e+02</td>\n",
       "      <td>1.063970e+03</td>\n",
       "      <td>-4.750000e+02</td>\n",
       "      <td>10.0</td>\n",
       "      <td>10.0</td>\n",
       "      <td>10.0</td>\n",
       "      <td>5.182442e-03</td>\n",
       "      <td>4.602574e-17</td>\n",
       "      <td>4.555071e-17</td>\n",
       "      <td>5.025345e-17</td>\n",
       "      <td>2.000000e+00</td>\n",
       "    </tr>\n",
       "    <tr>\n",
       "      <th>75%</th>\n",
       "      <td>2.939999e+06</td>\n",
       "      <td>1.061210e+03</td>\n",
       "      <td>1.411470e+03</td>\n",
       "      <td>2.250000e+01</td>\n",
       "      <td>10.0</td>\n",
       "      <td>10.0</td>\n",
       "      <td>10.0</td>\n",
       "      <td>6.702098e-03</td>\n",
       "      <td>6.885364e-17</td>\n",
       "      <td>6.906129e-17</td>\n",
       "      <td>7.486194e-17</td>\n",
       "      <td>2.000000e+00</td>\n",
       "    </tr>\n",
       "    <tr>\n",
       "      <th>max</th>\n",
       "      <td>3.919999e+06</td>\n",
       "      <td>1.408710e+03</td>\n",
       "      <td>1.758970e+03</td>\n",
       "      <td>5.200000e+02</td>\n",
       "      <td>10.0</td>\n",
       "      <td>10.0</td>\n",
       "      <td>10.0</td>\n",
       "      <td>1.200000e-01</td>\n",
       "      <td>1.700000e-14</td>\n",
       "      <td>1.700000e-14</td>\n",
       "      <td>1.700000e-14</td>\n",
       "      <td>2.000000e+00</td>\n",
       "    </tr>\n",
       "  </tbody>\n",
       "</table>\n",
       "</div>"
      ],
      "text/plain": [
       "                 Id             X             Y             Z         dX  \\\n",
       "count  3.920000e+06  3.920000e+06  3.920000e+06  3.920000e+06  3920000.0   \n",
       "mean   1.960000e+06  7.137100e+02  1.063970e+03 -4.750000e+02       10.0   \n",
       "std    1.131607e+06  4.041349e+02  4.041349e+02  5.773431e+02        0.0   \n",
       "min    0.000000e+00  1.871000e+01  3.689700e+02 -1.470000e+03       10.0   \n",
       "25%    9.799998e+05  3.662100e+02  7.164700e+02 -9.725000e+02       10.0   \n",
       "50%    1.960000e+06  7.137100e+02  1.063970e+03 -4.750000e+02       10.0   \n",
       "75%    2.939999e+06  1.061210e+03  1.411470e+03  2.250000e+01       10.0   \n",
       "max    3.919999e+06  1.408710e+03  1.758970e+03  5.200000e+02       10.0   \n",
       "\n",
       "              dY         dZ      Porosity           kii           kjj  \\\n",
       "count  3920000.0  3920000.0  3.920000e+06  3.920000e+06  3.920000e+06   \n",
       "mean        10.0       10.0  2.577398e-02  3.122488e-15  3.122118e-15   \n",
       "std          0.0        0.0  4.437936e-02  6.534291e-15  6.534505e-15   \n",
       "min         10.0       10.0  2.902800e-04  1.050371e-18  9.349565e-19   \n",
       "25%         10.0       10.0  4.189503e-03  3.296985e-17  3.222510e-17   \n",
       "50%         10.0       10.0  5.182442e-03  4.602574e-17  4.555071e-17   \n",
       "75%         10.0       10.0  6.702098e-03  6.885364e-17  6.906129e-17   \n",
       "max         10.0       10.0  1.200000e-01  1.700000e-14  1.700000e-14   \n",
       "\n",
       "                kkk         block  \n",
       "count  3.920000e+06  3.920000e+06  \n",
       "mean   3.126365e-15  1.818545e+00  \n",
       "std    6.532680e-15  3.853948e-01  \n",
       "min    1.428325e-18  1.000000e+00  \n",
       "25%    3.611656e-17  2.000000e+00  \n",
       "50%    5.025345e-17  2.000000e+00  \n",
       "75%    7.486194e-17  2.000000e+00  \n",
       "max    1.700000e-14  2.000000e+00  "
      ]
     },
     "execution_count": 47,
     "metadata": {},
     "output_type": "execute_result"
    }
   ],
   "source": [
    "data.describe()"
   ]
  },
  {
   "cell_type": "code",
   "execution_count": 48,
   "metadata": {},
   "outputs": [
    {
     "data": {
      "text/plain": [
       "(18.71, 1408.71, 713.71)"
      ]
     },
     "execution_count": 48,
     "metadata": {},
     "output_type": "execute_result"
    }
   ],
   "source": [
    "min (data.X), max (data.X), data['X'].median()"
   ]
  },
  {
   "cell_type": "code",
   "execution_count": 49,
   "metadata": {},
   "outputs": [
    {
     "data": {
      "text/plain": [
       "(368.97, 1758.97, 1063.97)"
      ]
     },
     "execution_count": 49,
     "metadata": {},
     "output_type": "execute_result"
    }
   ],
   "source": [
    "min (data.Y), max (data.Y), data['Y'].median()"
   ]
  },
  {
   "cell_type": "code",
   "execution_count": 50,
   "metadata": {},
   "outputs": [
    {
     "data": {
      "text/plain": [
       "(-1470, 520, -475.0)"
      ]
     },
     "execution_count": 50,
     "metadata": {},
     "output_type": "execute_result"
    }
   ],
   "source": [
    "min (data.Z), max (data.Z), data['Z'].median()"
   ]
  },
  {
   "cell_type": "markdown",
   "metadata": {},
   "source": [
    "now make a copy and translate the mesh"
   ]
  },
  {
   "cell_type": "code",
   "execution_count": 51,
   "metadata": {},
   "outputs": [],
   "source": [
    "large_well_3_1b = data.copy(deep=True)"
   ]
  },
  {
   "cell_type": "markdown",
   "metadata": {},
   "source": [
    "need to manually calculate the translation distance based on injection location and bounds of the new/refine mesh versus the full domain mesh"
   ]
  },
  {
   "cell_type": "code",
   "execution_count": 52,
   "metadata": {},
   "outputs": [],
   "source": [
    "large_well_3_1b.X = large_well_3_1b.X+36.29"
   ]
  },
  {
   "cell_type": "code",
   "execution_count": 53,
   "metadata": {},
   "outputs": [],
   "source": [
    "large_well_3_1b.Y = large_well_3_1b.Y+56.03"
   ]
  },
  {
   "cell_type": "code",
   "execution_count": 144,
   "metadata": {},
   "outputs": [],
   "source": [
    "large_well_3_1b.Z = large_well_3_1b.Z-565"
   ]
  },
  {
   "cell_type": "markdown",
   "metadata": {},
   "source": [
    "now verify translation was correct, and also chck the bounds to make sure still within the full domain"
   ]
  },
  {
   "cell_type": "code",
   "execution_count": 54,
   "metadata": {},
   "outputs": [
    {
     "data": {
      "text/plain": [
       "(55.0, 1445.0, 750.0)"
      ]
     },
     "execution_count": 54,
     "metadata": {},
     "output_type": "execute_result"
    }
   ],
   "source": [
    "min (large_well_3_1b.X), max (large_well_3_1b.X), large_well_3_1b['X'].median()"
   ]
  },
  {
   "cell_type": "code",
   "execution_count": 55,
   "metadata": {},
   "outputs": [
    {
     "data": {
      "text/plain": [
       "(425.0, 1815.0, 1120.0)"
      ]
     },
     "execution_count": 55,
     "metadata": {},
     "output_type": "execute_result"
    }
   ],
   "source": [
    "min (large_well_3_1b.Y), max (large_well_3_1b.Y), large_well_3_1b['Y'].median()"
   ]
  },
  {
   "cell_type": "code",
   "execution_count": 10,
   "metadata": {},
   "outputs": [
    {
     "data": {
      "text/plain": [
       "(-1470, 520, -475.0)"
      ]
     },
     "execution_count": 10,
     "metadata": {},
     "output_type": "execute_result"
    }
   ],
   "source": [
    "min (large_well_3_1b.Z), max (large_well_3_1b.Z), large_well_3_1b['Z'].median()"
   ]
  },
  {
   "cell_type": "markdown",
   "metadata": {},
   "source": [
    "Z are out of bounds, min value in full domainstarts at 0 (for the nodes).  min for 10m cell is -1470"
   ]
  },
  {
   "cell_type": "markdown",
   "metadata": {},
   "source": [
    "fix Z"
   ]
  },
  {
   "cell_type": "code",
   "execution_count": 148,
   "metadata": {},
   "outputs": [],
   "source": [
    "large_well_3_1b.Z = large_well_3_1b.Z+215"
   ]
  },
  {
   "cell_type": "code",
   "execution_count": 149,
   "metadata": {},
   "outputs": [
    {
     "data": {
      "text/plain": [
       "(-1470, 520, -475.0)"
      ]
     },
     "execution_count": 149,
     "metadata": {},
     "output_type": "execute_result"
    }
   ],
   "source": [
    "min (large_well_3_1b.Z), max (large_well_3_1b.Z), large_well_3_1b['Z'].median()"
   ]
  },
  {
   "cell_type": "markdown",
   "metadata": {},
   "source": [
    "because the file is so big, it can't be edited in Excel, so need to add some additional columns to the file now, and then later add the 10 row header that is usually written by Leapfrog"
   ]
  },
  {
   "cell_type": "markdown",
   "metadata": {},
   "source": [
    "need to add column (1) for Id, columns 5, 6, and 7 for dX, dY, and dZ"
   ]
  },
  {
   "cell_type": "markdown",
   "metadata": {},
   "source": [
    "first add the \"Id\""
   ]
  },
  {
   "cell_type": "code",
   "execution_count": 17,
   "metadata": {},
   "outputs": [],
   "source": [
    "large_well_3_1b.insert(loc=0, column='Id', value=large_well_3_1b.index)"
   ]
  },
  {
   "cell_type": "markdown",
   "metadata": {},
   "source": [
    "now add the dX, dY, and dZ"
   ]
  },
  {
   "cell_type": "code",
   "execution_count": 18,
   "metadata": {},
   "outputs": [],
   "source": [
    "large_well_3_1b.insert(loc=4, column='dX', value=10)"
   ]
  },
  {
   "cell_type": "code",
   "execution_count": 19,
   "metadata": {},
   "outputs": [],
   "source": [
    "large_well_3_1b.insert(loc=5, column='dY', value=10)"
   ]
  },
  {
   "cell_type": "code",
   "execution_count": 20,
   "metadata": {},
   "outputs": [],
   "source": [
    "large_well_3_1b.insert(loc=6, column='dZ', value=10)"
   ]
  },
  {
   "cell_type": "markdown",
   "metadata": {},
   "source": [
    "now check the file"
   ]
  },
  {
   "cell_type": "code",
   "execution_count": 21,
   "metadata": {},
   "outputs": [
    {
     "data": {
      "text/html": [
       "<div>\n",
       "<style scoped>\n",
       "    .dataframe tbody tr th:only-of-type {\n",
       "        vertical-align: middle;\n",
       "    }\n",
       "\n",
       "    .dataframe tbody tr th {\n",
       "        vertical-align: top;\n",
       "    }\n",
       "\n",
       "    .dataframe thead th {\n",
       "        text-align: right;\n",
       "    }\n",
       "</style>\n",
       "<table border=\"1\" class=\"dataframe\">\n",
       "  <thead>\n",
       "    <tr style=\"text-align: right;\">\n",
       "      <th></th>\n",
       "      <th>Id</th>\n",
       "      <th>X</th>\n",
       "      <th>Y</th>\n",
       "      <th>Z</th>\n",
       "      <th>dX</th>\n",
       "      <th>dY</th>\n",
       "      <th>dZ</th>\n",
       "      <th>Porosity</th>\n",
       "      <th>Compressibility</th>\n",
       "      <th>kii</th>\n",
       "      <th>kjj</th>\n",
       "      <th>kkk</th>\n",
       "    </tr>\n",
       "  </thead>\n",
       "  <tbody>\n",
       "    <tr>\n",
       "      <th>0</th>\n",
       "      <td>0</td>\n",
       "      <td>18.71</td>\n",
       "      <td>1758.97</td>\n",
       "      <td>520</td>\n",
       "      <td>10</td>\n",
       "      <td>10</td>\n",
       "      <td>10</td>\n",
       "      <td>0.0</td>\n",
       "      <td>0.0</td>\n",
       "      <td>0.0</td>\n",
       "      <td>0.0</td>\n",
       "      <td>0.0</td>\n",
       "    </tr>\n",
       "    <tr>\n",
       "      <th>1</th>\n",
       "      <td>1</td>\n",
       "      <td>18.71</td>\n",
       "      <td>1758.97</td>\n",
       "      <td>510</td>\n",
       "      <td>10</td>\n",
       "      <td>10</td>\n",
       "      <td>10</td>\n",
       "      <td>0.0</td>\n",
       "      <td>0.0</td>\n",
       "      <td>0.0</td>\n",
       "      <td>0.0</td>\n",
       "      <td>0.0</td>\n",
       "    </tr>\n",
       "    <tr>\n",
       "      <th>2</th>\n",
       "      <td>2</td>\n",
       "      <td>18.71</td>\n",
       "      <td>1758.97</td>\n",
       "      <td>500</td>\n",
       "      <td>10</td>\n",
       "      <td>10</td>\n",
       "      <td>10</td>\n",
       "      <td>0.0</td>\n",
       "      <td>0.0</td>\n",
       "      <td>0.0</td>\n",
       "      <td>0.0</td>\n",
       "      <td>0.0</td>\n",
       "    </tr>\n",
       "    <tr>\n",
       "      <th>3</th>\n",
       "      <td>3</td>\n",
       "      <td>18.71</td>\n",
       "      <td>1758.97</td>\n",
       "      <td>490</td>\n",
       "      <td>10</td>\n",
       "      <td>10</td>\n",
       "      <td>10</td>\n",
       "      <td>0.0</td>\n",
       "      <td>0.0</td>\n",
       "      <td>0.0</td>\n",
       "      <td>0.0</td>\n",
       "      <td>0.0</td>\n",
       "    </tr>\n",
       "    <tr>\n",
       "      <th>4</th>\n",
       "      <td>4</td>\n",
       "      <td>18.71</td>\n",
       "      <td>1758.97</td>\n",
       "      <td>480</td>\n",
       "      <td>10</td>\n",
       "      <td>10</td>\n",
       "      <td>10</td>\n",
       "      <td>0.0</td>\n",
       "      <td>0.0</td>\n",
       "      <td>0.0</td>\n",
       "      <td>0.0</td>\n",
       "      <td>0.0</td>\n",
       "    </tr>\n",
       "  </tbody>\n",
       "</table>\n",
       "</div>"
      ],
      "text/plain": [
       "   Id      X        Y    Z  dX  dY  dZ  Porosity  Compressibility  kii  kjj  \\\n",
       "0   0  18.71  1758.97  520  10  10  10       0.0              0.0  0.0  0.0   \n",
       "1   1  18.71  1758.97  510  10  10  10       0.0              0.0  0.0  0.0   \n",
       "2   2  18.71  1758.97  500  10  10  10       0.0              0.0  0.0  0.0   \n",
       "3   3  18.71  1758.97  490  10  10  10       0.0              0.0  0.0  0.0   \n",
       "4   4  18.71  1758.97  480  10  10  10       0.0              0.0  0.0  0.0   \n",
       "\n",
       "   kkk  \n",
       "0  0.0  \n",
       "1  0.0  \n",
       "2  0.0  \n",
       "3  0.0  \n",
       "4  0.0  "
      ]
     },
     "execution_count": 21,
     "metadata": {},
     "output_type": "execute_result"
    }
   ],
   "source": [
    "large_well_3_1b.head()"
   ]
  },
  {
   "cell_type": "markdown",
   "metadata": {},
   "source": [
    "now sort so values are in correct order for em2ex"
   ]
  },
  {
   "cell_type": "code",
   "execution_count": 22,
   "metadata": {},
   "outputs": [],
   "source": [
    "a = large_well_3_1b.sort_values([\"Z\",\"Y\",\"X\"], ascending = [True, True, True])"
   ]
  },
  {
   "cell_type": "code",
   "execution_count": 23,
   "metadata": {},
   "outputs": [
    {
     "data": {
      "text/html": [
       "<div>\n",
       "<style scoped>\n",
       "    .dataframe tbody tr th:only-of-type {\n",
       "        vertical-align: middle;\n",
       "    }\n",
       "\n",
       "    .dataframe tbody tr th {\n",
       "        vertical-align: top;\n",
       "    }\n",
       "\n",
       "    .dataframe thead th {\n",
       "        text-align: right;\n",
       "    }\n",
       "</style>\n",
       "<table border=\"1\" class=\"dataframe\">\n",
       "  <thead>\n",
       "    <tr style=\"text-align: right;\">\n",
       "      <th></th>\n",
       "      <th>Id</th>\n",
       "      <th>X</th>\n",
       "      <th>Y</th>\n",
       "      <th>Z</th>\n",
       "      <th>dX</th>\n",
       "      <th>dY</th>\n",
       "      <th>dZ</th>\n",
       "      <th>Porosity</th>\n",
       "      <th>Compressibility</th>\n",
       "      <th>kii</th>\n",
       "      <th>kjj</th>\n",
       "      <th>kkk</th>\n",
       "    </tr>\n",
       "  </thead>\n",
       "  <tbody>\n",
       "    <tr>\n",
       "      <th>27999</th>\n",
       "      <td>27999</td>\n",
       "      <td>18.71</td>\n",
       "      <td>368.97</td>\n",
       "      <td>-1470</td>\n",
       "      <td>10</td>\n",
       "      <td>10</td>\n",
       "      <td>10</td>\n",
       "      <td>0.001837</td>\n",
       "      <td>1.100548e-08</td>\n",
       "      <td>6.472289e-18</td>\n",
       "      <td>1.049329e-17</td>\n",
       "      <td>1.399280e-17</td>\n",
       "    </tr>\n",
       "    <tr>\n",
       "      <th>55999</th>\n",
       "      <td>55999</td>\n",
       "      <td>28.71</td>\n",
       "      <td>368.97</td>\n",
       "      <td>-1470</td>\n",
       "      <td>10</td>\n",
       "      <td>10</td>\n",
       "      <td>10</td>\n",
       "      <td>0.001397</td>\n",
       "      <td>8.485526e-09</td>\n",
       "      <td>7.881279e-18</td>\n",
       "      <td>1.211391e-17</td>\n",
       "      <td>8.001830e-18</td>\n",
       "    </tr>\n",
       "    <tr>\n",
       "      <th>83999</th>\n",
       "      <td>83999</td>\n",
       "      <td>38.71</td>\n",
       "      <td>368.97</td>\n",
       "      <td>-1470</td>\n",
       "      <td>10</td>\n",
       "      <td>10</td>\n",
       "      <td>10</td>\n",
       "      <td>0.001746</td>\n",
       "      <td>1.087847e-08</td>\n",
       "      <td>1.474609e-17</td>\n",
       "      <td>1.043076e-17</td>\n",
       "      <td>1.335984e-17</td>\n",
       "    </tr>\n",
       "    <tr>\n",
       "      <th>111999</th>\n",
       "      <td>111999</td>\n",
       "      <td>48.71</td>\n",
       "      <td>368.97</td>\n",
       "      <td>-1470</td>\n",
       "      <td>10</td>\n",
       "      <td>10</td>\n",
       "      <td>10</td>\n",
       "      <td>0.002155</td>\n",
       "      <td>1.266467e-08</td>\n",
       "      <td>1.573106e-17</td>\n",
       "      <td>2.113084e-17</td>\n",
       "      <td>2.836260e-17</td>\n",
       "    </tr>\n",
       "    <tr>\n",
       "      <th>139999</th>\n",
       "      <td>139999</td>\n",
       "      <td>58.71</td>\n",
       "      <td>368.97</td>\n",
       "      <td>-1470</td>\n",
       "      <td>10</td>\n",
       "      <td>10</td>\n",
       "      <td>10</td>\n",
       "      <td>0.002349</td>\n",
       "      <td>1.554523e-08</td>\n",
       "      <td>2.098971e-17</td>\n",
       "      <td>3.076099e-17</td>\n",
       "      <td>3.149767e-17</td>\n",
       "    </tr>\n",
       "  </tbody>\n",
       "</table>\n",
       "</div>"
      ],
      "text/plain": [
       "            Id      X       Y     Z  dX  dY  dZ  Porosity  Compressibility  \\\n",
       "27999    27999  18.71  368.97 -1470  10  10  10  0.001837     1.100548e-08   \n",
       "55999    55999  28.71  368.97 -1470  10  10  10  0.001397     8.485526e-09   \n",
       "83999    83999  38.71  368.97 -1470  10  10  10  0.001746     1.087847e-08   \n",
       "111999  111999  48.71  368.97 -1470  10  10  10  0.002155     1.266467e-08   \n",
       "139999  139999  58.71  368.97 -1470  10  10  10  0.002349     1.554523e-08   \n",
       "\n",
       "                 kii           kjj           kkk  \n",
       "27999   6.472289e-18  1.049329e-17  1.399280e-17  \n",
       "55999   7.881279e-18  1.211391e-17  8.001830e-18  \n",
       "83999   1.474609e-17  1.043076e-17  1.335984e-17  \n",
       "111999  1.573106e-17  2.113084e-17  2.836260e-17  \n",
       "139999  2.098971e-17  3.076099e-17  3.149767e-17  "
      ]
     },
     "execution_count": 23,
     "metadata": {},
     "output_type": "execute_result"
    }
   ],
   "source": [
    "a.head()"
   ]
  },
  {
   "cell_type": "markdown",
   "metadata": {},
   "source": [
    "now we have the perm and proposity all set up, but if the mesh has both granite and sediment, we need to all a column for the block number, and re-assign the perm and porosity for the sediments"
   ]
  },
  {
   "cell_type": "markdown",
   "metadata": {},
   "source": [
    "first export the block model from Leapfrog, then run global2local.py to get it into local coords, then read it in here"
   ]
  },
  {
   "cell_type": "code",
   "execution_count": 24,
   "metadata": {},
   "outputs": [],
   "source": [
    "GMdata=pd.read_csv('local_large_3-1b_Block Model_cell.csv', float_precision='round_trip')"
   ]
  },
  {
   "cell_type": "code",
   "execution_count": 25,
   "metadata": {},
   "outputs": [],
   "source": [
    "b = GMdata.sort_values([\"Z\",\"Y\",\"X\"], ascending = [True, True, True])"
   ]
  },
  {
   "cell_type": "code",
   "execution_count": 26,
   "metadata": {},
   "outputs": [
    {
     "data": {
      "text/html": [
       "<div>\n",
       "<style scoped>\n",
       "    .dataframe tbody tr th:only-of-type {\n",
       "        vertical-align: middle;\n",
       "    }\n",
       "\n",
       "    .dataframe tbody tr th {\n",
       "        vertical-align: top;\n",
       "    }\n",
       "\n",
       "    .dataframe thead th {\n",
       "        text-align: right;\n",
       "    }\n",
       "</style>\n",
       "<table border=\"1\" class=\"dataframe\">\n",
       "  <thead>\n",
       "    <tr style=\"text-align: right;\">\n",
       "      <th></th>\n",
       "      <th>Id</th>\n",
       "      <th>X</th>\n",
       "      <th>Y</th>\n",
       "      <th>Z</th>\n",
       "      <th>dX</th>\n",
       "      <th>dY</th>\n",
       "      <th>dZ</th>\n",
       "      <th>GM</th>\n",
       "    </tr>\n",
       "  </thead>\n",
       "  <tbody>\n",
       "    <tr>\n",
       "      <th>0</th>\n",
       "      <td>0</td>\n",
       "      <td>17.91</td>\n",
       "      <td>366.78</td>\n",
       "      <td>-1470</td>\n",
       "      <td>10</td>\n",
       "      <td>10</td>\n",
       "      <td>10</td>\n",
       "      <td>Granitiod</td>\n",
       "    </tr>\n",
       "    <tr>\n",
       "      <th>1</th>\n",
       "      <td>1</td>\n",
       "      <td>27.91</td>\n",
       "      <td>366.78</td>\n",
       "      <td>-1470</td>\n",
       "      <td>10</td>\n",
       "      <td>10</td>\n",
       "      <td>10</td>\n",
       "      <td>Granitiod</td>\n",
       "    </tr>\n",
       "    <tr>\n",
       "      <th>2</th>\n",
       "      <td>2</td>\n",
       "      <td>37.91</td>\n",
       "      <td>366.78</td>\n",
       "      <td>-1470</td>\n",
       "      <td>10</td>\n",
       "      <td>10</td>\n",
       "      <td>10</td>\n",
       "      <td>Granitiod</td>\n",
       "    </tr>\n",
       "    <tr>\n",
       "      <th>3</th>\n",
       "      <td>3</td>\n",
       "      <td>47.91</td>\n",
       "      <td>366.78</td>\n",
       "      <td>-1470</td>\n",
       "      <td>10</td>\n",
       "      <td>10</td>\n",
       "      <td>10</td>\n",
       "      <td>Granitiod</td>\n",
       "    </tr>\n",
       "    <tr>\n",
       "      <th>4</th>\n",
       "      <td>4</td>\n",
       "      <td>57.91</td>\n",
       "      <td>366.78</td>\n",
       "      <td>-1470</td>\n",
       "      <td>10</td>\n",
       "      <td>10</td>\n",
       "      <td>10</td>\n",
       "      <td>Granitiod</td>\n",
       "    </tr>\n",
       "  </tbody>\n",
       "</table>\n",
       "</div>"
      ],
      "text/plain": [
       "   Id      X       Y     Z  dX  dY  dZ         GM\n",
       "0   0  17.91  366.78 -1470  10  10  10  Granitiod\n",
       "1   1  27.91  366.78 -1470  10  10  10  Granitiod\n",
       "2   2  37.91  366.78 -1470  10  10  10  Granitiod\n",
       "3   3  47.91  366.78 -1470  10  10  10  Granitiod\n",
       "4   4  57.91  366.78 -1470  10  10  10  Granitiod"
      ]
     },
     "execution_count": 26,
     "metadata": {},
     "output_type": "execute_result"
    }
   ],
   "source": [
    "b.head()"
   ]
  },
  {
   "cell_type": "markdown",
   "metadata": {},
   "source": [
    "sediments = block 1, grnit = block 2"
   ]
  },
  {
   "cell_type": "code",
   "execution_count": 27,
   "metadata": {},
   "outputs": [],
   "source": [
    "b['block'] = 0"
   ]
  },
  {
   "cell_type": "code",
   "execution_count": 28,
   "metadata": {},
   "outputs": [],
   "source": [
    "b.loc[b.GM == 'Granitiod', 'block'] = 2"
   ]
  },
  {
   "cell_type": "code",
   "execution_count": 29,
   "metadata": {},
   "outputs": [
    {
     "data": {
      "text/plain": [
       "array(['Granitiod', 'Valley Fill'], dtype=object)"
      ]
     },
     "execution_count": 29,
     "metadata": {},
     "output_type": "execute_result"
    }
   ],
   "source": [
    "b.GM.unique()"
   ]
  },
  {
   "cell_type": "code",
   "execution_count": 30,
   "metadata": {},
   "outputs": [],
   "source": [
    "b.loc[b.GM == 'Valley Fill', 'block'] = 1"
   ]
  },
  {
   "cell_type": "code",
   "execution_count": 31,
   "metadata": {},
   "outputs": [
    {
     "data": {
      "text/plain": [
       "array([2, 1])"
      ]
     },
     "execution_count": 31,
     "metadata": {},
     "output_type": "execute_result"
    }
   ],
   "source": [
    "b.block.unique()"
   ]
  },
  {
   "cell_type": "code",
   "execution_count": 32,
   "metadata": {},
   "outputs": [
    {
     "data": {
      "text/html": [
       "<div>\n",
       "<style scoped>\n",
       "    .dataframe tbody tr th:only-of-type {\n",
       "        vertical-align: middle;\n",
       "    }\n",
       "\n",
       "    .dataframe tbody tr th {\n",
       "        vertical-align: top;\n",
       "    }\n",
       "\n",
       "    .dataframe thead th {\n",
       "        text-align: right;\n",
       "    }\n",
       "</style>\n",
       "<table border=\"1\" class=\"dataframe\">\n",
       "  <thead>\n",
       "    <tr style=\"text-align: right;\">\n",
       "      <th></th>\n",
       "      <th>Id</th>\n",
       "      <th>X</th>\n",
       "      <th>Y</th>\n",
       "      <th>Z</th>\n",
       "      <th>dX</th>\n",
       "      <th>dY</th>\n",
       "      <th>dZ</th>\n",
       "      <th>GM</th>\n",
       "      <th>block</th>\n",
       "    </tr>\n",
       "  </thead>\n",
       "  <tbody>\n",
       "    <tr>\n",
       "      <th>0</th>\n",
       "      <td>0</td>\n",
       "      <td>17.91</td>\n",
       "      <td>366.78</td>\n",
       "      <td>-1470</td>\n",
       "      <td>10</td>\n",
       "      <td>10</td>\n",
       "      <td>10</td>\n",
       "      <td>Granitiod</td>\n",
       "      <td>2</td>\n",
       "    </tr>\n",
       "    <tr>\n",
       "      <th>1</th>\n",
       "      <td>1</td>\n",
       "      <td>27.91</td>\n",
       "      <td>366.78</td>\n",
       "      <td>-1470</td>\n",
       "      <td>10</td>\n",
       "      <td>10</td>\n",
       "      <td>10</td>\n",
       "      <td>Granitiod</td>\n",
       "      <td>2</td>\n",
       "    </tr>\n",
       "    <tr>\n",
       "      <th>2</th>\n",
       "      <td>2</td>\n",
       "      <td>37.91</td>\n",
       "      <td>366.78</td>\n",
       "      <td>-1470</td>\n",
       "      <td>10</td>\n",
       "      <td>10</td>\n",
       "      <td>10</td>\n",
       "      <td>Granitiod</td>\n",
       "      <td>2</td>\n",
       "    </tr>\n",
       "    <tr>\n",
       "      <th>3</th>\n",
       "      <td>3</td>\n",
       "      <td>47.91</td>\n",
       "      <td>366.78</td>\n",
       "      <td>-1470</td>\n",
       "      <td>10</td>\n",
       "      <td>10</td>\n",
       "      <td>10</td>\n",
       "      <td>Granitiod</td>\n",
       "      <td>2</td>\n",
       "    </tr>\n",
       "    <tr>\n",
       "      <th>4</th>\n",
       "      <td>4</td>\n",
       "      <td>57.91</td>\n",
       "      <td>366.78</td>\n",
       "      <td>-1470</td>\n",
       "      <td>10</td>\n",
       "      <td>10</td>\n",
       "      <td>10</td>\n",
       "      <td>Granitiod</td>\n",
       "      <td>2</td>\n",
       "    </tr>\n",
       "  </tbody>\n",
       "</table>\n",
       "</div>"
      ],
      "text/plain": [
       "   Id      X       Y     Z  dX  dY  dZ         GM  block\n",
       "0   0  17.91  366.78 -1470  10  10  10  Granitiod      2\n",
       "1   1  27.91  366.78 -1470  10  10  10  Granitiod      2\n",
       "2   2  37.91  366.78 -1470  10  10  10  Granitiod      2\n",
       "3   3  47.91  366.78 -1470  10  10  10  Granitiod      2\n",
       "4   4  57.91  366.78 -1470  10  10  10  Granitiod      2"
      ]
     },
     "execution_count": 32,
     "metadata": {},
     "output_type": "execute_result"
    }
   ],
   "source": [
    "b.head()"
   ]
  },
  {
   "cell_type": "code",
   "execution_count": 33,
   "metadata": {},
   "outputs": [],
   "source": [
    "b.index = a.index"
   ]
  },
  {
   "cell_type": "code",
   "execution_count": 34,
   "metadata": {},
   "outputs": [],
   "source": [
    "a['block'] = 0"
   ]
  },
  {
   "cell_type": "code",
   "execution_count": 35,
   "metadata": {},
   "outputs": [],
   "source": [
    "a['block'] = b['block'].values"
   ]
  },
  {
   "cell_type": "code",
   "execution_count": 36,
   "metadata": {},
   "outputs": [
    {
     "data": {
      "text/html": [
       "<div>\n",
       "<style scoped>\n",
       "    .dataframe tbody tr th:only-of-type {\n",
       "        vertical-align: middle;\n",
       "    }\n",
       "\n",
       "    .dataframe tbody tr th {\n",
       "        vertical-align: top;\n",
       "    }\n",
       "\n",
       "    .dataframe thead th {\n",
       "        text-align: right;\n",
       "    }\n",
       "</style>\n",
       "<table border=\"1\" class=\"dataframe\">\n",
       "  <thead>\n",
       "    <tr style=\"text-align: right;\">\n",
       "      <th></th>\n",
       "      <th>Id</th>\n",
       "      <th>X</th>\n",
       "      <th>Y</th>\n",
       "      <th>Z</th>\n",
       "      <th>dX</th>\n",
       "      <th>dY</th>\n",
       "      <th>dZ</th>\n",
       "      <th>Porosity</th>\n",
       "      <th>Compressibility</th>\n",
       "      <th>kii</th>\n",
       "      <th>kjj</th>\n",
       "      <th>kkk</th>\n",
       "      <th>block</th>\n",
       "    </tr>\n",
       "  </thead>\n",
       "  <tbody>\n",
       "    <tr>\n",
       "      <th>27999</th>\n",
       "      <td>27999</td>\n",
       "      <td>18.71</td>\n",
       "      <td>368.97</td>\n",
       "      <td>-1470</td>\n",
       "      <td>10</td>\n",
       "      <td>10</td>\n",
       "      <td>10</td>\n",
       "      <td>0.001837</td>\n",
       "      <td>1.100548e-08</td>\n",
       "      <td>6.472289e-18</td>\n",
       "      <td>1.049329e-17</td>\n",
       "      <td>1.399280e-17</td>\n",
       "      <td>2</td>\n",
       "    </tr>\n",
       "    <tr>\n",
       "      <th>55999</th>\n",
       "      <td>55999</td>\n",
       "      <td>28.71</td>\n",
       "      <td>368.97</td>\n",
       "      <td>-1470</td>\n",
       "      <td>10</td>\n",
       "      <td>10</td>\n",
       "      <td>10</td>\n",
       "      <td>0.001397</td>\n",
       "      <td>8.485526e-09</td>\n",
       "      <td>7.881279e-18</td>\n",
       "      <td>1.211391e-17</td>\n",
       "      <td>8.001830e-18</td>\n",
       "      <td>2</td>\n",
       "    </tr>\n",
       "    <tr>\n",
       "      <th>83999</th>\n",
       "      <td>83999</td>\n",
       "      <td>38.71</td>\n",
       "      <td>368.97</td>\n",
       "      <td>-1470</td>\n",
       "      <td>10</td>\n",
       "      <td>10</td>\n",
       "      <td>10</td>\n",
       "      <td>0.001746</td>\n",
       "      <td>1.087847e-08</td>\n",
       "      <td>1.474609e-17</td>\n",
       "      <td>1.043076e-17</td>\n",
       "      <td>1.335984e-17</td>\n",
       "      <td>2</td>\n",
       "    </tr>\n",
       "    <tr>\n",
       "      <th>111999</th>\n",
       "      <td>111999</td>\n",
       "      <td>48.71</td>\n",
       "      <td>368.97</td>\n",
       "      <td>-1470</td>\n",
       "      <td>10</td>\n",
       "      <td>10</td>\n",
       "      <td>10</td>\n",
       "      <td>0.002155</td>\n",
       "      <td>1.266467e-08</td>\n",
       "      <td>1.573106e-17</td>\n",
       "      <td>2.113084e-17</td>\n",
       "      <td>2.836260e-17</td>\n",
       "      <td>2</td>\n",
       "    </tr>\n",
       "    <tr>\n",
       "      <th>139999</th>\n",
       "      <td>139999</td>\n",
       "      <td>58.71</td>\n",
       "      <td>368.97</td>\n",
       "      <td>-1470</td>\n",
       "      <td>10</td>\n",
       "      <td>10</td>\n",
       "      <td>10</td>\n",
       "      <td>0.002349</td>\n",
       "      <td>1.554523e-08</td>\n",
       "      <td>2.098971e-17</td>\n",
       "      <td>3.076099e-17</td>\n",
       "      <td>3.149767e-17</td>\n",
       "      <td>2</td>\n",
       "    </tr>\n",
       "  </tbody>\n",
       "</table>\n",
       "</div>"
      ],
      "text/plain": [
       "            Id      X       Y     Z  dX  dY  dZ  Porosity  Compressibility  \\\n",
       "27999    27999  18.71  368.97 -1470  10  10  10  0.001837     1.100548e-08   \n",
       "55999    55999  28.71  368.97 -1470  10  10  10  0.001397     8.485526e-09   \n",
       "83999    83999  38.71  368.97 -1470  10  10  10  0.001746     1.087847e-08   \n",
       "111999  111999  48.71  368.97 -1470  10  10  10  0.002155     1.266467e-08   \n",
       "139999  139999  58.71  368.97 -1470  10  10  10  0.002349     1.554523e-08   \n",
       "\n",
       "                 kii           kjj           kkk  block  \n",
       "27999   6.472289e-18  1.049329e-17  1.399280e-17      2  \n",
       "55999   7.881279e-18  1.211391e-17  8.001830e-18      2  \n",
       "83999   1.474609e-17  1.043076e-17  1.335984e-17      2  \n",
       "111999  1.573106e-17  2.113084e-17  2.836260e-17      2  \n",
       "139999  2.098971e-17  3.076099e-17  3.149767e-17      2  "
      ]
     },
     "execution_count": 36,
     "metadata": {},
     "output_type": "execute_result"
    }
   ],
   "source": [
    "a.head()"
   ]
  },
  {
   "cell_type": "code",
   "execution_count": 37,
   "metadata": {},
   "outputs": [],
   "source": [
    "a.loc[a.block == 1, 'kii'] = 1.7e-14"
   ]
  },
  {
   "cell_type": "code",
   "execution_count": 38,
   "metadata": {},
   "outputs": [],
   "source": [
    "a.loc[a.block == 1, 'kjj'] = 1.7e-14"
   ]
  },
  {
   "cell_type": "code",
   "execution_count": 39,
   "metadata": {},
   "outputs": [],
   "source": [
    "a.loc[a.block == 1, 'kkk'] = 1.7e-14"
   ]
  },
  {
   "cell_type": "code",
   "execution_count": 40,
   "metadata": {},
   "outputs": [],
   "source": [
    "a.loc[a.block == 1, 'Porosity'] = 0.12"
   ]
  },
  {
   "cell_type": "code",
   "execution_count": 41,
   "metadata": {},
   "outputs": [],
   "source": [
    "del a['Compressibility']"
   ]
  },
  {
   "cell_type": "code",
   "execution_count": 42,
   "metadata": {},
   "outputs": [
    {
     "data": {
      "text/html": [
       "<div>\n",
       "<style scoped>\n",
       "    .dataframe tbody tr th:only-of-type {\n",
       "        vertical-align: middle;\n",
       "    }\n",
       "\n",
       "    .dataframe tbody tr th {\n",
       "        vertical-align: top;\n",
       "    }\n",
       "\n",
       "    .dataframe thead th {\n",
       "        text-align: right;\n",
       "    }\n",
       "</style>\n",
       "<table border=\"1\" class=\"dataframe\">\n",
       "  <thead>\n",
       "    <tr style=\"text-align: right;\">\n",
       "      <th></th>\n",
       "      <th>Id</th>\n",
       "      <th>X</th>\n",
       "      <th>Y</th>\n",
       "      <th>Z</th>\n",
       "      <th>dX</th>\n",
       "      <th>dY</th>\n",
       "      <th>dZ</th>\n",
       "      <th>Porosity</th>\n",
       "      <th>kii</th>\n",
       "      <th>kjj</th>\n",
       "      <th>kkk</th>\n",
       "      <th>block</th>\n",
       "    </tr>\n",
       "  </thead>\n",
       "  <tbody>\n",
       "    <tr>\n",
       "      <th>count</th>\n",
       "      <td>3.920000e+06</td>\n",
       "      <td>3.920000e+06</td>\n",
       "      <td>3.920000e+06</td>\n",
       "      <td>3.920000e+06</td>\n",
       "      <td>3920000.0</td>\n",
       "      <td>3920000.0</td>\n",
       "      <td>3920000.0</td>\n",
       "      <td>3.920000e+06</td>\n",
       "      <td>3.920000e+06</td>\n",
       "      <td>3.920000e+06</td>\n",
       "      <td>3.920000e+06</td>\n",
       "      <td>3.920000e+06</td>\n",
       "    </tr>\n",
       "    <tr>\n",
       "      <th>mean</th>\n",
       "      <td>1.960000e+06</td>\n",
       "      <td>7.137100e+02</td>\n",
       "      <td>1.063970e+03</td>\n",
       "      <td>-4.750000e+02</td>\n",
       "      <td>10.0</td>\n",
       "      <td>10.0</td>\n",
       "      <td>10.0</td>\n",
       "      <td>2.577398e-02</td>\n",
       "      <td>3.122488e-15</td>\n",
       "      <td>3.122118e-15</td>\n",
       "      <td>3.126365e-15</td>\n",
       "      <td>1.818545e+00</td>\n",
       "    </tr>\n",
       "    <tr>\n",
       "      <th>std</th>\n",
       "      <td>1.131607e+06</td>\n",
       "      <td>4.041349e+02</td>\n",
       "      <td>4.041349e+02</td>\n",
       "      <td>5.773431e+02</td>\n",
       "      <td>0.0</td>\n",
       "      <td>0.0</td>\n",
       "      <td>0.0</td>\n",
       "      <td>4.437936e-02</td>\n",
       "      <td>6.534291e-15</td>\n",
       "      <td>6.534505e-15</td>\n",
       "      <td>6.532680e-15</td>\n",
       "      <td>3.853948e-01</td>\n",
       "    </tr>\n",
       "    <tr>\n",
       "      <th>min</th>\n",
       "      <td>0.000000e+00</td>\n",
       "      <td>1.871000e+01</td>\n",
       "      <td>3.689700e+02</td>\n",
       "      <td>-1.470000e+03</td>\n",
       "      <td>10.0</td>\n",
       "      <td>10.0</td>\n",
       "      <td>10.0</td>\n",
       "      <td>2.902800e-04</td>\n",
       "      <td>1.050371e-18</td>\n",
       "      <td>9.349565e-19</td>\n",
       "      <td>1.428325e-18</td>\n",
       "      <td>1.000000e+00</td>\n",
       "    </tr>\n",
       "    <tr>\n",
       "      <th>25%</th>\n",
       "      <td>9.799998e+05</td>\n",
       "      <td>3.662100e+02</td>\n",
       "      <td>7.164700e+02</td>\n",
       "      <td>-9.725000e+02</td>\n",
       "      <td>10.0</td>\n",
       "      <td>10.0</td>\n",
       "      <td>10.0</td>\n",
       "      <td>4.189503e-03</td>\n",
       "      <td>3.296985e-17</td>\n",
       "      <td>3.222510e-17</td>\n",
       "      <td>3.611656e-17</td>\n",
       "      <td>2.000000e+00</td>\n",
       "    </tr>\n",
       "    <tr>\n",
       "      <th>50%</th>\n",
       "      <td>1.960000e+06</td>\n",
       "      <td>7.137100e+02</td>\n",
       "      <td>1.063970e+03</td>\n",
       "      <td>-4.750000e+02</td>\n",
       "      <td>10.0</td>\n",
       "      <td>10.0</td>\n",
       "      <td>10.0</td>\n",
       "      <td>5.182442e-03</td>\n",
       "      <td>4.602574e-17</td>\n",
       "      <td>4.555071e-17</td>\n",
       "      <td>5.025345e-17</td>\n",
       "      <td>2.000000e+00</td>\n",
       "    </tr>\n",
       "    <tr>\n",
       "      <th>75%</th>\n",
       "      <td>2.939999e+06</td>\n",
       "      <td>1.061210e+03</td>\n",
       "      <td>1.411470e+03</td>\n",
       "      <td>2.250000e+01</td>\n",
       "      <td>10.0</td>\n",
       "      <td>10.0</td>\n",
       "      <td>10.0</td>\n",
       "      <td>6.702098e-03</td>\n",
       "      <td>6.885364e-17</td>\n",
       "      <td>6.906129e-17</td>\n",
       "      <td>7.486194e-17</td>\n",
       "      <td>2.000000e+00</td>\n",
       "    </tr>\n",
       "    <tr>\n",
       "      <th>max</th>\n",
       "      <td>3.919999e+06</td>\n",
       "      <td>1.408710e+03</td>\n",
       "      <td>1.758970e+03</td>\n",
       "      <td>5.200000e+02</td>\n",
       "      <td>10.0</td>\n",
       "      <td>10.0</td>\n",
       "      <td>10.0</td>\n",
       "      <td>1.200000e-01</td>\n",
       "      <td>1.700000e-14</td>\n",
       "      <td>1.700000e-14</td>\n",
       "      <td>1.700000e-14</td>\n",
       "      <td>2.000000e+00</td>\n",
       "    </tr>\n",
       "  </tbody>\n",
       "</table>\n",
       "</div>"
      ],
      "text/plain": [
       "                 Id             X             Y             Z         dX  \\\n",
       "count  3.920000e+06  3.920000e+06  3.920000e+06  3.920000e+06  3920000.0   \n",
       "mean   1.960000e+06  7.137100e+02  1.063970e+03 -4.750000e+02       10.0   \n",
       "std    1.131607e+06  4.041349e+02  4.041349e+02  5.773431e+02        0.0   \n",
       "min    0.000000e+00  1.871000e+01  3.689700e+02 -1.470000e+03       10.0   \n",
       "25%    9.799998e+05  3.662100e+02  7.164700e+02 -9.725000e+02       10.0   \n",
       "50%    1.960000e+06  7.137100e+02  1.063970e+03 -4.750000e+02       10.0   \n",
       "75%    2.939999e+06  1.061210e+03  1.411470e+03  2.250000e+01       10.0   \n",
       "max    3.919999e+06  1.408710e+03  1.758970e+03  5.200000e+02       10.0   \n",
       "\n",
       "              dY         dZ      Porosity           kii           kjj  \\\n",
       "count  3920000.0  3920000.0  3.920000e+06  3.920000e+06  3.920000e+06   \n",
       "mean        10.0       10.0  2.577398e-02  3.122488e-15  3.122118e-15   \n",
       "std          0.0        0.0  4.437936e-02  6.534291e-15  6.534505e-15   \n",
       "min         10.0       10.0  2.902800e-04  1.050371e-18  9.349565e-19   \n",
       "25%         10.0       10.0  4.189503e-03  3.296985e-17  3.222510e-17   \n",
       "50%         10.0       10.0  5.182442e-03  4.602574e-17  4.555071e-17   \n",
       "75%         10.0       10.0  6.702098e-03  6.885364e-17  6.906129e-17   \n",
       "max         10.0       10.0  1.200000e-01  1.700000e-14  1.700000e-14   \n",
       "\n",
       "                kkk         block  \n",
       "count  3.920000e+06  3.920000e+06  \n",
       "mean   3.126365e-15  1.818545e+00  \n",
       "std    6.532680e-15  3.853948e-01  \n",
       "min    1.428325e-18  1.000000e+00  \n",
       "25%    3.611656e-17  2.000000e+00  \n",
       "50%    5.025345e-17  2.000000e+00  \n",
       "75%    7.486194e-17  2.000000e+00  \n",
       "max    1.700000e-14  2.000000e+00  "
      ]
     },
     "execution_count": 42,
     "metadata": {},
     "output_type": "execute_result"
    }
   ],
   "source": [
    "a.describe()"
   ]
  },
  {
   "cell_type": "code",
   "execution_count": null,
   "metadata": {},
   "outputs": [],
   "source": []
  },
  {
   "cell_type": "code",
   "execution_count": null,
   "metadata": {},
   "outputs": [],
   "source": []
  },
  {
   "cell_type": "code",
   "execution_count": null,
   "metadata": {},
   "outputs": [],
   "source": []
  },
  {
   "cell_type": "code",
   "execution_count": 56,
   "metadata": {},
   "outputs": [],
   "source": []
  },
  {
   "cell_type": "markdown",
   "metadata": {},
   "source": [
    "now can write the data to a CSV file."
   ]
  },
  {
   "cell_type": "code",
   "execution_count": 43,
   "metadata": {},
   "outputs": [],
   "source": [
    "a.to_csv(\"processed_local_large_well_3_1b_dfn.csv\", encoding='utf-8', index=False)"
   ]
  },
  {
   "cell_type": "code",
   "execution_count": 44,
   "metadata": {},
   "outputs": [],
   "source": [
    "a.describe().to_csv(\"processed_local_large_well_3_1b_dfn_Summary.csv\")"
   ]
  }
 ],
 "metadata": {
  "kernelspec": {
   "display_name": "Python 3",
   "language": "python",
   "name": "python3"
  },
  "language_info": {
   "codemirror_mode": {
    "name": "ipython",
    "version": 3
   },
   "file_extension": ".py",
   "mimetype": "text/x-python",
   "name": "python",
   "nbconvert_exporter": "python",
   "pygments_lexer": "ipython3",
   "version": "3.7.3"
  }
 },
 "nbformat": 4,
 "nbformat_minor": 2
}
